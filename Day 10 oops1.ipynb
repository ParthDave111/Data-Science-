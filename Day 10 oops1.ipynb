{
 "cells": [
  {
   "cell_type": "markdown",
   "id": "4374f2bb-3f4d-49e3-850b-4636410c8344",
   "metadata": {},
   "source": [
    "OOPS "
   ]
  },
  {
   "cell_type": "code",
   "execution_count": 1,
   "id": "8d5968ff-03c1-4783-b601-aa22e017a65a",
   "metadata": {},
   "outputs": [],
   "source": [
    "a= 1"
   ]
  },
  {
   "cell_type": "code",
   "execution_count": 2,
   "id": "360e8f8f-8f51-4f6d-a615-d9e87544e9f1",
   "metadata": {},
   "outputs": [
    {
     "name": "stdout",
     "output_type": "stream",
     "text": [
      "<class 'int'>\n"
     ]
    }
   ],
   "source": [
    "print(type(a))"
   ]
  },
  {
   "cell_type": "code",
   "execution_count": 3,
   "id": "86426437-ee3b-4183-8567-454902cb2e8b",
   "metadata": {},
   "outputs": [
    {
     "name": "stdout",
     "output_type": "stream",
     "text": [
      "<class 'str'>\n"
     ]
    }
   ],
   "source": [
    "print(type(\"parth\"))"
   ]
  },
  {
   "cell_type": "code",
   "execution_count": 1,
   "id": "e137819b-002d-46b4-8398-9da5de8c48cb",
   "metadata": {},
   "outputs": [],
   "source": [
    "# understanding this class and object \n",
    "# class --> entity storage  / classificiation of entity \n",
    "# class is used \n",
    "# object --> entity which needs to be placed \n"
   ]
  },
  {
   "cell_type": "code",
   "execution_count": 2,
   "id": "ba96e7c8-0a0c-4330-ba23-670a5b126022",
   "metadata": {},
   "outputs": [
    {
     "ename": "SyntaxError",
     "evalue": "incomplete input (3527747674.py, line 1)",
     "output_type": "error",
     "traceback": [
      "\u001b[0;36m  Cell \u001b[0;32mIn[2], line 1\u001b[0;36m\u001b[0m\n\u001b[0;31m    class test:\u001b[0m\n\u001b[0m               ^\u001b[0m\n\u001b[0;31mSyntaxError\u001b[0m\u001b[0;31m:\u001b[0m incomplete input\n"
     ]
    }
   ],
   "source": [
    "class test:"
   ]
  },
  {
   "cell_type": "code",
   "execution_count": 3,
   "id": "36292b74-ec3c-4b6e-a7fe-447af4a5af08",
   "metadata": {},
   "outputs": [],
   "source": [
    "class test:\n",
    "    pass"
   ]
  },
  {
   "cell_type": "code",
   "execution_count": 6,
   "id": "27ea9b9e-2317-4413-ba07-d931fc54e292",
   "metadata": {},
   "outputs": [],
   "source": [
    "# here a is object\n",
    "# variable / instace of class test \n",
    "a =test()"
   ]
  },
  {
   "cell_type": "code",
   "execution_count": 7,
   "id": "f2ad3ec3-7700-4eb4-b60f-0a2314e59eb8",
   "metadata": {},
   "outputs": [
    {
     "data": {
      "text/plain": [
       "__main__.test"
      ]
     },
     "execution_count": 7,
     "metadata": {},
     "output_type": "execute_result"
    }
   ],
   "source": [
    "type(a)"
   ]
  },
  {
   "cell_type": "code",
   "execution_count": 8,
   "id": "0cbfc9d5-2a7d-4dfb-acfa-2b6ffa669038",
   "metadata": {},
   "outputs": [
    {
     "name": "stdout",
     "output_type": "stream",
     "text": [
      "<class '__main__.test'>\n"
     ]
    }
   ],
   "source": [
    "print(type(a))\n",
    "# output means --> it belong to particular class -Test "
   ]
  },
  {
   "cell_type": "code",
   "execution_count": 17,
   "id": "ad8d1a31-7c87-450f-a817-7fcfc9f6e5a9",
   "metadata": {},
   "outputs": [],
   "source": [
    "class datasci:\n",
    "    \n",
    "    def welcome_msg(self):\n",
    "        print(\"Welcome to Data science world\")"
   ]
  },
  {
   "cell_type": "code",
   "execution_count": 18,
   "id": "1ae5ea32-6c83-481c-ab65-5bd36a13e871",
   "metadata": {},
   "outputs": [],
   "source": [
    "Parth = datasci()"
   ]
  },
  {
   "cell_type": "code",
   "execution_count": 19,
   "id": "d29caed0-ef2d-4282-b049-1ff585686a28",
   "metadata": {},
   "outputs": [
    {
     "name": "stdout",
     "output_type": "stream",
     "text": [
      "Welcome to Data science world\n"
     ]
    }
   ],
   "source": [
    "Parth.welcome_msg()"
   ]
  },
  {
   "cell_type": "code",
   "execution_count": 20,
   "id": "f3752943-8b8f-49ad-8a16-c5e08f13b4f2",
   "metadata": {},
   "outputs": [],
   "source": [
    "Parth2 =datasci()"
   ]
  },
  {
   "cell_type": "code",
   "execution_count": 22,
   "id": "6516850f-86ce-436e-b454-6e6491cff1f9",
   "metadata": {},
   "outputs": [
    {
     "name": "stdout",
     "output_type": "stream",
     "text": [
      "Welcome to Data science world\n"
     ]
    }
   ],
   "source": [
    "Parth2.welcome_msg()"
   ]
  },
  {
   "cell_type": "code",
   "execution_count": 23,
   "id": "f4affbd0-1a86-4f12-834b-5f2cffd90da2",
   "metadata": {},
   "outputs": [],
   "source": [
    "a=1 "
   ]
  },
  {
   "cell_type": "code",
   "execution_count": 24,
   "id": "0a41b96c-3bcb-41ac-8283-ba0a47b30d83",
   "metadata": {},
   "outputs": [],
   "source": [
    "b=1"
   ]
  },
  {
   "cell_type": "code",
   "execution_count": 26,
   "id": "c315d0f3-754e-4f1e-a5eb-73c46d74fab5",
   "metadata": {},
   "outputs": [
    {
     "data": {
      "text/plain": [
       "1"
      ]
     },
     "execution_count": 26,
     "metadata": {},
     "output_type": "execute_result"
    }
   ],
   "source": [
    "a"
   ]
  },
  {
   "cell_type": "code",
   "execution_count": 27,
   "id": "6adfcc66-5d2e-4d27-ab5f-2df22f5b2135",
   "metadata": {},
   "outputs": [
    {
     "data": {
      "text/plain": [
       "1"
      ]
     },
     "execution_count": 27,
     "metadata": {},
     "output_type": "execute_result"
    }
   ],
   "source": [
    "b"
   ]
  },
  {
   "cell_type": "code",
   "execution_count": 28,
   "id": "d10ffad9-31d5-4eac-825c-4baa2fd53ac1",
   "metadata": {},
   "outputs": [],
   "source": [
    "# constructor "
   ]
  },
  {
   "cell_type": "code",
   "execution_count": 47,
   "id": "5c4325ca-4e05-49f1-86cc-b5210f59c603",
   "metadata": {},
   "outputs": [],
   "source": [
    "class data_sci:  \n",
    "    \n",
    "    def _init_(self,phone_number, email_id,student_id):\n",
    "        \n",
    "        self.phone_number = phone_number\n",
    "        self.email_id = email_id\n",
    "        self.student_id = student_id  \n",
    "    \n",
    "    def return_student_details(self):\n",
    "        return self.phone_number, self.email_id, self.student_id"
   ]
  },
  {
   "cell_type": "code",
   "execution_count": 48,
   "id": "6519619b-a60a-4568-8662-74eee94165f1",
   "metadata": {},
   "outputs": [
    {
     "ename": "TypeError",
     "evalue": "data_sci() takes no arguments",
     "output_type": "error",
     "traceback": [
      "\u001b[0;31m---------------------------------------------------------------------------\u001b[0m",
      "\u001b[0;31mTypeError\u001b[0m                                 Traceback (most recent call last)",
      "Cell \u001b[0;32mIn[48], line 1\u001b[0m\n\u001b[0;32m----> 1\u001b[0m parth\u001b[38;5;241m=\u001b[39m\u001b[43mdata_sci\u001b[49m\u001b[43m(\u001b[49m\u001b[38;5;241;43m1234\u001b[39;49m\u001b[43m,\u001b[49m\u001b[43m \u001b[49m\u001b[38;5;124;43m\"\u001b[39;49m\u001b[38;5;124;43mabc@gmail.com\u001b[39;49m\u001b[38;5;124;43m\"\u001b[39;49m\u001b[43m,\u001b[49m\u001b[43m \u001b[49m\u001b[38;5;241;43m100\u001b[39;49m\u001b[43m)\u001b[49m\n",
      "\u001b[0;31mTypeError\u001b[0m: data_sci() takes no arguments"
     ]
    }
   ],
   "source": [
    "parth=data_sci(1234, \"abc@gmail.com\", 100)"
   ]
  },
  {
   "cell_type": "code",
   "execution_count": 49,
   "id": "e95b99bd-c9a9-4453-a27d-1212e90ef04a",
   "metadata": {},
   "outputs": [
    {
     "data": {
      "text/plain": [
       "<__main__.data at 0x7f393c2daad0>"
      ]
     },
     "execution_count": 49,
     "metadata": {},
     "output_type": "execute_result"
    }
   ],
   "source": [
    "data()"
   ]
  },
  {
   "cell_type": "code",
   "execution_count": 50,
   "id": "98fe318e-f7c4-4741-a07a-ecdc554ce8f5",
   "metadata": {},
   "outputs": [
    {
     "data": {
      "text/plain": [
       "__main__.data"
      ]
     },
     "execution_count": 50,
     "metadata": {},
     "output_type": "execute_result"
    }
   ],
   "source": [
    "data"
   ]
  },
  {
   "cell_type": "code",
   "execution_count": 1,
   "id": "8104e53c-17e4-4c6b-b3b8-46a70ec2746a",
   "metadata": {},
   "outputs": [],
   "source": [
    "class ds1:\n",
    "    \n",
    "    def __init__(self ,phone_number , email_id, student_id ):\n",
    "        \n",
    "        self.phone_number = phone_number\n",
    "        self.email_id = email_id\n",
    "        self.student_id = student_id\n",
    "        \n",
    "    \n",
    "    def return_student_detials(self):\n",
    "        return self.phone_number, self.email_id , self.student_id"
   ]
  },
  {
   "cell_type": "code",
   "execution_count": 2,
   "id": "1beeb25a-84ee-441a-a16b-61854ec4d4fb",
   "metadata": {},
   "outputs": [],
   "source": [
    "parth=ds1(1234, \"abc@gmail.com\", 100)"
   ]
  },
  {
   "cell_type": "code",
   "execution_count": 3,
   "id": "8175e3d8-34d8-4933-b9a4-6b5e1dc89e94",
   "metadata": {},
   "outputs": [
    {
     "data": {
      "text/plain": [
       "__main__.ds1"
      ]
     },
     "execution_count": 3,
     "metadata": {},
     "output_type": "execute_result"
    }
   ],
   "source": [
    "ds1"
   ]
  },
  {
   "cell_type": "code",
   "execution_count": 13,
   "id": "a0086657-b696-47c6-8d57-ad28393a7ab2",
   "metadata": {},
   "outputs": [
    {
     "data": {
      "text/plain": [
       "1234"
      ]
     },
     "execution_count": 13,
     "metadata": {},
     "output_type": "execute_result"
    }
   ],
   "source": [
    "parth.phone_number"
   ]
  },
  {
   "cell_type": "code",
   "execution_count": 14,
   "id": "cc7e6ed0-7ebe-4da2-9f5c-45fd1ffe34e5",
   "metadata": {},
   "outputs": [
    {
     "data": {
      "text/plain": [
       "'abc@gmail.com'"
      ]
     },
     "execution_count": 14,
     "metadata": {},
     "output_type": "execute_result"
    }
   ],
   "source": [
    "parth.email_id"
   ]
  },
  {
   "cell_type": "code",
   "execution_count": 15,
   "id": "5d7b2b61-aa92-42bf-8b1a-d9d7710b625b",
   "metadata": {},
   "outputs": [
    {
     "data": {
      "text/plain": [
       "100"
      ]
     },
     "execution_count": 15,
     "metadata": {},
     "output_type": "execute_result"
    }
   ],
   "source": [
    "parth.student_id"
   ]
  },
  {
   "cell_type": "code",
   "execution_count": 16,
   "id": "c752e66a-f6b1-4c9e-948d-381d6dfdf60b",
   "metadata": {},
   "outputs": [],
   "source": [
    "parth2 =ds1(95435665, \"rohan@gmail.com\" , 101)"
   ]
  },
  {
   "cell_type": "code",
   "execution_count": 17,
   "id": "8ad44136-4fbe-4f01-8e22-e32c566acbdf",
   "metadata": {},
   "outputs": [
    {
     "data": {
      "text/plain": [
       "95435665"
      ]
     },
     "execution_count": 17,
     "metadata": {},
     "output_type": "execute_result"
    }
   ],
   "source": [
    "parth2.phone_number"
   ]
  },
  {
   "cell_type": "code",
   "execution_count": 21,
   "id": "107dfe82-a032-43b2-ab5a-82b79eabc662",
   "metadata": {},
   "outputs": [],
   "source": [
    "class ds2:\n",
    "    \n",
    "    def __init__(student ,phone_number , email_id, student_id ):\n",
    "        \n",
    "        student.phone_number = phone_number\n",
    "        student.email_id = email_id\n",
    "        student.student_id = student_id\n",
    "        \n",
    "    \n",
    "    def return_student_detials(student):\n",
    "        return student.phone_number, student.email_id , student.student_id\n",
    "    "
   ]
  },
  {
   "cell_type": "code",
   "execution_count": 22,
   "id": "660ecb33-3d54-4237-bef2-7f68100d2eca",
   "metadata": {},
   "outputs": [],
   "source": [
    "mohan = ds2(99699579567, \"mohan@gmail.com\" , 234)\n"
   ]
  },
  {
   "cell_type": "code",
   "execution_count": 26,
   "id": "b9b47ef8-e249-4d5a-aac3-90646fdccdfa",
   "metadata": {},
   "outputs": [
    {
     "data": {
      "text/plain": [
       "(99699579567, 'mohan@gmail.com', 234)"
      ]
     },
     "execution_count": 26,
     "metadata": {},
     "output_type": "execute_result"
    }
   ],
   "source": [
    "mohan.return_student_detials()"
   ]
  },
  {
   "cell_type": "code",
   "execution_count": 27,
   "id": "349fb756-90b4-4ba7-a15d-8bf105486a82",
   "metadata": {},
   "outputs": [],
   "source": [
    "class ds3:\n",
    "    \n",
    "    def __init__(student ,phone_number , email_id, student_id ):\n",
    "        \n",
    "        student.phone_number = phone_number\n",
    "        student.email_id = email_id\n",
    "        student.student_id = student_id\n",
    "        \n",
    "    \n",
    "    def return_student_detials(student):\n",
    "        return student.phone_number, student.email_id , student.student_id"
   ]
  },
  {
   "cell_type": "code",
   "execution_count": 28,
   "id": "99cc8ad9-9549-46a9-8f35-600485870cb9",
   "metadata": {},
   "outputs": [],
   "source": [
    "rohan = ds3( 1234,\"rohan@gmail.com\", 123)"
   ]
  },
  {
   "cell_type": "code",
   "execution_count": 29,
   "id": "d1e3f9b9-366e-4775-a119-bf5821aca0c8",
   "metadata": {},
   "outputs": [
    {
     "data": {
      "text/plain": [
       "1234"
      ]
     },
     "execution_count": 29,
     "metadata": {},
     "output_type": "execute_result"
    }
   ],
   "source": [
    "rohan.phone_number"
   ]
  },
  {
   "cell_type": "code",
   "execution_count": 30,
   "id": "0c61ea76-3748-44ed-a831-b9d2ce4c6d5d",
   "metadata": {},
   "outputs": [],
   "source": [
    "## Variable = class assignment "
   ]
  },
  {
   "cell_type": "code",
   "execution_count": null,
   "id": "0756e84e-610e-4eae-a588-53669edf0fe6",
   "metadata": {},
   "outputs": [],
   "source": []
  }
 ],
 "metadata": {
  "kernelspec": {
   "display_name": "Python 3 (ipykernel)",
   "language": "python",
   "name": "python3"
  },
  "language_info": {
   "codemirror_mode": {
    "name": "ipython",
    "version": 3
   },
   "file_extension": ".py",
   "mimetype": "text/x-python",
   "name": "python",
   "nbconvert_exporter": "python",
   "pygments_lexer": "ipython3",
   "version": "3.10.8"
  }
 },
 "nbformat": 4,
 "nbformat_minor": 5
}
