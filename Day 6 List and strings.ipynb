{
 "cells": [
  {
   "cell_type": "code",
   "execution_count": 5,
   "id": "bf6f30a4-b209-43c2-af14-4e887328fbfa",
   "metadata": {},
   "outputs": [
    {
     "name": "stdin",
     "output_type": "stream",
     "text": [
      "Enter the trinagle length ; 11\n"
     ]
    },
    {
     "name": "stdout",
     "output_type": "stream",
     "text": [
      "           * \n",
      "          * * \n",
      "         * * * * \n",
      "        * * * * * * \n",
      "       * * * * * * * * \n",
      "      * * * * * * * * * * \n",
      "     * * * * * * * * * * * * \n",
      "    * * * * * * * * * * * * * * \n",
      "   * * * * * * * * * * * * * * * * \n",
      "  * * * * * * * * * * * * * * * * * * \n",
      " * * * * * * * * * * * * * * * * * * * * \n"
     ]
    }
   ],
   "source": [
    "## Python TRIANGLE CODE\n",
    "size = int(input(\"Enter the trinagle length ;\"))\n",
    "for i in range(size):\n",
    "    for j in range(size-i):\n",
    "        print(\"\",end=\" \")\n",
    "    for k in range(i+1):\n",
    "        print(\"*\",end=\" \")\n",
    "    for m in range(k-1):\n",
    "        print(\"*\",end=\" \")\n",
    "    print()"
   ]
  },
  {
   "cell_type": "code",
   "execution_count": 1,
   "id": "81cc3b52-0cbf-420d-ae3f-4e2579291c0f",
   "metadata": {},
   "outputs": [],
   "source": [
    "name=\"Data science\""
   ]
  },
  {
   "cell_type": "code",
   "execution_count": 7,
   "id": "89c21b70-303b-42b3-9117-bd4bc080f483",
   "metadata": {},
   "outputs": [
    {
     "data": {
      "text/plain": [
       "'dATA SCIENCE'"
      ]
     },
     "execution_count": 7,
     "metadata": {},
     "output_type": "execute_result"
    }
   ],
   "source": [
    "name.swapcase()"
   ]
  },
  {
   "cell_type": "code",
   "execution_count": 8,
   "id": "3eef4763-2df2-43bb-a1b4-5f08a0f6ca41",
   "metadata": {},
   "outputs": [
    {
     "data": {
      "text/plain": [
       "'Data Science'"
      ]
     },
     "execution_count": 8,
     "metadata": {},
     "output_type": "execute_result"
    }
   ],
   "source": [
    "name.title()"
   ]
  },
  {
   "cell_type": "code",
   "execution_count": 9,
   "id": "4964aab9-5fa2-4fda-a442-7562d315a02a",
   "metadata": {},
   "outputs": [
    {
     "data": {
      "text/plain": [
       "'Data science'"
      ]
     },
     "execution_count": 9,
     "metadata": {},
     "output_type": "execute_result"
    }
   ],
   "source": [
    "#first character will be capitalize \n",
    "name.capitalize()"
   ]
  },
  {
   "cell_type": "markdown",
   "id": "07909521-93ad-4aa3-a310-847a7bfc4d1f",
   "metadata": {},
   "source": [
    "## Reverisng a string "
   ]
  },
  {
   "cell_type": "code",
   "execution_count": 10,
   "id": "8010e91e-fa6e-4168-84be-86f2b55296b6",
   "metadata": {},
   "outputs": [
    {
     "data": {
      "text/plain": [
       "'ecneics ataD'"
      ]
     },
     "execution_count": 10,
     "metadata": {},
     "output_type": "execute_result"
    }
   ],
   "source": [
    "name[::-1]"
   ]
  },
  {
   "cell_type": "code",
   "execution_count": 12,
   "id": "235af0e5-35e8-4f5c-a971-0707d525fcc0",
   "metadata": {},
   "outputs": [
    {
     "data": {
      "text/plain": [
       "<reversed at 0x7feff6c46c50>"
      ]
     },
     "execution_count": 12,
     "metadata": {},
     "output_type": "execute_result"
    }
   ],
   "source": [
    "# object stored at memory location\n",
    "reversed(name)"
   ]
  },
  {
   "cell_type": "code",
   "execution_count": 2,
   "id": "11271439-60ee-4a55-a04b-dbd7d8bc3a9e",
   "metadata": {},
   "outputs": [
    {
     "data": {
      "text/plain": [
       "'e c n e i c s   a t a D'"
      ]
     },
     "execution_count": 2,
     "metadata": {},
     "output_type": "execute_result"
    }
   ],
   "source": [
    "' '.join(reversed(name))"
   ]
  },
  {
   "cell_type": "code",
   "execution_count": 4,
   "id": "8fd88ff5-694b-4ac2-838b-5fa75c87b9b4",
   "metadata": {},
   "outputs": [
    {
     "data": {
      "text/plain": [
       "'SDatacDataiDataeDatanDatacDatae'"
      ]
     },
     "execution_count": 4,
     "metadata": {},
     "output_type": "execute_result"
    }
   ],
   "source": [
    "\"Data\".join(\"Science\")"
   ]
  },
  {
   "cell_type": "code",
   "execution_count": 5,
   "id": "26fa082b-6b70-4f8a-9fe1-694c1a17101a",
   "metadata": {},
   "outputs": [
    {
     "data": {
      "text/plain": [
       "'a b c d'"
      ]
     },
     "execution_count": 5,
     "metadata": {},
     "output_type": "execute_result"
    }
   ],
   "source": [
    "\" \".join(\"abcd\")"
   ]
  },
  {
   "cell_type": "code",
   "execution_count": 6,
   "id": "4daa0cfa-a1d5-4abc-8f0b-89809fb10f7e",
   "metadata": {},
   "outputs": [
    {
     "data": {
      "text/plain": [
       "'Pxxaxxrxxtxxh'"
      ]
     },
     "execution_count": 6,
     "metadata": {},
     "output_type": "execute_result"
    }
   ],
   "source": [
    "\"xx\".join(\"Parth\")"
   ]
  },
  {
   "cell_type": "code",
   "execution_count": 8,
   "id": "30c84d19-217e-4aaa-8447-2ed340526824",
   "metadata": {},
   "outputs": [
    {
     "data": {
      "text/plain": [
       "'h t r a P'"
      ]
     },
     "execution_count": 8,
     "metadata": {},
     "output_type": "execute_result"
    }
   ],
   "source": [
    "\" \".join(reversed(\"Parth\"))"
   ]
  },
  {
   "cell_type": "code",
   "execution_count": 10,
   "id": "91dd7d62-b807-4ff6-9f6a-1f5611b59975",
   "metadata": {},
   "outputs": [
    {
     "data": {
      "text/plain": [
       "'hData tData rData aData P'"
      ]
     },
     "execution_count": 10,
     "metadata": {},
     "output_type": "execute_result"
    }
   ],
   "source": [
    "\"Data \".join(reversed(\"Parth\"))"
   ]
  },
  {
   "cell_type": "code",
   "execution_count": 11,
   "id": "1fb5cb1a-20f1-44de-a311-c383a9ac788e",
   "metadata": {},
   "outputs": [
    {
     "data": {
      "text/plain": [
       "<reversed at 0x7fc45c43f010>"
      ]
     },
     "execution_count": 11,
     "metadata": {},
     "output_type": "execute_result"
    }
   ],
   "source": [
    "reversed(\"ant\")"
   ]
  },
  {
   "cell_type": "code",
   "execution_count": 12,
   "id": "fb66797b-462c-4a5b-ade7-d4d360962415",
   "metadata": {},
   "outputs": [
    {
     "data": {
      "text/plain": [
       "['t', 'n', 'a']"
      ]
     },
     "execution_count": 12,
     "metadata": {},
     "output_type": "execute_result"
    }
   ],
   "source": [
    "list(reversed(\"ant\"))"
   ]
  },
  {
   "cell_type": "code",
   "execution_count": 13,
   "id": "b9d0b1a4-ea2f-4faa-9023-391c851d7ce4",
   "metadata": {},
   "outputs": [],
   "source": [
    "str1=\"ABC\" "
   ]
  },
  {
   "cell_type": "code",
   "execution_count": 15,
   "id": "b65d2ed7-1c7b-4b36-9393-281c56d7c6fb",
   "metadata": {},
   "outputs": [
    {
     "data": {
      "text/plain": [
       "'AmmBmmC'"
      ]
     },
     "execution_count": 15,
     "metadata": {},
     "output_type": "execute_result"
    }
   ],
   "source": [
    "\"mm\".join(str1)"
   ]
  },
  {
   "cell_type": "code",
   "execution_count": 16,
   "id": "b6b49588-ec1c-4c55-867d-2902539b4b54",
   "metadata": {},
   "outputs": [
    {
     "name": "stdout",
     "output_type": "stream",
     "text": [
      "e c n e i c s   a t a D "
     ]
    }
   ],
   "source": [
    "for i in list(reversed(name)):\n",
    "    print(i,end=' ')"
   ]
  },
  {
   "cell_type": "code",
   "execution_count": 19,
   "id": "4e5deb66-06db-431f-9f9a-93e8d42a4b7c",
   "metadata": {},
   "outputs": [],
   "source": [
    "# REMOVING SPACE - white space removal "
   ]
  },
  {
   "cell_type": "code",
   "execution_count": 17,
   "id": "d5b068d3-43c1-4412-9fbb-07217dc09a17",
   "metadata": {},
   "outputs": [],
   "source": [
    "string_a =\" MBA \""
   ]
  },
  {
   "cell_type": "code",
   "execution_count": 20,
   "id": "09f67115-99cb-41df-b4fe-a89f6b614857",
   "metadata": {},
   "outputs": [
    {
     "data": {
      "text/plain": [
       "'MBA'"
      ]
     },
     "execution_count": 20,
     "metadata": {},
     "output_type": "execute_result"
    }
   ],
   "source": [
    "string_a.strip()"
   ]
  },
  {
   "cell_type": "code",
   "execution_count": 21,
   "id": "d1b4e702-b49d-45ba-a3ad-725f719c7435",
   "metadata": {},
   "outputs": [
    {
     "data": {
      "text/plain": [
       "'MBA '"
      ]
     },
     "execution_count": 21,
     "metadata": {},
     "output_type": "execute_result"
    }
   ],
   "source": [
    "# leading white space removal \n",
    "string_a.lstrip()"
   ]
  },
  {
   "cell_type": "code",
   "execution_count": 22,
   "id": "6c4976be-99e2-41a9-9d08-fd02abda0d01",
   "metadata": {},
   "outputs": [
    {
     "data": {
      "text/plain": [
       "' MBA'"
      ]
     },
     "execution_count": 22,
     "metadata": {},
     "output_type": "execute_result"
    }
   ],
   "source": [
    "# removing last white space\n",
    "string_a.rstrip(\" \")"
   ]
  },
  {
   "cell_type": "code",
   "execution_count": 24,
   "id": "5f8a1779-d537-4756-9b32-13a038de8e17",
   "metadata": {},
   "outputs": [],
   "source": [
    "string_n=\"Greeting to Parth\"\n",
    "var_a=string_n.replace(\"to\",\"from\")"
   ]
  },
  {
   "cell_type": "code",
   "execution_count": 25,
   "id": "14efd9dc-9bea-4a09-85a5-1cffaeaa738c",
   "metadata": {},
   "outputs": [
    {
     "name": "stdout",
     "output_type": "stream",
     "text": [
      "140481337659904\n",
      "140481337570800\n"
     ]
    }
   ],
   "source": [
    "# strings are immutable , so you see 2 different address \n",
    "print(id(string_n))\n",
    "print(id(var_a))"
   ]
  },
  {
   "cell_type": "code",
   "execution_count": 26,
   "id": "3faddcda-ce26-4b4d-9fb3-893273b34c35",
   "metadata": {},
   "outputs": [
    {
     "data": {
      "text/plain": [
       "'hello \\tworld'"
      ]
     },
     "execution_count": 26,
     "metadata": {},
     "output_type": "execute_result"
    }
   ],
   "source": [
    "'hello \\tworld'"
   ]
  },
  {
   "cell_type": "code",
   "execution_count": 28,
   "id": "6960e8cb-c413-47e8-84a2-cdca68e80cee",
   "metadata": {},
   "outputs": [
    {
     "data": {
      "text/plain": [
       "'hello   world'"
      ]
     },
     "execution_count": 28,
     "metadata": {},
     "output_type": "execute_result"
    }
   ],
   "source": [
    "'hello \\tworld'.expandtabs()"
   ]
  },
  {
   "cell_type": "code",
   "execution_count": 29,
   "id": "9c9eeb4b-08d0-4c4c-9991-34fb3c747a9b",
   "metadata": {},
   "outputs": [
    {
     "data": {
      "text/plain": [
       "'hello \\nworld'"
      ]
     },
     "execution_count": 29,
     "metadata": {},
     "output_type": "execute_result"
    }
   ],
   "source": [
    "'hello \\nworld'.expandtabs()"
   ]
  },
  {
   "cell_type": "code",
   "execution_count": 30,
   "id": "cef8c025-ff7d-48db-aaa7-7ab1186e7b6d",
   "metadata": {},
   "outputs": [],
   "source": [
    "str1=\"welcome to data science. welcome to adv machine learning\""
   ]
  },
  {
   "cell_type": "code",
   "execution_count": 32,
   "id": "b3b4d0b7-ff31-4c31-acd8-819c84b13889",
   "metadata": {},
   "outputs": [
    {
     "data": {
      "text/plain": [
       "'welcome to data science. welcome to advance machine learning and AI'"
      ]
     },
     "execution_count": 32,
     "metadata": {},
     "output_type": "execute_result"
    }
   ],
   "source": [
    "str1.replace(\"adv\", \"advance\").replace(\"learning\", \"learning and AI\")"
   ]
  },
  {
   "cell_type": "code",
   "execution_count": 33,
   "id": "6ea521ff-e926-4f38-911d-de637ff2ce86",
   "metadata": {},
   "outputs": [],
   "source": [
    "str1=\"Parth\""
   ]
  },
  {
   "cell_type": "code",
   "execution_count": 34,
   "id": "42cf7895-b0eb-47ed-9be1-b13fc8c85d32",
   "metadata": {},
   "outputs": [
    {
     "data": {
      "text/plain": [
       "False"
      ]
     },
     "execution_count": 34,
     "metadata": {},
     "output_type": "execute_result"
    }
   ],
   "source": [
    "str1.isupper()"
   ]
  },
  {
   "cell_type": "code",
   "execution_count": 35,
   "id": "03569da5-5a8e-490a-bba3-fcd5530f296d",
   "metadata": {},
   "outputs": [
    {
     "data": {
      "text/plain": [
       "False"
      ]
     },
     "execution_count": 35,
     "metadata": {},
     "output_type": "execute_result"
    }
   ],
   "source": [
    "str1.islower()"
   ]
  },
  {
   "cell_type": "code",
   "execution_count": 36,
   "id": "a34cf35f-8d16-423a-bb38-7d6bdcf0fd09",
   "metadata": {},
   "outputs": [],
   "source": [
    "str1=\"PARTH\""
   ]
  },
  {
   "cell_type": "code",
   "execution_count": 37,
   "id": "a611dab7-2b19-4480-b130-9b17610c48e3",
   "metadata": {},
   "outputs": [
    {
     "data": {
      "text/plain": [
       "True"
      ]
     },
     "execution_count": 37,
     "metadata": {},
     "output_type": "execute_result"
    }
   ],
   "source": [
    "str1.isupper()"
   ]
  },
  {
   "cell_type": "code",
   "execution_count": 38,
   "id": "c47edb2c-e38a-4704-8532-eb53b79aff8f",
   "metadata": {},
   "outputs": [],
   "source": [
    "str1=\" \""
   ]
  },
  {
   "cell_type": "code",
   "execution_count": 40,
   "id": "c3f978bf-8d39-4b7a-b530-df02852704e5",
   "metadata": {},
   "outputs": [
    {
     "data": {
      "text/plain": [
       "True"
      ]
     },
     "execution_count": 40,
     "metadata": {},
     "output_type": "execute_result"
    }
   ],
   "source": [
    "' '.isspace()"
   ]
  },
  {
   "cell_type": "code",
   "execution_count": 41,
   "id": "5b2b7f06-1409-456b-99d4-016c88af79ab",
   "metadata": {},
   "outputs": [
    {
     "name": "stdout",
     "output_type": "stream",
     "text": [
      "string is blank\n"
     ]
    }
   ],
   "source": [
    "if ' '.isspace():\n",
    "    print(\"string is blank\")"
   ]
  },
  {
   "cell_type": "code",
   "execution_count": 9,
   "id": "14f82637-a4ee-4563-a6b1-02d3065dfca3",
   "metadata": {},
   "outputs": [],
   "source": [
    "str2=\"Parth\""
   ]
  },
  {
   "cell_type": "code",
   "execution_count": 44,
   "id": "b20b8552-c156-4395-9a1f-43d725337144",
   "metadata": {},
   "outputs": [
    {
     "data": {
      "text/plain": [
       "True"
      ]
     },
     "execution_count": 44,
     "metadata": {},
     "output_type": "execute_result"
    }
   ],
   "source": [
    "str2.endswith(\"h\")"
   ]
  },
  {
   "cell_type": "code",
   "execution_count": 45,
   "id": "b7c5b76c-1491-403a-8f2d-14a019950ec4",
   "metadata": {},
   "outputs": [
    {
     "data": {
      "text/plain": [
       "False"
      ]
     },
     "execution_count": 45,
     "metadata": {},
     "output_type": "execute_result"
    }
   ],
   "source": [
    "str2.endswith(\"H\")"
   ]
  },
  {
   "cell_type": "code",
   "execution_count": 46,
   "id": "04a8bb1d-20c1-4796-ae2b-35fdc169f663",
   "metadata": {},
   "outputs": [
    {
     "data": {
      "text/plain": [
       "False"
      ]
     },
     "execution_count": 46,
     "metadata": {},
     "output_type": "execute_result"
    }
   ],
   "source": [
    "str2.startswith(\"H\")"
   ]
  },
  {
   "cell_type": "code",
   "execution_count": 47,
   "id": "f62b1968-a3f3-4788-8004-1fa6d555ad0b",
   "metadata": {},
   "outputs": [
    {
     "data": {
      "text/plain": [
       "True"
      ]
     },
     "execution_count": 47,
     "metadata": {},
     "output_type": "execute_result"
    }
   ],
   "source": [
    "str2.startswith(\"P\")"
   ]
  },
  {
   "cell_type": "code",
   "execution_count": 48,
   "id": "c72837fe-a717-41df-bc22-9b708d8820a5",
   "metadata": {},
   "outputs": [
    {
     "data": {
      "text/plain": [
       "True"
      ]
     },
     "execution_count": 48,
     "metadata": {},
     "output_type": "execute_result"
    }
   ],
   "source": [
    "## check if all the char in strings are alphanumeric \n",
    "a=\"abcd1234\"\n",
    "a.isalnum()"
   ]
  },
  {
   "cell_type": "code",
   "execution_count": 49,
   "id": "076fae43-0a27-4fea-9777-b30883c98efe",
   "metadata": {},
   "outputs": [],
   "source": [
    "## code to count number of char in strings\n"
   ]
  },
  {
   "cell_type": "code",
   "execution_count": 52,
   "id": "ebca0058-0e39-42d9-850c-5c492a55ec70",
   "metadata": {},
   "outputs": [
    {
     "name": "stdout",
     "output_type": "stream",
     "text": [
      "8\n"
     ]
    }
   ],
   "source": [
    "count=0\n",
    "for i in a:\n",
    "    count=count+1\n",
    "print(count)"
   ]
  },
  {
   "cell_type": "code",
   "execution_count": 53,
   "id": "6caade97-bbc0-4e39-b1ec-e0be1e4cfcdb",
   "metadata": {},
   "outputs": [
    {
     "data": {
      "text/plain": [
       "8"
      ]
     },
     "execution_count": 53,
     "metadata": {},
     "output_type": "execute_result"
    }
   ],
   "source": [
    "len(a)"
   ]
  },
  {
   "cell_type": "code",
   "execution_count": 54,
   "id": "1407fcc4-6fc1-4700-a74d-2e0e12ae5b35",
   "metadata": {},
   "outputs": [
    {
     "name": "stdout",
     "output_type": "stream",
     "text": [
      "P\n",
      "a\n",
      "r\n",
      "t\n",
      "h\n"
     ]
    }
   ],
   "source": [
    "for i in str2:\n",
    "    print(i)"
   ]
  },
  {
   "cell_type": "code",
   "execution_count": 55,
   "id": "b7bbce43-6344-483b-b347-c2b672ab7f3f",
   "metadata": {},
   "outputs": [
    {
     "name": "stdout",
     "output_type": "stream",
     "text": [
      "P\n",
      "a\n",
      "r\n",
      "t\n",
      "h\n"
     ]
    }
   ],
   "source": [
    "for i in range(len(str2)):\n",
    "    print(str2[i])"
   ]
  },
  {
   "cell_type": "code",
   "execution_count": 57,
   "id": "bc8797b6-8299-49d9-87c8-62dcd525c7c6",
   "metadata": {},
   "outputs": [
    {
     "data": {
      "text/plain": [
       "range(0, 5)"
      ]
     },
     "execution_count": 57,
     "metadata": {},
     "output_type": "execute_result"
    }
   ],
   "source": [
    "range(len(str2))\n"
   ]
  },
  {
   "cell_type": "raw",
   "id": "0c0b46c5-f3ad-44eb-beb6-6ed21f9c86a9",
   "metadata": {},
   "source": []
  },
  {
   "cell_type": "code",
   "execution_count": 58,
   "id": "299ad1f3-90c6-46df-a094-f3d5749994f4",
   "metadata": {},
   "outputs": [
    {
     "name": "stdout",
     "output_type": "stream",
     "text": [
      "0 = P\n",
      "1 = a\n",
      "2 = r\n",
      "3 = t\n",
      "4 = h\n"
     ]
    }
   ],
   "source": [
    "for i in range(len(str2)):\n",
    "    print(i,\"=\",str2[i])"
   ]
  },
  {
   "cell_type": "code",
   "execution_count": null,
   "id": "86f2ef76-2619-4af3-bb2e-b1cec1620942",
   "metadata": {},
   "outputs": [],
   "source": [
    "## if you keep on declaring variable, it is gono consume extra space . Code in such a way it can be optimized"
   ]
  },
  {
   "cell_type": "code",
   "execution_count": null,
   "id": "036276ae-b372-4c3a-8a30-e380a2838d20",
   "metadata": {},
   "outputs": [],
   "source": [
    "# we can use index to iterate string reverse direction "
   ]
  },
  {
   "cell_type": "code",
   "execution_count": 59,
   "id": "2457eed5-6c83-4cb8-a07f-a2d257fe86ac",
   "metadata": {},
   "outputs": [
    {
     "name": "stdout",
     "output_type": "stream",
     "text": [
      "0 = h\n",
      "1 = h\n",
      "2 = h\n",
      "3 = h\n",
      "4 = h\n"
     ]
    }
   ],
   "source": [
    "for i in range(len(str2)):\n",
    "    print(i,\"=\",str2[-1])"
   ]
  },
  {
   "cell_type": "code",
   "execution_count": 62,
   "id": "bbf622a7-f068-46d8-a0fd-ad6a904aec41",
   "metadata": {},
   "outputs": [
    {
     "ename": "TypeError",
     "evalue": "range expected at most 3 arguments, got 4",
     "output_type": "error",
     "traceback": [
      "\u001b[0;31m---------------------------------------------------------------------------\u001b[0m",
      "\u001b[0;31mTypeError\u001b[0m                                 Traceback (most recent call last)",
      "Cell \u001b[0;32mIn[62], line 1\u001b[0m\n\u001b[0;32m----> 1\u001b[0m \u001b[38;5;28;01mfor\u001b[39;00m i \u001b[38;5;129;01min\u001b[39;00m \u001b[38;5;28;43mrange\u001b[39;49m\u001b[43m(\u001b[49m\u001b[38;5;28;43mlen\u001b[39;49m\u001b[43m(\u001b[49m\u001b[43mstr2\u001b[49m\u001b[43m)\u001b[49m\u001b[43m,\u001b[49m\u001b[38;5;241;43m-\u001b[39;49m\u001b[38;5;241;43m1\u001b[39;49m\u001b[43m,\u001b[49m\u001b[38;5;241;43m-\u001b[39;49m\u001b[38;5;241;43m1\u001b[39;49m\u001b[43m,\u001b[49m\u001b[38;5;241;43m-\u001b[39;49m\u001b[38;5;241;43m1\u001b[39;49m\u001b[43m)\u001b[49m:\n\u001b[1;32m      2\u001b[0m     \u001b[38;5;28mprint\u001b[39m(str2[i])\n",
      "\u001b[0;31mTypeError\u001b[0m: range expected at most 3 arguments, got 4"
     ]
    }
   ],
   "source": [
    "for i in range(len(str2),-1,-1,-1):\n",
    "    print(str2[i])"
   ]
  },
  {
   "cell_type": "code",
   "execution_count": 60,
   "id": "22212236-2f59-49fa-b5ad-f7c252375ebe",
   "metadata": {},
   "outputs": [
    {
     "data": {
      "text/plain": [
       "4"
      ]
     },
     "execution_count": 60,
     "metadata": {},
     "output_type": "execute_result"
    }
   ],
   "source": [
    "(len(str2)-1)"
   ]
  },
  {
   "cell_type": "code",
   "execution_count": 63,
   "id": "1641934c-63ba-49de-a022-6c31c3ce6aa2",
   "metadata": {},
   "outputs": [],
   "source": [
    "string=\"Parth\"\n",
    "ch=len(string)-1"
   ]
  },
  {
   "cell_type": "code",
   "execution_count": 64,
   "id": "8036d2e9-40d4-46ff-bd3b-3ed09c70956c",
   "metadata": {},
   "outputs": [
    {
     "data": {
      "text/plain": [
       "4"
      ]
     },
     "execution_count": 64,
     "metadata": {},
     "output_type": "execute_result"
    }
   ],
   "source": [
    "ch"
   ]
  },
  {
   "cell_type": "code",
   "execution_count": 65,
   "id": "46a75892-af97-4827-a3d5-dcfd92328d06",
   "metadata": {},
   "outputs": [
    {
     "name": "stdout",
     "output_type": "stream",
     "text": [
      "h\n",
      "t\n",
      "r\n",
      "a\n",
      "P\n"
     ]
    }
   ],
   "source": [
    "while ch>=0:\n",
    "    print(string[ch])\n",
    "    ch=ch-1"
   ]
  },
  {
   "cell_type": "code",
   "execution_count": 73,
   "id": "cf1eae91-4941-4c93-9c1e-18c7f0d45feb",
   "metadata": {},
   "outputs": [
    {
     "data": {
      "text/plain": [
       "('h', 't', 'r')"
      ]
     },
     "execution_count": 73,
     "metadata": {},
     "output_type": "execute_result"
    }
   ],
   "source": [
    "string[4],string[3],string[2]"
   ]
  },
  {
   "cell_type": "code",
   "execution_count": 74,
   "id": "fa2b2b16-43dd-4c97-a8ee-327b416ec418",
   "metadata": {},
   "outputs": [],
   "source": [
    "name=\"Data science\"\n",
    "vowels=\"AaEeIiOoUu\""
   ]
  },
  {
   "cell_type": "code",
   "execution_count": 75,
   "id": "4e349c1d-8f66-49d4-bd94-e1329108d0dc",
   "metadata": {},
   "outputs": [
    {
     "name": "stdout",
     "output_type": "stream",
     "text": [
      "D is not a vowels\n",
      "a is a vowels\n",
      "t is not a vowels\n",
      "a is a vowels\n",
      "  is not a vowels\n",
      "s is not a vowels\n",
      "c is not a vowels\n",
      "i is a vowels\n",
      "e is a vowels\n",
      "n is not a vowels\n",
      "c is not a vowels\n",
      "e is a vowels\n"
     ]
    }
   ],
   "source": [
    "for ch in name:\n",
    "    if ch in vowels:\n",
    "        print(\"{} is a vowels\".format(ch))\n",
    "    else:\n",
    "        print(\"{} is not a vowels\".format(ch))\n",
    "        "
   ]
  },
  {
   "cell_type": "markdown",
   "id": "a387e426-4ba9-494c-8a2e-c6f779e90978",
   "metadata": {},
   "source": [
    "## List"
   ]
  },
  {
   "cell_type": "code",
   "execution_count": 1,
   "id": "4b25291c-80cd-434d-bec8-bee33332b090",
   "metadata": {},
   "outputs": [
    {
     "data": {
      "text/plain": [
       "[]"
      ]
     },
     "execution_count": 1,
     "metadata": {},
     "output_type": "execute_result"
    }
   ],
   "source": [
    "[]"
   ]
  },
  {
   "cell_type": "code",
   "execution_count": 2,
   "id": "f9f8ccc5-eb95-424c-9e41-97bef81a56dd",
   "metadata": {},
   "outputs": [
    {
     "data": {
      "text/plain": [
       "list"
      ]
     },
     "execution_count": 2,
     "metadata": {},
     "output_type": "execute_result"
    }
   ],
   "source": [
    "type([])"
   ]
  },
  {
   "cell_type": "code",
   "execution_count": 3,
   "id": "bb17843e-b9bb-4f74-8651-db2e21835c39",
   "metadata": {},
   "outputs": [
    {
     "data": {
      "text/plain": [
       "['Parth', 'Dave', 'Data Sci', 32]"
      ]
     },
     "execution_count": 3,
     "metadata": {},
     "output_type": "execute_result"
    }
   ],
   "source": [
    "[\"Parth\",\"Dave\", \"Data Sci\",32]"
   ]
  },
  {
   "cell_type": "code",
   "execution_count": 4,
   "id": "74bab25a-2ef3-4f63-b5ac-c824f24e2303",
   "metadata": {},
   "outputs": [
    {
     "data": {
      "text/plain": [
       "[1, 2, 3, 4]"
      ]
     },
     "execution_count": 4,
     "metadata": {},
     "output_type": "execute_result"
    }
   ],
   "source": [
    "list([1,2,3,4])"
   ]
  },
  {
   "cell_type": "code",
   "execution_count": 5,
   "id": "f7420c2b-c0b2-471f-ae40-fbea1aab9ee4",
   "metadata": {},
   "outputs": [],
   "source": [
    "# list is mutable "
   ]
  },
  {
   "cell_type": "code",
   "execution_count": 6,
   "id": "c2aa0d8f-9084-45bc-8a8a-d80d3c76e65e",
   "metadata": {},
   "outputs": [
    {
     "data": {
      "text/plain": [
       "[]"
      ]
     },
     "execution_count": 6,
     "metadata": {},
     "output_type": "execute_result"
    }
   ],
   "source": [
    "list()"
   ]
  },
  {
   "cell_type": "code",
   "execution_count": 7,
   "id": "378b0746-a09e-4a1f-8d0b-f24481271b70",
   "metadata": {},
   "outputs": [],
   "source": [
    "str1=\"Data science python\""
   ]
  },
  {
   "cell_type": "code",
   "execution_count": 8,
   "id": "06c27163-505f-423d-9f1d-7fe0447ba7fa",
   "metadata": {},
   "outputs": [
    {
     "data": {
      "text/plain": [
       "['Data', 'science', 'python']"
      ]
     },
     "execution_count": 8,
     "metadata": {},
     "output_type": "execute_result"
    }
   ],
   "source": [
    "list(str1.split(\" \"))"
   ]
  },
  {
   "cell_type": "code",
   "execution_count": 10,
   "id": "77ffdea2-ffcb-4679-bb51-7200ec8d06a1",
   "metadata": {},
   "outputs": [],
   "source": [
    "# list is odered collection of string "
   ]
  },
  {
   "cell_type": "code",
   "execution_count": 11,
   "id": "a0a66a32-594a-4fb5-820e-824b479e50e8",
   "metadata": {},
   "outputs": [],
   "source": [
    "# list is odered \n",
    "# set is unodered"
   ]
  },
  {
   "cell_type": "code",
   "execution_count": 12,
   "id": "0a83eae4-e370-44d9-880c-45c9534ef540",
   "metadata": {},
   "outputs": [
    {
     "data": {
      "text/plain": [
       "'Data science python'"
      ]
     },
     "execution_count": 12,
     "metadata": {},
     "output_type": "execute_result"
    }
   ],
   "source": [
    "str1"
   ]
  },
  {
   "cell_type": "markdown",
   "id": "faca044a-42fd-40a5-90a2-96f64135e4cb",
   "metadata": {},
   "source": []
  },
  {
   "cell_type": "code",
   "execution_count": 14,
   "id": "6be71af0-75b4-4fec-bb81-fee2378343b8",
   "metadata": {},
   "outputs": [],
   "source": [
    "lst1 = str1.split(\" \")"
   ]
  },
  {
   "cell_type": "code",
   "execution_count": 15,
   "id": "6b85dcd1-9389-47d1-b687-8924e272302c",
   "metadata": {},
   "outputs": [
    {
     "data": {
      "text/plain": [
       "'science'"
      ]
     },
     "execution_count": 15,
     "metadata": {},
     "output_type": "execute_result"
    }
   ],
   "source": [
    "lst1[1]"
   ]
  },
  {
   "cell_type": "code",
   "execution_count": 17,
   "id": "b2a92da1-0394-4226-8ec5-974b821be425",
   "metadata": {},
   "outputs": [
    {
     "data": {
      "text/plain": [
       "['science', 'python']"
      ]
     },
     "execution_count": 17,
     "metadata": {},
     "output_type": "execute_result"
    }
   ],
   "source": [
    "lst1[1:]"
   ]
  },
  {
   "cell_type": "code",
   "execution_count": null,
   "id": "a24e9257-7e45-4991-a68e-814bb9fac933",
   "metadata": {},
   "outputs": [],
   "source": [
    "# Mutablity in spring "
   ]
  },
  {
   "cell_type": "code",
   "execution_count": 18,
   "id": "c5856cd5-3566-4e21-86cb-19edf2942834",
   "metadata": {},
   "outputs": [
    {
     "data": {
      "text/plain": [
       "'python'"
      ]
     },
     "execution_count": 18,
     "metadata": {},
     "output_type": "execute_result"
    }
   ],
   "source": [
    "lst1[2]"
   ]
  },
  {
   "cell_type": "code",
   "execution_count": 20,
   "id": "1557828a-8d68-41cf-9b49-4e9c4c9480c0",
   "metadata": {},
   "outputs": [],
   "source": [
    "lst1[2]=\"Java\""
   ]
  },
  {
   "cell_type": "code",
   "execution_count": 21,
   "id": "399a3fa6-d8a2-4e46-b69f-a87fcb79bb07",
   "metadata": {},
   "outputs": [
    {
     "data": {
      "text/plain": [
       "['Data', 'science', 'Java']"
      ]
     },
     "execution_count": 21,
     "metadata": {},
     "output_type": "execute_result"
    }
   ],
   "source": [
    "lst1"
   ]
  },
  {
   "cell_type": "code",
   "execution_count": null,
   "id": "5e00494e-2c5a-4789-91f3-cc338fb04d08",
   "metadata": {},
   "outputs": [],
   "source": []
  },
  {
   "cell_type": "code",
   "execution_count": 23,
   "id": "acf769fd-8db6-476c-a838-cceb4fb9e859",
   "metadata": {},
   "outputs": [
    {
     "data": {
      "text/plain": [
       "'Java'"
      ]
     },
     "execution_count": 23,
     "metadata": {},
     "output_type": "execute_result"
    }
   ],
   "source": [
    "lst1[-1]"
   ]
  },
  {
   "cell_type": "code",
   "execution_count": 25,
   "id": "ad240a97-5064-4e83-8128-63e1497458ab",
   "metadata": {},
   "outputs": [
    {
     "data": {
      "text/plain": [
       "['Java', 'Data']"
      ]
     },
     "execution_count": 25,
     "metadata": {},
     "output_type": "execute_result"
    }
   ],
   "source": [
    "lst1[::-2]"
   ]
  },
  {
   "cell_type": "code",
   "execution_count": 26,
   "id": "b7fdcc81-ae2d-4b05-8aa1-a6f5dc74ec5b",
   "metadata": {},
   "outputs": [
    {
     "data": {
      "text/plain": [
       "['Data', 'science', 'Java']"
      ]
     },
     "execution_count": 26,
     "metadata": {},
     "output_type": "execute_result"
    }
   ],
   "source": [
    "lst1"
   ]
  },
  {
   "cell_type": "code",
   "execution_count": 27,
   "id": "137f31a9-fa7c-4f11-959c-458e5f544a50",
   "metadata": {},
   "outputs": [
    {
     "ename": "NameError",
     "evalue": "name 'LST1' is not defined",
     "output_type": "error",
     "traceback": [
      "\u001b[0;31m---------------------------------------------------------------------------\u001b[0m",
      "\u001b[0;31mNameError\u001b[0m                                 Traceback (most recent call last)",
      "Cell \u001b[0;32mIn[27], line 2\u001b[0m\n\u001b[1;32m      1\u001b[0m \u001b[38;5;66;03m## CONCATENATION OPERATION\u001b[39;00m\n\u001b[0;32m----> 2\u001b[0m \u001b[43mLST1\u001b[49m\u001b[38;5;241m+\u001b[39m \u001b[38;5;241m1\u001b[39m\n",
      "\u001b[0;31mNameError\u001b[0m: name 'LST1' is not defined"
     ]
    }
   ],
   "source": [
    "## CONCATENATION OPERATION\n",
    "LST1+ 1"
   ]
  },
  {
   "cell_type": "code",
   "execution_count": 29,
   "id": "b4b54b71-20a3-45b2-9ab9-895b5470acd6",
   "metadata": {},
   "outputs": [
    {
     "ename": "TypeError",
     "evalue": "can only concatenate list (not \"str\") to list",
     "output_type": "error",
     "traceback": [
      "\u001b[0;31m---------------------------------------------------------------------------\u001b[0m",
      "\u001b[0;31mTypeError\u001b[0m                                 Traceback (most recent call last)",
      "Cell \u001b[0;32mIn[29], line 1\u001b[0m\n\u001b[0;32m----> 1\u001b[0m \u001b[43mlst1\u001b[49m\u001b[38;5;241;43m+\u001b[39;49m\u001b[38;5;124;43m\"\u001b[39;49m\u001b[38;5;124;43m1\u001b[39;49m\u001b[38;5;124;43m\"\u001b[39;49m\n",
      "\u001b[0;31mTypeError\u001b[0m: can only concatenate list (not \"str\") to list"
     ]
    }
   ],
   "source": [
    "lst1+\"1\""
   ]
  },
  {
   "cell_type": "code",
   "execution_count": 30,
   "id": "fbfd5af8-14a0-42c1-b061-2b46ff0e5c28",
   "metadata": {},
   "outputs": [
    {
     "data": {
      "text/plain": [
       "['Data', 'science', 'Java', 'new element', 3]"
      ]
     },
     "execution_count": 30,
     "metadata": {},
     "output_type": "execute_result"
    }
   ],
   "source": [
    "lst1+['new element',3]"
   ]
  },
  {
   "cell_type": "code",
   "execution_count": 31,
   "id": "92eb17f0-cd29-4784-a779-af474330872a",
   "metadata": {},
   "outputs": [
    {
     "data": {
      "text/plain": [
       "['Data', 'science', 'Java', ['new element', 3]]"
      ]
     },
     "execution_count": 31,
     "metadata": {},
     "output_type": "execute_result"
    }
   ],
   "source": [
    "# Multi nested list\n",
    "lst1+[['new element',3]]"
   ]
  },
  {
   "cell_type": "code",
   "execution_count": 41,
   "id": "750aad93-e052-4e83-ae81-070060217ca0",
   "metadata": {},
   "outputs": [
    {
     "data": {
      "text/plain": [
       "'c'"
      ]
     },
     "execution_count": 41,
     "metadata": {},
     "output_type": "execute_result"
    }
   ],
   "source": [
    "lst1[-2][1]"
   ]
  },
  {
   "cell_type": "code",
   "execution_count": 42,
   "id": "3ad9d87a-f6c0-49ff-b567-bc939ab96d0e",
   "metadata": {},
   "outputs": [
    {
     "data": {
      "text/plain": [
       "['Data', 'science', 'Java']"
      ]
     },
     "execution_count": 42,
     "metadata": {},
     "output_type": "execute_result"
    }
   ],
   "source": [
    "lst1"
   ]
  },
  {
   "cell_type": "code",
   "execution_count": 43,
   "id": "a34c69eb-d5a0-4645-919e-0f8743baeda3",
   "metadata": {},
   "outputs": [
    {
     "data": {
      "text/plain": [
       "['Data', 'science', 'Java', 'Data', 'science', 'Java']"
      ]
     },
     "execution_count": 43,
     "metadata": {},
     "output_type": "execute_result"
    }
   ],
   "source": [
    "lst1*2"
   ]
  },
  {
   "cell_type": "code",
   "execution_count": 44,
   "id": "ce84ea55-1cee-4acb-942c-81ea40ecf908",
   "metadata": {},
   "outputs": [],
   "source": [
    "lst2 =lst1*2"
   ]
  },
  {
   "cell_type": "code",
   "execution_count": 45,
   "id": "278f2414-41da-4650-ae46-a4675e3c2103",
   "metadata": {},
   "outputs": [
    {
     "data": {
      "text/plain": [
       "['Data', 'science', 'Java', 'Data', 'science', 'Java']"
      ]
     },
     "execution_count": 45,
     "metadata": {},
     "output_type": "execute_result"
    }
   ],
   "source": [
    "lst2"
   ]
  },
  {
   "cell_type": "code",
   "execution_count": 46,
   "id": "2a0d6574-2a6d-4d13-bca9-9c0c2aebf3f2",
   "metadata": {},
   "outputs": [
    {
     "data": {
      "text/plain": [
       "['Data', 'science', 'Java']"
      ]
     },
     "execution_count": 46,
     "metadata": {},
     "output_type": "execute_result"
    }
   ],
   "source": [
    "lst1"
   ]
  },
  {
   "cell_type": "code",
   "execution_count": 54,
   "id": "51ba43bb-b2a2-437c-9294-de532088e689",
   "metadata": {},
   "outputs": [
    {
     "name": "stdout",
     "output_type": "stream",
     "text": [
      "Data\n",
      "Data\n",
      "science\n",
      "science\n",
      "Java\n",
      "Java\n"
     ]
    }
   ],
   "source": [
    "for elements in lst1:\n",
    "    print(elements)\n",
    "    if \"science\" in lst1:\n",
    "        print(elements)"
   ]
  },
  {
   "cell_type": "code",
   "execution_count": 55,
   "id": "ff731627-da34-43e3-99cb-2ba7183afbc4",
   "metadata": {},
   "outputs": [
    {
     "name": "stdout",
     "output_type": "stream",
     "text": [
      "present\n"
     ]
    }
   ],
   "source": [
    "if \"science\" in lst1:\n",
    "    print(\"present\")"
   ]
  },
  {
   "cell_type": "code",
   "execution_count": 57,
   "id": "e4f14a53-608f-4d0c-bfa1-c3ca2b7877ae",
   "metadata": {},
   "outputs": [
    {
     "name": "stdout",
     "output_type": "stream",
     "text": [
      "science\n"
     ]
    }
   ],
   "source": [
    "for elements in lst1:\n",
    "    if elements==\"science\":\n",
    "        print(elements)\n",
    "        break"
   ]
  },
  {
   "cell_type": "code",
   "execution_count": 58,
   "id": "2d085abd-1ebb-409f-a463-bb9c998f57bd",
   "metadata": {},
   "outputs": [
    {
     "data": {
      "text/plain": [
       "True"
      ]
     },
     "execution_count": 58,
     "metadata": {},
     "output_type": "execute_result"
    }
   ],
   "source": [
    "## check element inside a list \n",
    "\n",
    "lst =[1,2,3,4]\n",
    "4 in lst"
   ]
  },
  {
   "cell_type": "code",
   "execution_count": 60,
   "id": "54580f57-c0a3-49a5-afd6-c1a7585f28c5",
   "metadata": {},
   "outputs": [],
   "source": [
    "lst1=[\"Zebra\" ,\"Monkey\", \"Donkey\",\"Lion\"]\n",
    "lst2=[5,6,2,9,5,8,6]"
   ]
  },
  {
   "cell_type": "code",
   "execution_count": 61,
   "id": "31ad3c19-740b-4a5a-a5e1-9e77b187d656",
   "metadata": {},
   "outputs": [
    {
     "name": "stdout",
     "output_type": "stream",
     "text": [
      "Zebra\n"
     ]
    }
   ],
   "source": [
    "# will check alphabetically \n",
    "# it will convert into ansi code \n",
    "# z --> 90 \n",
    "#a --->65\n",
    "print(max(lst1))"
   ]
  },
  {
   "cell_type": "code",
   "execution_count": 63,
   "id": "475f4b52-d40e-4be0-97a4-8ea1255f2c32",
   "metadata": {},
   "outputs": [
    {
     "data": {
      "text/plain": [
       "9"
      ]
     },
     "execution_count": 63,
     "metadata": {},
     "output_type": "execute_result"
    }
   ],
   "source": [
    "max(lst2)"
   ]
  },
  {
   "cell_type": "code",
   "execution_count": 64,
   "id": "e0ca4a1f-28a5-4102-9402-2a6dc2706c96",
   "metadata": {},
   "outputs": [
    {
     "data": {
      "text/plain": [
       "'Donkey'"
      ]
     },
     "execution_count": 64,
     "metadata": {},
     "output_type": "execute_result"
    }
   ],
   "source": [
    "min(lst1)"
   ]
  },
  {
   "cell_type": "code",
   "execution_count": 65,
   "id": "007d0441-0bce-4c43-a270-965b8e803bf3",
   "metadata": {},
   "outputs": [
    {
     "data": {
      "text/plain": [
       "2"
      ]
     },
     "execution_count": 65,
     "metadata": {},
     "output_type": "execute_result"
    }
   ],
   "source": [
    "min(lst2)"
   ]
  },
  {
   "cell_type": "code",
   "execution_count": 67,
   "id": "2a8396e0-e468-4d25-90a5-5ad0373972c3",
   "metadata": {},
   "outputs": [],
   "source": [
    "## append"
   ]
  },
  {
   "cell_type": "code",
   "execution_count": 68,
   "id": "bb430ce5-35f5-4de2-b671-eb9d6223db37",
   "metadata": {},
   "outputs": [],
   "source": [
    "lst1=[1,2,3,4,5,6]"
   ]
  },
  {
   "cell_type": "code",
   "execution_count": 69,
   "id": "9748aac3-9136-4e35-a930-82597eab0484",
   "metadata": {},
   "outputs": [
    {
     "data": {
      "text/plain": [
       "int"
      ]
     },
     "execution_count": 69,
     "metadata": {},
     "output_type": "execute_result"
    }
   ],
   "source": [
    "type(lst1[3])"
   ]
  },
  {
   "cell_type": "code",
   "execution_count": null,
   "id": "c1f73822-1868-403e-8f0d-94b54d2953ef",
   "metadata": {},
   "outputs": [],
   "source": [
    "## Python bug"
   ]
  },
  {
   "cell_type": "code",
   "execution_count": 77,
   "id": "cb59ac31-d0e4-4c11-af84-86fb7b49afaa",
   "metadata": {},
   "outputs": [
    {
     "data": {
      "text/plain": [
       "True"
      ]
     },
     "execution_count": 77,
     "metadata": {},
     "output_type": "execute_result"
    }
   ],
   "source": [
    "1.999999999999999999999999999999999999999999999999999999999 in [2,4,5]"
   ]
  },
  {
   "cell_type": "code",
   "execution_count": 78,
   "id": "5778154c-f43f-4537-b152-0479419e4373",
   "metadata": {},
   "outputs": [],
   "source": [
    "##"
   ]
  },
  {
   "cell_type": "code",
   "execution_count": 79,
   "id": "a5b4a425-5018-46bc-9309-98754dfea06a",
   "metadata": {},
   "outputs": [
    {
     "data": {
      "text/plain": [
       "[1, 2, 3, 4]"
      ]
     },
     "execution_count": 79,
     "metadata": {},
     "output_type": "execute_result"
    }
   ],
   "source": [
    "lst"
   ]
  },
  {
   "cell_type": "code",
   "execution_count": 80,
   "id": "5cdb7a01-8390-4865-850b-b3808154c6dc",
   "metadata": {},
   "outputs": [],
   "source": [
    "lst.append(\"Data\")"
   ]
  },
  {
   "cell_type": "code",
   "execution_count": 81,
   "id": "2f8c6fad-a8fa-4f0b-86c2-91a5023cef04",
   "metadata": {},
   "outputs": [
    {
     "data": {
      "text/plain": [
       "[1, 2, 3, 4, 'Data']"
      ]
     },
     "execution_count": 81,
     "metadata": {},
     "output_type": "execute_result"
    }
   ],
   "source": [
    "lst"
   ]
  },
  {
   "cell_type": "code",
   "execution_count": 82,
   "id": "9af26d29-874e-4388-9c1b-3e00c87d386a",
   "metadata": {},
   "outputs": [],
   "source": [
    "## append is inplace operation "
   ]
  },
  {
   "cell_type": "code",
   "execution_count": 83,
   "id": "b885fff1-0a46-4767-af1a-69f3c19e31e9",
   "metadata": {},
   "outputs": [],
   "source": [
    "# multi nested list --> list within list\n",
    "lst.append([\"science\"])"
   ]
  },
  {
   "cell_type": "code",
   "execution_count": 84,
   "id": "701cbfb0-4ae4-4b5f-aaac-549ed328a89d",
   "metadata": {},
   "outputs": [
    {
     "data": {
      "text/plain": [
       "[1, 2, 3, 4, 'Data', ['science']]"
      ]
     },
     "execution_count": 84,
     "metadata": {},
     "output_type": "execute_result"
    }
   ],
   "source": [
    "lst"
   ]
  },
  {
   "cell_type": "code",
   "execution_count": null,
   "id": "ac2ea29e-b599-478f-a8c4-e08ebd04ba8b",
   "metadata": {},
   "outputs": [],
   "source": [
    "# .pop operation --> Remove last element / inplace operation "
   ]
  },
  {
   "cell_type": "code",
   "execution_count": 86,
   "id": "2fdeec5b-d170-4913-9eb0-b989a3b10218",
   "metadata": {},
   "outputs": [],
   "source": [
    "lst1=[\"Zebra\" ,\"Monkey\", \"Donkey\",\"Lion\"]"
   ]
  },
  {
   "cell_type": "code",
   "execution_count": 87,
   "id": "c0eba373-6557-4853-8841-3a5e46be2d79",
   "metadata": {},
   "outputs": [
    {
     "data": {
      "text/plain": [
       "'Lion'"
      ]
     },
     "execution_count": 87,
     "metadata": {},
     "output_type": "execute_result"
    }
   ],
   "source": [
    "lst1.pop()"
   ]
  },
  {
   "cell_type": "code",
   "execution_count": 88,
   "id": "aab3695f-65c0-461b-bdf4-a9349369c616",
   "metadata": {},
   "outputs": [
    {
     "data": {
      "text/plain": [
       "['Zebra', 'Monkey', 'Donkey']"
      ]
     },
     "execution_count": 88,
     "metadata": {},
     "output_type": "execute_result"
    }
   ],
   "source": [
    "lst1"
   ]
  },
  {
   "cell_type": "code",
   "execution_count": 89,
   "id": "c4b02623-3baa-45c2-b8a0-5489d8934241",
   "metadata": {},
   "outputs": [],
   "source": [
    "lst1=[\"Zebra\" ,\"Monkey\", \"Donkey\",\"Lion\"]"
   ]
  },
  {
   "cell_type": "code",
   "execution_count": 90,
   "id": "9767ef72-a025-42e3-8bf4-30140967ee4a",
   "metadata": {},
   "outputs": [
    {
     "data": {
      "text/plain": [
       "'Donkey'"
      ]
     },
     "execution_count": 90,
     "metadata": {},
     "output_type": "execute_result"
    }
   ],
   "source": [
    "lst1.pop(2)"
   ]
  },
  {
   "cell_type": "code",
   "execution_count": 91,
   "id": "85210a4e-a2dd-4d53-99d0-d1cffb8f589c",
   "metadata": {},
   "outputs": [
    {
     "data": {
      "text/plain": [
       "['Zebra', 'Monkey', 'Lion']"
      ]
     },
     "execution_count": 91,
     "metadata": {},
     "output_type": "execute_result"
    }
   ],
   "source": [
    "lst1"
   ]
  },
  {
   "cell_type": "code",
   "execution_count": 93,
   "id": "34ff27fc-5bdd-4c22-bc41-8f8fe3caa207",
   "metadata": {},
   "outputs": [],
   "source": [
    "removed_element= lst1.pop(0)"
   ]
  },
  {
   "cell_type": "code",
   "execution_count": 94,
   "id": "6704a58f-2118-4ac3-899c-a613dd58677d",
   "metadata": {},
   "outputs": [
    {
     "data": {
      "text/plain": [
       "'Monkey'"
      ]
     },
     "execution_count": 94,
     "metadata": {},
     "output_type": "execute_result"
    }
   ],
   "source": [
    "removed_element"
   ]
  },
  {
   "cell_type": "code",
   "execution_count": 95,
   "id": "e9f5d1c7-9a15-47e6-8156-8c2230df22a4",
   "metadata": {},
   "outputs": [
    {
     "data": {
      "text/plain": [
       "['Lion']"
      ]
     },
     "execution_count": 95,
     "metadata": {},
     "output_type": "execute_result"
    }
   ],
   "source": [
    "lst1"
   ]
  },
  {
   "cell_type": "code",
   "execution_count": 96,
   "id": "76ae345b-bc47-428a-b724-1db13dc899f7",
   "metadata": {},
   "outputs": [
    {
     "data": {
      "text/plain": [
       "'Monkey'"
      ]
     },
     "execution_count": 96,
     "metadata": {},
     "output_type": "execute_result"
    }
   ],
   "source": [
    "removed_element"
   ]
  },
  {
   "cell_type": "code",
   "execution_count": 98,
   "id": "f3d9c349-a1d5-4ece-80e0-8fc82b0161f1",
   "metadata": {},
   "outputs": [
    {
     "ename": "IndexError",
     "evalue": "list index out of range",
     "output_type": "error",
     "traceback": [
      "\u001b[0;31m---------------------------------------------------------------------------\u001b[0m",
      "\u001b[0;31mIndexError\u001b[0m                                Traceback (most recent call last)",
      "Cell \u001b[0;32mIn[98], line 1\u001b[0m\n\u001b[0;32m----> 1\u001b[0m \u001b[43mlst1\u001b[49m\u001b[43m[\u001b[49m\u001b[38;5;241;43m100\u001b[39;49m\u001b[43m]\u001b[49m\n",
      "\u001b[0;31mIndexError\u001b[0m: list index out of range"
     ]
    }
   ],
   "source": [
    "lst1[100]"
   ]
  },
  {
   "cell_type": "code",
   "execution_count": null,
   "id": "a316c4f3-84ef-45b7-8083-6168f9111d06",
   "metadata": {},
   "outputs": [],
   "source": [
    "## sorting and reverse method in list "
   ]
  },
  {
   "cell_type": "code",
   "execution_count": 100,
   "id": "8c9a2d1f-21a4-45bb-95e7-efd9bc902325",
   "metadata": {},
   "outputs": [],
   "source": [
    "new_list=['q','e','f','s','t','i']"
   ]
  },
  {
   "cell_type": "code",
   "execution_count": 101,
   "id": "28bda7ce-9793-4db1-9754-c6ea40f3bb37",
   "metadata": {},
   "outputs": [
    {
     "data": {
      "text/plain": [
       "['i', 't', 's', 'f', 'e', 'q']"
      ]
     },
     "execution_count": 101,
     "metadata": {},
     "output_type": "execute_result"
    }
   ],
   "source": [
    "new_list[::-1]"
   ]
  },
  {
   "cell_type": "code",
   "execution_count": 103,
   "id": "7201b888-3be7-43e0-9bcb-2c283bf2e6e4",
   "metadata": {},
   "outputs": [
    {
     "data": {
      "text/plain": [
       "['q', 'e', 'f', 's', 't', 'i']"
      ]
     },
     "execution_count": 103,
     "metadata": {},
     "output_type": "execute_result"
    }
   ],
   "source": [
    "new_list"
   ]
  },
  {
   "cell_type": "code",
   "execution_count": 104,
   "id": "c5879f9d-56b6-4c3b-bf8a-257554062b90",
   "metadata": {},
   "outputs": [],
   "source": [
    "## inplace operation\n",
    "new_list.reverse()"
   ]
  },
  {
   "cell_type": "code",
   "execution_count": 105,
   "id": "d343dfd2-5e5b-4ad7-8688-346f28e8b0ce",
   "metadata": {},
   "outputs": [
    {
     "data": {
      "text/plain": [
       "['i', 't', 's', 'f', 'e', 'q']"
      ]
     },
     "execution_count": 105,
     "metadata": {},
     "output_type": "execute_result"
    }
   ],
   "source": [
    "new_list"
   ]
  },
  {
   "cell_type": "code",
   "execution_count": 106,
   "id": "0af86f84-f9af-4ea7-8ba4-262e76442d4c",
   "metadata": {},
   "outputs": [],
   "source": [
    "## sorting operation \n",
    "new_list.sort()"
   ]
  },
  {
   "cell_type": "code",
   "execution_count": 107,
   "id": "e7394568-a7ad-4b9a-8297-ea29c7e70b3f",
   "metadata": {},
   "outputs": [
    {
     "data": {
      "text/plain": [
       "['e', 'f', 'i', 'q', 's', 't']"
      ]
     },
     "execution_count": 107,
     "metadata": {},
     "output_type": "execute_result"
    }
   ],
   "source": [
    "new_list"
   ]
  },
  {
   "cell_type": "markdown",
   "id": "cb43c34b-be5c-4128-aa91-9939ab9f514f",
   "metadata": {},
   "source": [
    "## Nested list "
   ]
  },
  {
   "cell_type": "code",
   "execution_count": 1,
   "id": "60b5afcd-fe26-4c9a-8e47-9bc4c993c80c",
   "metadata": {},
   "outputs": [],
   "source": [
    "lst_1=[1,2,3]\n",
    "lst_2=[4,5,6]\n",
    "lst_3=[7,8,9]\n",
    "\n",
    "matrix=[lst_1,lst_2,lst_3]"
   ]
  },
  {
   "cell_type": "code",
   "execution_count": 2,
   "id": "bb9b47b8-81ea-4b59-a659-77b30bbaca92",
   "metadata": {},
   "outputs": [
    {
     "data": {
      "text/plain": [
       "[[1, 2, 3], [4, 5, 6], [7, 8, 9]]"
      ]
     },
     "execution_count": 2,
     "metadata": {},
     "output_type": "execute_result"
    }
   ],
   "source": [
    "matrix"
   ]
  },
  {
   "cell_type": "code",
   "execution_count": 3,
   "id": "eda9c79b-7fa5-4638-9c95-ab04fc6caff6",
   "metadata": {},
   "outputs": [
    {
     "data": {
      "text/plain": [
       "6"
      ]
     },
     "execution_count": 3,
     "metadata": {},
     "output_type": "execute_result"
    }
   ],
   "source": [
    "matrix[1][2]"
   ]
  },
  {
   "cell_type": "code",
   "execution_count": 4,
   "id": "1d38de9a-051d-4d32-af2f-f29912ff5bb7",
   "metadata": {},
   "outputs": [
    {
     "data": {
      "text/plain": [
       "[8, 9]"
      ]
     },
     "execution_count": 4,
     "metadata": {},
     "output_type": "execute_result"
    }
   ],
   "source": [
    "matrix[2][1:]"
   ]
  },
  {
   "cell_type": "markdown",
   "id": "be56d5fc-91e8-4b17-a800-5d460f60d6c3",
   "metadata": {},
   "source": [
    "matrix[:]"
   ]
  },
  {
   "cell_type": "code",
   "execution_count": 5,
   "id": "0f499d27-2f89-4c6b-9cb9-4796e08f5a47",
   "metadata": {},
   "outputs": [
    {
     "data": {
      "text/plain": [
       "[[1, 2, 3], [4, 5, 6], [7, 8, 9]]"
      ]
     },
     "execution_count": 5,
     "metadata": {},
     "output_type": "execute_result"
    }
   ],
   "source": [
    "matrix[:]"
   ]
  },
  {
   "cell_type": "code",
   "execution_count": 11,
   "id": "769e4fec-a623-470c-9afa-b6e909f0f54e",
   "metadata": {},
   "outputs": [
    {
     "data": {
      "text/plain": [
       "[1, 2, 3]"
      ]
     },
     "execution_count": 11,
     "metadata": {},
     "output_type": "execute_result"
    }
   ],
   "source": [
    "matrix[0]"
   ]
  },
  {
   "cell_type": "code",
   "execution_count": null,
   "id": "69f96986-9170-4521-b8d0-ee1bef24f3c0",
   "metadata": {},
   "outputs": [],
   "source": [
    "## list comprehension"
   ]
  },
  {
   "cell_type": "code",
   "execution_count": 13,
   "id": "bd52aac8-fed5-4551-81c4-634d4d05cf98",
   "metadata": {},
   "outputs": [
    {
     "data": {
      "text/plain": [
       "[0, 1, 2, 3, 4, 5, 6, 7, 8, 9, 10, 11, 12, 13, 14, 15, 16, 17, 18, 19]"
      ]
     },
     "execution_count": 13,
     "metadata": {},
     "output_type": "execute_result"
    }
   ],
   "source": [
    "[i for i in range(20)]"
   ]
  },
  {
   "cell_type": "code",
   "execution_count": 15,
   "id": "46fa6d21-9358-4418-baea-435074b8efa1",
   "metadata": {},
   "outputs": [
    {
     "data": {
      "text/plain": [
       "[0,\n",
       " 'ODD',\n",
       " 2,\n",
       " 'ODD',\n",
       " 4,\n",
       " 'ODD',\n",
       " 6,\n",
       " 'ODD',\n",
       " 8,\n",
       " 'ODD',\n",
       " 10,\n",
       " 'ODD',\n",
       " 12,\n",
       " 'ODD',\n",
       " 14,\n",
       " 'ODD',\n",
       " 16,\n",
       " 'ODD',\n",
       " 18,\n",
       " 'ODD']"
      ]
     },
     "execution_count": 15,
     "metadata": {},
     "output_type": "execute_result"
    }
   ],
   "source": [
    " ## even number\n",
    "[i if i%2==0 else \"ODD\" for i in range(20)]"
   ]
  },
  {
   "cell_type": "code",
   "execution_count": 20,
   "id": "8f4f2a6f-025b-423b-987a-796e1a1cd663",
   "metadata": {},
   "outputs": [
    {
     "data": {
      "text/plain": [
       "[0,\n",
       " 'odd',\n",
       " 2,\n",
       " 'odd',\n",
       " 4,\n",
       " 'odd',\n",
       " 6,\n",
       " 'odd',\n",
       " 8,\n",
       " 'odd',\n",
       " 10,\n",
       " 'odd',\n",
       " 12,\n",
       " 'odd',\n",
       " 14,\n",
       " 'odd',\n",
       " 16,\n",
       " 'odd',\n",
       " 18,\n",
       " 'odd']"
      ]
     },
     "execution_count": 20,
     "metadata": {},
     "output_type": "execute_result"
    }
   ],
   "source": [
    "[i if i%2==0 else \"odd\" for i in range(0,20)]"
   ]
  },
  {
   "cell_type": "code",
   "execution_count": 22,
   "id": "f2721507-57b6-420a-a2f1-292824e43410",
   "metadata": {},
   "outputs": [
    {
     "name": "stdout",
     "output_type": "stream",
     "text": [
      "20\n",
      "25\n"
     ]
    }
   ],
   "source": [
    "# sum of even number and odd number \n",
    "lst=[1,2,3,4,5,6,7,8,9]\n",
    "even=0\n",
    "odd=0\n",
    "for i in lst:\n",
    "    if i % 2==0:\n",
    "        even +=i\n",
    "    else:\n",
    "        odd +=i\n",
    "        \n",
    "print(even)\n",
    "print(odd)"
   ]
  },
  {
   "cell_type": "code",
   "execution_count": 32,
   "id": "ac6b36aa-8586-424c-8706-208a9813ee5d",
   "metadata": {},
   "outputs": [
    {
     "data": {
      "text/plain": [
       "20"
      ]
     },
     "execution_count": 32,
     "metadata": {},
     "output_type": "execute_result"
    }
   ],
   "source": [
    "sum([num for num in lst if num%2==0])"
   ]
  },
  {
   "cell_type": "code",
   "execution_count": 33,
   "id": "c0f81420-64a2-49f4-b24d-bda65644e60e",
   "metadata": {},
   "outputs": [
    {
     "data": {
      "text/plain": [
       "25"
      ]
     },
     "execution_count": 33,
     "metadata": {},
     "output_type": "execute_result"
    }
   ],
   "source": [
    "sum([num for num in lst if num%2!=0])"
   ]
  },
  {
   "cell_type": "code",
   "execution_count": 34,
   "id": "7cca5cdc-c969-4242-8a59-9b7b0ae73539",
   "metadata": {},
   "outputs": [
    {
     "data": {
      "text/plain": [
       "[1, 4, 9, 16, 25, 36, 49, 64, 81, 100]"
      ]
     },
     "execution_count": 34,
     "metadata": {},
     "output_type": "execute_result"
    }
   ],
   "source": [
    "#Square operations\n",
    "lst=[1,2,3,4,5,6,7,8,9,10]\n",
    "[num**2 for num in lst]"
   ]
  },
  {
   "cell_type": "code",
   "execution_count": 35,
   "id": "3dc16856-0029-43d7-88af-b4ff425107e6",
   "metadata": {},
   "outputs": [
    {
     "data": {
      "text/plain": [
       "[1, 2, 3, 4]"
      ]
     },
     "execution_count": 35,
     "metadata": {},
     "output_type": "execute_result"
    }
   ],
   "source": [
    "#posive num in list\n",
    "numbers =[-2,-1,0,1,2,3,4]\n",
    "[num for num in numbers if num>0]"
   ]
  },
  {
   "cell_type": "code",
   "execution_count": 36,
   "id": "edbc6753-2885-485b-b19a-b20af8c935d8",
   "metadata": {},
   "outputs": [
    {
     "data": {
      "text/plain": [
       "['a', 'b', 'c', 'd']"
      ]
     },
     "execution_count": 36,
     "metadata": {},
     "output_type": "execute_result"
    }
   ],
   "source": [
    "# create a list with first letter of word in lst \n",
    "words=['apple','banana','cherry','date']\n",
    "[word[0] for word in words]"
   ]
  },
  {
   "cell_type": "code",
   "execution_count": 38,
   "id": "75c1878d-7644-4e16-94e3-35c25a578015",
   "metadata": {},
   "outputs": [],
   "source": [
    "# temp celcius to f \n",
    "#(9/5)*temp +32"
   ]
  },
  {
   "cell_type": "code",
   "execution_count": 39,
   "id": "d7a19a20-31c3-4837-a1f7-0b79c76d008b",
   "metadata": {},
   "outputs": [],
   "source": [
    "cel=[0,10,20,30,40,50]"
   ]
  },
  {
   "cell_type": "code",
   "execution_count": 40,
   "id": "9a994680-5a10-490f-bed8-caeb0f080dfd",
   "metadata": {},
   "outputs": [
    {
     "data": {
      "text/plain": [
       "[32.0, 50.0, 68.0, 86.0, 104.0, 122.0]"
      ]
     },
     "execution_count": 40,
     "metadata": {},
     "output_type": "execute_result"
    }
   ],
   "source": [
    "[(9/5)*temp + 32 for temp in cel]"
   ]
  },
  {
   "cell_type": "code",
   "execution_count": 44,
   "id": "357aa1c4-1216-4ca6-ac39-253b8363f5cc",
   "metadata": {},
   "outputs": [],
   "source": [
    "# flatten a list into a single list (Important for interview)\n",
    "list=[[1,2,3],[4,5,6],[7,8,9]]"
   ]
  },
  {
   "cell_type": "code",
   "execution_count": 46,
   "id": "56cabfdc-a7fb-4162-af71-35363dbfb2b4",
   "metadata": {},
   "outputs": [
    {
     "data": {
      "text/plain": [
       "[1, 2, 3, 4, 5, 6, 7, 8, 9]"
      ]
     },
     "execution_count": 46,
     "metadata": {},
     "output_type": "execute_result"
    }
   ],
   "source": [
    "[num for sublist in list for num in sublist]"
   ]
  },
  {
   "cell_type": "code",
   "execution_count": 49,
   "id": "037741fc-a697-4268-ab1a-61e68dbd3cd6",
   "metadata": {},
   "outputs": [
    {
     "data": {
      "text/plain": [
       "[1, 2, 3, 4, 5, 6, 7, 8, 9]"
      ]
     },
     "execution_count": 49,
     "metadata": {},
     "output_type": "execute_result"
    }
   ],
   "source": [
    "[num for sublist in list for num in sublist ]"
   ]
  },
  {
   "cell_type": "code",
   "execution_count": 52,
   "id": "0c283ecd-39f7-4382-8e4c-dabeeab46283",
   "metadata": {},
   "outputs": [
    {
     "data": {
      "text/plain": [
       "[1, 2, 3, 4, 5, 6, 7, 8, 9]"
      ]
     },
     "execution_count": 52,
     "metadata": {},
     "output_type": "execute_result"
    }
   ],
   "source": [
    "[j for i in list for j in i]"
   ]
  },
  {
   "cell_type": "markdown",
   "id": "ac55b324-e52c-4f25-be3c-723813756813",
   "metadata": {},
   "source": [
    "[for i in list]\n",
    "[for i in list for j in i]\n",
    "[j for i in list for j in i]"
   ]
  }
 ],
 "metadata": {
  "kernelspec": {
   "display_name": "Python 3 (ipykernel)",
   "language": "python",
   "name": "python3"
  },
  "language_info": {
   "codemirror_mode": {
    "name": "ipython",
    "version": 3
   },
   "file_extension": ".py",
   "mimetype": "text/x-python",
   "name": "python",
   "nbconvert_exporter": "python",
   "pygments_lexer": "ipython3",
   "version": "3.10.8"
  }
 },
 "nbformat": 4,
 "nbformat_minor": 5
}
