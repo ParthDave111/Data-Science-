{
 "cells": [
  {
   "cell_type": "markdown",
   "id": "8dcad0d2-f608-46ed-bcf7-dd76218d5efe",
   "metadata": {},
   "source": [
    "## Loops statement \n",
    "1. While loop\n",
    "2. for loop\n",
    "3. nested loop \n",
    "4. loop control (break , continue, pause) \n"
   ]
  },
  {
   "cell_type": "code",
   "execution_count": 1,
   "id": "ffe1a39d-5cfb-455a-88f5-4f65be6dcda2",
   "metadata": {},
   "outputs": [],
   "source": [
    "## while loop\n",
    "# while is continuous iterative logic  \n",
    "# you can use else with while block "
   ]
  },
  {
   "cell_type": "code",
   "execution_count": 7,
   "id": "3f214b72-a067-4f54-b313-4cd7c58fa021",
   "metadata": {},
   "outputs": [
    {
     "name": "stdout",
     "output_type": "stream",
     "text": [
      "26\n",
      "27\n",
      "28\n",
      "29\n",
      "30\n",
      "31\n",
      "32\n",
      "33\n",
      "34\n",
      "35\n",
      "36\n",
      "37\n",
      "38\n",
      "39\n",
      "40\n",
      "41\n",
      "42\n",
      "43\n",
      "44\n",
      "45\n",
      "46\n",
      "47\n",
      "48\n",
      "49\n",
      "50\n",
      "51\n",
      "52\n",
      "53\n",
      "54\n",
      "55\n",
      "56\n",
      "57\n",
      "58\n",
      "59\n",
      "60\n",
      "61\n",
      "its time for retirement\n"
     ]
    }
   ],
   "source": [
    "joining_age=25\n",
    "while joining_age<=60:\n",
    "    joining_age=joining_age+1\n",
    "    print(joining_age)\n",
    "else:\n",
    "    print(\"its time for retirement\")\n"
   ]
  },
  {
   "cell_type": "code",
   "execution_count": 12,
   "id": "2e86a0ee-212c-4c2c-9952-910e58d2cd51",
   "metadata": {},
   "outputs": [
    {
     "name": "stdout",
     "output_type": "stream",
     "text": [
      "900\n",
      "800\n",
      "700\n",
      "600\n",
      "500\n",
      "400\n",
      "300\n",
      "200\n",
      "100\n",
      "0\n",
      "refill the money\n"
     ]
    }
   ],
   "source": [
    "### atm machine with 1000 cad \n",
    "total_amount=1000\n",
    "while total_amount!=0:\n",
    "    total_amount=total_amount-100\n",
    "    print(total_amount)\n",
    "else:\n",
    "    print(\"refill the money\")"
   ]
  },
  {
   "cell_type": "code",
   "execution_count": 13,
   "id": "80275b8c-6748-4282-856d-49da2758054c",
   "metadata": {},
   "outputs": [],
   "source": [
    "## for loops  "
   ]
  },
  {
   "cell_type": "code",
   "execution_count": 14,
   "id": "893dff74-5a0d-472d-8937-39f0e4a10720",
   "metadata": {},
   "outputs": [],
   "source": [
    "lst=[\"toronto\",1,2,3,\"apple\",\"banana\"]"
   ]
  },
  {
   "cell_type": "code",
   "execution_count": 15,
   "id": "1dd70fd3-9e03-45b2-abd6-e64034105269",
   "metadata": {},
   "outputs": [
    {
     "data": {
      "text/plain": [
       "list"
      ]
     },
     "execution_count": 15,
     "metadata": {},
     "output_type": "execute_result"
    }
   ],
   "source": [
    "type(lst)"
   ]
  },
  {
   "cell_type": "code",
   "execution_count": 16,
   "id": "55f28b83-cd05-4260-a420-15bb5123a8ba",
   "metadata": {},
   "outputs": [
    {
     "data": {
      "text/plain": [
       "'toronto'"
      ]
     },
     "execution_count": 16,
     "metadata": {},
     "output_type": "execute_result"
    }
   ],
   "source": [
    "lst[0]"
   ]
  },
  {
   "cell_type": "code",
   "execution_count": 17,
   "id": "8b426e21-cf15-422f-8939-a628c6013209",
   "metadata": {},
   "outputs": [
    {
     "data": {
      "text/plain": [
       "3"
      ]
     },
     "execution_count": 17,
     "metadata": {},
     "output_type": "execute_result"
    }
   ],
   "source": [
    "lst[3]"
   ]
  },
  {
   "cell_type": "code",
   "execution_count": null,
   "id": "98537e17-2eb7-4ef7-be9b-1f8cf25d6633",
   "metadata": {},
   "outputs": [],
   "source": [
    "# for --> iterate --> move"
   ]
  },
  {
   "cell_type": "code",
   "execution_count": 18,
   "id": "3cbad7f7-4db7-4aca-87f9-2864dcdbda10",
   "metadata": {},
   "outputs": [
    {
     "name": "stdout",
     "output_type": "stream",
     "text": [
      "toronto\n",
      "1\n",
      "2\n",
      "3\n",
      "apple\n",
      "banana\n"
     ]
    }
   ],
   "source": [
    "for x in lst:\n",
    "    print(x)"
   ]
  },
  {
   "cell_type": "code",
   "execution_count": 20,
   "id": "4ebba644-558e-44e8-b65f-06f4c38cbe2e",
   "metadata": {},
   "outputs": [],
   "source": [
    "fruit_list=[\"Mango\",\"cherry\",\"apple\",\"banana\"]"
   ]
  },
  {
   "cell_type": "code",
   "execution_count": 22,
   "id": "9dd81d0e-4c81-41bc-ae5b-1657124ac5ea",
   "metadata": {},
   "outputs": [
    {
     "name": "stdout",
     "output_type": "stream",
     "text": [
      "Mango\n",
      "cherry\n",
      "the fruit is cherry\n",
      "apple\n",
      "banana\n"
     ]
    }
   ],
   "source": [
    "for a in fruit_list:\n",
    "    print(a)\n",
    "    if a==\"cherry\":\n",
    "        print(\"the fruit is cherry\")"
   ]
  },
  {
   "cell_type": "code",
   "execution_count": 26,
   "id": "754acad1-ccfa-403b-9b69-b8bf07ea3e48",
   "metadata": {},
   "outputs": [
    {
     "name": "stdout",
     "output_type": "stream",
     "text": [
      "Mango  cherry  the fruit is cherry\n",
      "apple  banana  "
     ]
    }
   ],
   "source": [
    "for a in fruit_list:\n",
    "    print(a,end= \"  \")\n",
    "    if a==\"cherry\":\n",
    "        print(\"the fruit is cherry\")"
   ]
  },
  {
   "cell_type": "code",
   "execution_count": 27,
   "id": "304a60ea-f086-4a4e-a942-43147a7f92b3",
   "metadata": {},
   "outputs": [
    {
     "name": "stdout",
     "output_type": "stream",
     "text": [
      "Mango  cherry  the fruit is cherry\n"
     ]
    }
   ],
   "source": [
    "for a in fruit_list:\n",
    "    print(a,end= \"  \")\n",
    "    if a==\"cherry\":\n",
    "        print(\"the fruit is cherry\")\n",
    "        break "
   ]
  },
  {
   "cell_type": "code",
   "execution_count": null,
   "id": "b42f90fa-802c-4b66-a6ed-83ada5d16ea6",
   "metadata": {},
   "outputs": [],
   "source": [
    "for a in fruit_list:\n",
    "    print(a)\n",
    "    if a==\"cherry\":\n",
    "        print(\"the fruit is cherry\")b "
   ]
  },
  {
   "cell_type": "code",
   "execution_count": 29,
   "id": "996ee12d-2b93-4221-a824-04fa5c6b8b7a",
   "metadata": {},
   "outputs": [
    {
     "name": "stdout",
     "output_type": "stream",
     "text": [
      "M\n",
      "a\n",
      "n\n",
      "g\n",
      "o\n"
     ]
    }
   ],
   "source": [
    "fruit='Mango'\n",
    "for x in fruit:\n",
    "    print(x)"
   ]
  },
  {
   "cell_type": "code",
   "execution_count": null,
   "id": "46d227b3-c7e4-41eb-8f14-03983df5a2cc",
   "metadata": {},
   "outputs": [],
   "source": [
    "# string is alsi element of list"
   ]
  },
  {
   "cell_type": "code",
   "execution_count": 30,
   "id": "56982cde-2c70-4740-9708-987ba982e846",
   "metadata": {},
   "outputs": [
    {
     "data": {
      "text/plain": [
       "'M'"
      ]
     },
     "execution_count": 30,
     "metadata": {},
     "output_type": "execute_result"
    }
   ],
   "source": [
    "fruit[0]"
   ]
  },
  {
   "cell_type": "code",
   "execution_count": 31,
   "id": "260b6ae3-1e0c-4e16-808b-c891a5462f6d",
   "metadata": {},
   "outputs": [
    {
     "data": {
      "text/plain": [
       "'n'"
      ]
     },
     "execution_count": 31,
     "metadata": {},
     "output_type": "execute_result"
    }
   ],
   "source": [
    "fruit[2]"
   ]
  },
  {
   "cell_type": "code",
   "execution_count": null,
   "id": "345d961d-71a2-4040-9601-6c11f5d42b0b",
   "metadata": {},
   "outputs": [],
   "source": [
    "## nested "
   ]
  },
  {
   "cell_type": "code",
   "execution_count": null,
   "id": "6f1131e1-69ce-4d93-b234-411a2f41fe01",
   "metadata": {},
   "outputs": [],
   "source": [
    "n=7"
   ]
  },
  {
   "cell_type": "code",
   "execution_count": 34,
   "id": "3aa4d676-00f5-40e4-877f-29e0b5bfa6cb",
   "metadata": {},
   "outputs": [
    {
     "name": "stdout",
     "output_type": "stream",
     "text": [
      "1\n",
      "3\n",
      "5\n",
      "7\n",
      "9\n"
     ]
    }
   ],
   "source": [
    "for i in range(1,10,2):\n",
    "    print(i)"
   ]
  },
  {
   "cell_type": "code",
   "execution_count": null,
   "id": "836aa91f-322e-47dc-95b9-9f68b2add508",
   "metadata": {},
   "outputs": [],
   "source": [
    "## NESTED LOOPS"
   ]
  },
  {
   "cell_type": "code",
   "execution_count": 37,
   "id": "329b902f-90ec-4f4f-bc5b-dc888b9f9d94",
   "metadata": {},
   "outputs": [
    {
     "name": "stdout",
     "output_type": "stream",
     "text": [
      "****************************"
     ]
    }
   ],
   "source": [
    "n=7\n",
    "for i in range(0,n):\n",
    "    for j in range(0,i+1):\n",
    "     print(\"*\",end =\"\")"
   ]
  },
  {
   "cell_type": "code",
   "execution_count": 54,
   "id": "c078ae7e-a755-46b1-8c73-cb336b0bd223",
   "metadata": {},
   "outputs": [
    {
     "name": "stdout",
     "output_type": "stream",
     "text": [
      "*\n",
      "**\n",
      "***\n",
      "****\n",
      "*****\n",
      "******\n",
      "*******\n"
     ]
    }
   ],
   "source": [
    "n=7\n",
    "\n",
    "for i in range(0,n):\n",
    "    for j in range(0,i+1):\n",
    "        print(\"*\",end=\"\")\n",
    "    print(\"\\r\")\n",
    "       "
   ]
  },
  {
   "cell_type": "code",
   "execution_count": 58,
   "id": "33d8e744-7235-4c0b-b823-1b7ce9e63a3f",
   "metadata": {},
   "outputs": [
    {
     "name": "stdout",
     "output_type": "stream",
     "text": [
      "\n",
      "*\n",
      "**\n",
      "***\n",
      "****\n",
      "*****\n",
      "******\n",
      "*******\n",
      "********\n",
      "*********\n",
      "**********\n",
      "***********\n",
      "************\n",
      "*************\n",
      "**************\n"
     ]
    }
   ],
   "source": [
    "n=15\n",
    "\n",
    "for i in range(0,n):\n",
    "    for j in range(1,i+1):\n",
    "        print(\"*\",end=\"\")\n",
    "    print(\"\\r\")\n",
    "       "
   ]
  },
  {
   "cell_type": "code",
   "execution_count": null,
   "id": "eadfaea2-f6dc-4f2a-8620-83776bb5e22b",
   "metadata": {},
   "outputs": [],
   "source": [
    "## loop control \n",
    "## Break and continue \n",
    "fruit_list=[\"Mango\",\"cherry\",\"apple\",\"banana\"]"
   ]
  },
  {
   "cell_type": "code",
   "execution_count": 69,
   "id": "d293e43c-503b-4b7c-90f9-4b4dc23b1c7b",
   "metadata": {},
   "outputs": [
    {
     "name": "stdout",
     "output_type": "stream",
     "text": [
      "Mango\n",
      "cherry\n",
      "apple\n",
      "banana\n"
     ]
    }
   ],
   "source": [
    "for i in fruit_list:\n",
    "    if i==\"Apple\":\n",
    "        print(\" the fruit is apple\")\n",
    "        break\n",
    "    print(i)"
   ]
  },
  {
   "cell_type": "code",
   "execution_count": 73,
   "id": "db5e763f-341a-4b80-a251-545e8e03d971",
   "metadata": {},
   "outputs": [
    {
     "name": "stdout",
     "output_type": "stream",
     "text": [
      "Mango\n",
      "cherry\n",
      "apple\n",
      "banana\n"
     ]
    }
   ],
   "source": [
    "for i in fruit_list:\n",
    "    if i==\"Apple\":\n",
    "        print(\" the fruit is apple\")\n",
    "        pass\n",
    "    print(i)"
   ]
  },
  {
   "cell_type": "code",
   "execution_count": 72,
   "id": "cbed236e-cd35-4dae-a835-a8cd4e691580",
   "metadata": {},
   "outputs": [
    {
     "name": "stdout",
     "output_type": "stream",
     "text": [
      "Mango\n",
      "cherry\n",
      "apple\n",
      "banana\n"
     ]
    }
   ],
   "source": [
    "for i in fruit_list:\n",
    "    if i==\"Apple\":\n",
    "        print(\" the fruit is apple\")\n",
    "        continue\n",
    "    print(i)"
   ]
  },
  {
   "cell_type": "code",
   "execution_count": null,
   "id": "4f588414-fa1b-4556-8323-a58c96a07bc2",
   "metadata": {},
   "outputs": [],
   "source": []
  },
  {
   "cell_type": "code",
   "execution_count": null,
   "id": "9fb844b7-3d3c-4d9e-a280-b79031908c78",
   "metadata": {},
   "outputs": [],
   "source": []
  },
  {
   "cell_type": "code",
   "execution_count": null,
   "id": "1bc64fe3-a594-4f40-a71c-9b63279be437",
   "metadata": {},
   "outputs": [],
   "source": []
  },
  {
   "cell_type": "code",
   "execution_count": null,
   "id": "e07c50b9-3ad0-463a-b2be-99766957f8c7",
   "metadata": {},
   "outputs": [],
   "source": []
  },
  {
   "cell_type": "code",
   "execution_count": null,
   "id": "9c8faaf1-c36f-42bf-8e31-31c935ec1c45",
   "metadata": {},
   "outputs": [],
   "source": []
  },
  {
   "cell_type": "code",
   "execution_count": null,
   "id": "96f5a7aa-99a2-404c-9e7a-95287dab02e9",
   "metadata": {},
   "outputs": [],
   "source": []
  },
  {
   "cell_type": "code",
   "execution_count": null,
   "id": "0f134555-2667-4068-8057-a8a8cc4122d5",
   "metadata": {},
   "outputs": [],
   "source": []
  },
  {
   "cell_type": "code",
   "execution_count": null,
   "id": "5f0fbcca-bd0c-4464-97f7-1621454b083e",
   "metadata": {},
   "outputs": [],
   "source": []
  },
  {
   "cell_type": "code",
   "execution_count": null,
   "id": "5dabcffa-fee6-40c5-9570-1272829c5665",
   "metadata": {},
   "outputs": [],
   "source": []
  },
  {
   "cell_type": "code",
   "execution_count": null,
   "id": "c5e51604-9c7f-4f8f-bcad-f19ea37359b6",
   "metadata": {},
   "outputs": [],
   "source": []
  },
  {
   "cell_type": "code",
   "execution_count": null,
   "id": "85ec8478-80ad-4907-ad10-c1247f3c6acf",
   "metadata": {},
   "outputs": [],
   "source": []
  },
  {
   "cell_type": "code",
   "execution_count": null,
   "id": "ecbc0c71-5a2b-4cb8-a88d-4cdc5ad6214b",
   "metadata": {},
   "outputs": [],
   "source": []
  },
  {
   "cell_type": "code",
   "execution_count": null,
   "id": "1cc7ef51-3dfd-4621-b9b6-aae12da097ef",
   "metadata": {},
   "outputs": [],
   "source": []
  },
  {
   "cell_type": "code",
   "execution_count": null,
   "id": "97aac373-cfa7-427f-be85-20306a82bdb5",
   "metadata": {},
   "outputs": [],
   "source": []
  },
  {
   "cell_type": "code",
   "execution_count": null,
   "id": "7a99c7a4-ddea-47c5-9f92-8f9d1dad5bd5",
   "metadata": {},
   "outputs": [],
   "source": []
  }
 ],
 "metadata": {
  "kernelspec": {
   "display_name": "Python 3 (ipykernel)",
   "language": "python",
   "name": "python3"
  },
  "language_info": {
   "codemirror_mode": {
    "name": "ipython",
    "version": 3
   },
   "file_extension": ".py",
   "mimetype": "text/x-python",
   "name": "python",
   "nbconvert_exporter": "python",
   "pygments_lexer": "ipython3",
   "version": "3.10.8"
  }
 },
 "nbformat": 4,
 "nbformat_minor": 5
}
