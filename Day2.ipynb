{
 "cells": [
  {
   "cell_type": "code",
   "execution_count": 1,
   "id": "2b046a35-d24d-4fb1-98c8-a185f0f3b3f7",
   "metadata": {},
   "outputs": [],
   "source": [
    "a=10"
   ]
  },
  {
   "cell_type": "code",
   "execution_count": 2,
   "id": "7bd93453-52ce-47d6-a4a4-c37428ca25ec",
   "metadata": {},
   "outputs": [],
   "source": [
    "# you dont have to declare data type, python compiler will automatically declare it for you. "
   ]
  },
  {
   "cell_type": "code",
   "execution_count": 3,
   "id": "4e150a18-ca4f-42ec-8ce3-0d03212af9da",
   "metadata": {},
   "outputs": [],
   "source": [
    "a='c'"
   ]
  },
  {
   "cell_type": "code",
   "execution_count": 4,
   "id": "5b2e7a4b-de24-4035-bd39-bcfcfa5ee290",
   "metadata": {},
   "outputs": [
    {
     "ename": "NameError",
     "evalue": "name 'TYPE' is not defined",
     "output_type": "error",
     "traceback": [
      "\u001b[0;31m---------------------------------------------------------------------------\u001b[0m",
      "\u001b[0;31mNameError\u001b[0m                                 Traceback (most recent call last)",
      "Cell \u001b[0;32mIn[4], line 1\u001b[0m\n\u001b[0;32m----> 1\u001b[0m \u001b[43mTYPE\u001b[49m(a)\n",
      "\u001b[0;31mNameError\u001b[0m: name 'TYPE' is not defined"
     ]
    }
   ],
   "source": [
    "TYPE(a)"
   ]
  },
  {
   "cell_type": "code",
   "execution_count": 5,
   "id": "99b3258d-771e-4a18-a1ee-ae055b292c4c",
   "metadata": {},
   "outputs": [
    {
     "data": {
      "text/plain": [
       "str"
      ]
     },
     "execution_count": 5,
     "metadata": {},
     "output_type": "execute_result"
    }
   ],
   "source": [
    "type(a)"
   ]
  },
  {
   "cell_type": "code",
   "execution_count": 6,
   "id": "159c77e3-49bc-45ba-8d6a-e2c07c366d95",
   "metadata": {},
   "outputs": [
    {
     "data": {
      "text/plain": [
       "int"
      ]
     },
     "execution_count": 6,
     "metadata": {},
     "output_type": "execute_result"
    }
   ],
   "source": [
    "int"
   ]
  },
  {
   "cell_type": "code",
   "execution_count": 7,
   "id": "68110c75-029f-4a0e-8023-765e19892b1d",
   "metadata": {},
   "outputs": [],
   "source": [
    "#shift + tab "
   ]
  },
  {
   "cell_type": "code",
   "execution_count": 8,
   "id": "0896f383-acb8-4275-95a2-704be9f33f00",
   "metadata": {},
   "outputs": [
    {
     "name": "stdout",
     "output_type": "stream",
     "text": [
      "Hello World\n"
     ]
    }
   ],
   "source": [
    "print(\"Hello World\")"
   ]
  },
  {
   "cell_type": "code",
   "execution_count": 9,
   "id": "619e5856-9b97-45ce-b911-0f4b6946bf8b",
   "metadata": {},
   "outputs": [
    {
     "name": "stdout",
     "output_type": "stream",
     "text": [
      "123\n"
     ]
    }
   ],
   "source": [
    "print(123)"
   ]
  },
  {
   "cell_type": "code",
   "execution_count": 10,
   "id": "96d3b2aa-482c-474b-b2a3-54f1f106fb90",
   "metadata": {},
   "outputs": [
    {
     "name": "stdout",
     "output_type": "stream",
     "text": [
      "hello world\n"
     ]
    }
   ],
   "source": [
    "print('hello world')"
   ]
  },
  {
   "cell_type": "code",
   "execution_count": 11,
   "id": "268088bd-c61d-41c9-bde6-91ba84caa804",
   "metadata": {},
   "outputs": [],
   "source": [
    "age =32"
   ]
  },
  {
   "cell_type": "code",
   "execution_count": 13,
   "id": "cf6265a7-7a25-4d6c-ab43-ed6bcbbad1a9",
   "metadata": {},
   "outputs": [
    {
     "name": "stdout",
     "output_type": "stream",
     "text": [
      "my age is : 32\n"
     ]
    }
   ],
   "source": [
    "print(\"my age is :\",age)"
   ]
  },
  {
   "cell_type": "code",
   "execution_count": 14,
   "id": "e9008561-eabe-403d-ae6d-2cffa7436c0b",
   "metadata": {},
   "outputs": [
    {
     "name": "stdout",
     "output_type": "stream",
     "text": [
      "My age is: {age}\n"
     ]
    }
   ],
   "source": [
    "print(\"My age is: {age}\")"
   ]
  },
  {
   "cell_type": "code",
   "execution_count": 16,
   "id": "5f0a7147-eadd-4ac9-a3a3-bf6866330a27",
   "metadata": {},
   "outputs": [],
   "source": [
    "# f is used for formating // called as f string "
   ]
  },
  {
   "cell_type": "code",
   "execution_count": 15,
   "id": "df114b5b-9033-4155-b2a2-1304a45676de",
   "metadata": {},
   "outputs": [
    {
     "name": "stdout",
     "output_type": "stream",
     "text": [
      "My age is: 32\n"
     ]
    }
   ],
   "source": [
    "print(f\"My age is: {age}\")"
   ]
  },
  {
   "cell_type": "code",
   "execution_count": 19,
   "id": "1837d05a-e44e-4085-899a-c72c0490616b",
   "metadata": {},
   "outputs": [],
   "source": [
    "## format()\n",
    "# any number start with 0 in python \n",
    "# R starts indexing with 1 "
   ]
  },
  {
   "cell_type": "code",
   "execution_count": 20,
   "id": "61b4e1c7-378b-4060-ae20-e54655832b8f",
   "metadata": {},
   "outputs": [],
   "source": [
    "name ='Parth'\n",
    "age=32"
   ]
  },
  {
   "cell_type": "code",
   "execution_count": 24,
   "id": "4d8295f1-e829-4fc3-9f11-cacdcefbbe8f",
   "metadata": {},
   "outputs": [
    {
     "name": "stdout",
     "output_type": "stream",
     "text": [
      "My name is Parth and age is 32\n"
     ]
    }
   ],
   "source": [
    "print(\"My name is {} and age is {}\".format(name,age))"
   ]
  },
  {
   "cell_type": "code",
   "execution_count": null,
   "id": "4e635c99-7546-4468-b205-df4fbecf65cb",
   "metadata": {},
   "outputs": [],
   "source": [
    "#Placeholders "
   ]
  },
  {
   "cell_type": "code",
   "execution_count": 27,
   "id": "70c1136b-b4f8-47ea-99b4-6fca5dcd1bea",
   "metadata": {},
   "outputs": [
    {
     "name": "stdout",
     "output_type": "stream",
     "text": [
      "My name is Parth and age is 32\n"
     ]
    }
   ],
   "source": [
    "print(\"My name is {firstname} and age is {ages}\".format(firstname=name,ages=age))"
   ]
  },
  {
   "cell_type": "code",
   "execution_count": 28,
   "id": "1507040d-f885-49b8-a77e-b32e9594b0a8",
   "metadata": {},
   "outputs": [],
   "source": [
    "# print complex statement then .format is used "
   ]
  },
  {
   "cell_type": "code",
   "execution_count": 31,
   "id": "7b42062c-04b4-4f2b-805e-a3dc043ee5de",
   "metadata": {},
   "outputs": [
    {
     "data": {
      "text/plain": [
       "'My age is 32 and I have comepleted BE with name of Parth'"
      ]
     },
     "execution_count": 31,
     "metadata": {},
     "output_type": "execute_result"
    }
   ],
   "source": [
    "name ='Parth'\n",
    "age=32\n",
    "degree=\"BE\"\n",
    "\n",
    "\"My age is 32 and I have comepleted BE with name of Parth\""
   ]
  },
  {
   "cell_type": "code",
   "execution_count": 33,
   "id": "4365f946-5370-4aee-ab7e-1537410013fc",
   "metadata": {},
   "outputs": [
    {
     "name": "stdout",
     "output_type": "stream",
     "text": [
      "My age is{name} and I have completed my {age} with the name of {degree}\n"
     ]
    }
   ],
   "source": [
    "print(\"My age is{name} and I have completed my {age} with the name of {degree}\")\n",
    "    "
   ]
  },
  {
   "cell_type": "code",
   "execution_count": 34,
   "id": "c5dee2cc-96d7-47b1-bf52-e904fcbac076",
   "metadata": {},
   "outputs": [
    {
     "name": "stdout",
     "output_type": "stream",
     "text": [
      "My age isParth and I have completed my 32 with the name of BE\n"
     ]
    }
   ],
   "source": [
    "print(f\"My age is{name} and I have completed my {age} with the name of {degree}\")"
   ]
  },
  {
   "cell_type": "code",
   "execution_count": 44,
   "id": "ed6272e6-46d4-4149-9203-576b7926f3b2",
   "metadata": {},
   "outputs": [],
   "source": [
    "## control flow \n",
    "### Decision Making statements \n",
    "\n",
    "# 1. if \n",
    "#  2. if else \n",
    "# 3. if elif else  \n",
    "# 4. Nested if  \n",
    "# 5. Single statement suites  "
   ]
  },
  {
   "cell_type": "code",
   "execution_count": 46,
   "id": "92277d2c-fb42-4b7f-95b3-f8041f4e427f",
   "metadata": {},
   "outputs": [
    {
     "name": "stdout",
     "output_type": "stream",
     "text": [
      "you are eligible to vote\n"
     ]
    }
   ],
   "source": [
    "## if statements \n",
    "## ==,>=,<=\n",
    "\n",
    "age=18\n",
    "if age>=18:\n",
    "    print(\"you are eligible to vote\")"
   ]
  },
  {
   "cell_type": "code",
   "execution_count": 47,
   "id": "17c09bde-ff6b-4991-87d0-c68b473a7c1f",
   "metadata": {},
   "outputs": [],
   "source": [
    "## no need to worry abt indentation"
   ]
  },
  {
   "cell_type": "code",
   "execution_count": 49,
   "id": "3e5df1f6-56cb-4f91-8a4c-6d20658d3e10",
   "metadata": {},
   "outputs": [],
   "source": [
    "age=18\n",
    "if age<18:\n",
    "    print(\"you are eligible to vote\")"
   ]
  },
  {
   "cell_type": "code",
   "execution_count": 50,
   "id": "f665744c-2dfb-409a-bf15-93ac7451b77a",
   "metadata": {},
   "outputs": [],
   "source": [
    "# no output as logic didnt went to if block "
   ]
  },
  {
   "cell_type": "code",
   "execution_count": 51,
   "id": "92aa89c9-dbf0-42e9-b6d5-44a535a8cea4",
   "metadata": {},
   "outputs": [
    {
     "name": "stdout",
     "output_type": "stream",
     "text": [
      "you are eligible to vote\n"
     ]
    }
   ],
   "source": [
    "age=16\n",
    "if age<18:\n",
    "    print(\"you are eligible to vote\")"
   ]
  },
  {
   "cell_type": "code",
   "execution_count": 52,
   "id": "abf907c2-b270-4462-92f6-bca63d075320",
   "metadata": {},
   "outputs": [
    {
     "data": {
      "text/plain": [
       "True"
      ]
     },
     "execution_count": 52,
     "metadata": {},
     "output_type": "execute_result"
    }
   ],
   "source": [
    "16<18"
   ]
  },
  {
   "cell_type": "code",
   "execution_count": 53,
   "id": "6375f13e-abcd-4808-9256-1aece296d3e2",
   "metadata": {},
   "outputs": [
    {
     "data": {
      "text/plain": [
       "False"
      ]
     },
     "execution_count": 53,
     "metadata": {},
     "output_type": "execute_result"
    }
   ],
   "source": [
    "18<18"
   ]
  },
  {
   "cell_type": "code",
   "execution_count": 54,
   "id": "ae79f5a6-419a-4994-8208-790b3c85ca02",
   "metadata": {},
   "outputs": [
    {
     "data": {
      "text/plain": [
       "True"
      ]
     },
     "execution_count": 54,
     "metadata": {},
     "output_type": "execute_result"
    }
   ],
   "source": [
    "18<=18"
   ]
  },
  {
   "cell_type": "code",
   "execution_count": 55,
   "id": "6dde24d3-3de4-488a-9a78-dcbbe4dadca9",
   "metadata": {},
   "outputs": [],
   "source": [
    "## : indicates start of if block "
   ]
  },
  {
   "cell_type": "code",
   "execution_count": 56,
   "id": "d80311ab-6576-4aa0-b490-b1ee2bde3acd",
   "metadata": {},
   "outputs": [
    {
     "name": "stdin",
     "output_type": "stream",
     "text": [
      " Parth\n"
     ]
    },
    {
     "data": {
      "text/plain": [
       "'Parth'"
      ]
     },
     "execution_count": 56,
     "metadata": {},
     "output_type": "execute_result"
    }
   ],
   "source": [
    "input()"
   ]
  },
  {
   "cell_type": "code",
   "execution_count": 57,
   "id": "9a71d2ed-19a2-4bb9-a24f-08ef37f601fc",
   "metadata": {},
   "outputs": [
    {
     "name": "stdin",
     "output_type": "stream",
     "text": [
      "Enter the name Parth\n"
     ]
    }
   ],
   "source": [
    "name=input(\"Enter the name\")"
   ]
  },
  {
   "cell_type": "code",
   "execution_count": 58,
   "id": "02c752e0-5c4d-47b6-b8cc-97bccbcd296f",
   "metadata": {},
   "outputs": [
    {
     "data": {
      "text/plain": [
       "'Parth'"
      ]
     },
     "execution_count": 58,
     "metadata": {},
     "output_type": "execute_result"
    }
   ],
   "source": [
    "name"
   ]
  },
  {
   "cell_type": "code",
   "execution_count": 59,
   "id": "ed80fdbf-cddb-4e33-9fce-95994397eaf2",
   "metadata": {},
   "outputs": [
    {
     "name": "stdin",
     "output_type": "stream",
     "text": [
      "Enter your age 20\n"
     ]
    }
   ],
   "source": [
    "age=int(input(\"Enter your age\"))"
   ]
  },
  {
   "cell_type": "code",
   "execution_count": 60,
   "id": "8c2b76c2-46e0-4039-965c-5d405e7e4238",
   "metadata": {},
   "outputs": [
    {
     "data": {
      "text/plain": [
       "int"
      ]
     },
     "execution_count": 60,
     "metadata": {},
     "output_type": "execute_result"
    }
   ],
   "source": [
    "type(age)"
   ]
  },
  {
   "cell_type": "code",
   "execution_count": 61,
   "id": "ee5ca469-cd5b-4a60-bb35-98e2cf57dfb4",
   "metadata": {},
   "outputs": [],
   "source": [
    "## task \n",
    "## take a input of age \n",
    "## check if age >=18 and age<=40\n",
    "## display a message you are  young "
   ]
  },
  {
   "cell_type": "code",
   "execution_count": 67,
   "id": "72370c01-8ccd-4818-889d-a3ba9866090c",
   "metadata": {},
   "outputs": [
    {
     "name": "stdin",
     "output_type": "stream",
     "text": [
      "Enter your age 44\n"
     ]
    }
   ],
   "source": [
    "age=int(input(\"Enter your age\"))"
   ]
  },
  {
   "cell_type": "code",
   "execution_count": 69,
   "id": "84db646b-d8b2-4d7d-91bc-521ed845acc0",
   "metadata": {},
   "outputs": [],
   "source": [
    "if age>=18 and age<=40:\n",
    "    print(\"You are young\")"
   ]
  },
  {
   "cell_type": "code",
   "execution_count": 70,
   "id": "07007133-47d8-48b6-b2e6-b947ea0e2848",
   "metadata": {},
   "outputs": [],
   "source": [
    "## if else statement "
   ]
  },
  {
   "cell_type": "code",
   "execution_count": 71,
   "id": "382b83c4-4534-4ae7-b9fc-512981c8ddd4",
   "metadata": {},
   "outputs": [
    {
     "name": "stdin",
     "output_type": "stream",
     "text": [
      "Enter your age 77\n"
     ]
    },
    {
     "name": "stdout",
     "output_type": "stream",
     "text": [
      "Your application is rejected\n"
     ]
    }
   ],
   "source": [
    "age=int(input(\"Enter your age\"))\n",
    "if age>=18 and age<=40:\n",
    "    print(\"You are young\")\n",
    "else:\n",
    "    print(\"Your application is rejected\")"
   ]
  },
  {
   "cell_type": "code",
   "execution_count": 1,
   "id": "cddc53e2-35c4-43a7-8973-253d1f6f6ca7",
   "metadata": {},
   "outputs": [],
   "source": [
    "#mall - input the product price \n",
    "# product >1000 cad 20% off\n",
    "# print the product price after removing discount\n",
    "#product <=1000 cad 30% off \n",
    "# print the product price after removing discount\n"
   ]
  },
  {
   "cell_type": "raw",
   "id": "c778e31b-a052-45c9-94c8-1a42c0756ce9",
   "metadata": {},
   "source": [
    "product_price=int(input(\"enter the price\"))\n",
    "if prod"
   ]
  },
  {
   "cell_type": "code",
   "execution_count": 2,
   "id": "5b2e0380-88c0-40ff-887b-a4c0a7c9c701",
   "metadata": {},
   "outputs": [
    {
     "name": "stdin",
     "output_type": "stream",
     "text": [
      "enter the price 799\n"
     ]
    },
    {
     "name": "stdout",
     "output_type": "stream",
     "text": [
      "the price of product is 559.3\n"
     ]
    }
   ],
   "source": [
    "product_price=int(input(\"enter the price\"))\n",
    "if product_price>1000:\n",
    "    print(\"The price of product is {}\" .format(product_price*0.8))\n",
    "else:\n",
    "    print(\"the price of product is {}\" .format(product_price*0.7))\n"
   ]
  },
  {
   "cell_type": "code",
   "execution_count": 3,
   "id": "72241c8b-8ebd-406b-8bff-97e2c4816074",
   "metadata": {},
   "outputs": [
    {
     "name": "stdin",
     "output_type": "stream",
     "text": [
      "enter the price 2333\n"
     ]
    },
    {
     "name": "stdout",
     "output_type": "stream",
     "text": [
      "The price of product is 1866.4\n"
     ]
    }
   ],
   "source": [
    "product_price=int(input(\"enter the price\"))\n",
    "if product_price>1000:\n",
    "    print(f\"The price of product is {product_price*0.8}\")\n",
    "else:\n",
    "    print(f\"the price of product is {product_price*0.7}\")\n"
   ]
  },
  {
   "cell_type": "code",
   "execution_count": null,
   "id": "6ed78591-458b-46c8-b930-fb8f44c4868f",
   "metadata": {},
   "outputs": [],
   "source": [
    "#mall - input the product price \n",
    "# product >3000 cad 20% off\n",
    "# print the product price after removing discount\n",
    "#product >= 2000 and <=3000 cad 30% off \n",
    "#product <=1000 and <=2000 40% pff\n",
    "# print the product price after removing discount\n"
   ]
  },
  {
   "cell_type": "code",
   "execution_count": 6,
   "id": "af1384a8-96cb-4d20-9c78-963697153653",
   "metadata": {},
   "outputs": [
    {
     "name": "stdin",
     "output_type": "stream",
     "text": [
      "enter the price 1000\n"
     ]
    },
    {
     "name": "stdout",
     "output_type": "stream",
     "text": [
      "the price of product is 600.0\n"
     ]
    }
   ],
   "source": [
    "product_price=int(input(\"enter the price\"))\n",
    "if product_price>3000:\n",
    "    print(f\"The price of product is {product_price*0.8}\")\n",
    "elif product_price>=2000 and product_price<=3000:\n",
    "    print(f\"The price of product is {product_price*0.7}\")\n",
    "else:\n",
    "    print(f\"the price of product is {product_price*0.6}\")\n"
   ]
  },
  {
   "cell_type": "code",
   "execution_count": null,
   "id": "7251d8c7-ab25-43b9-b5df-40d6dcefd138",
   "metadata": {},
   "outputs": [],
   "source": [
    "#mall - input the product price \n",
    "# product >3000 cad 20% off\n",
    "# print the product price after removing discount\n",
    "#product >= 2000 and <=3000 cad 30% off \n",
    "## price ==2999 u will get additional gift \n",
    "#product <=1000 and <=2000 40% off\n",
    "# print the product price after removing discount\n"
   ]
  },
  {
   "cell_type": "code",
   "execution_count": null,
   "id": "7b6e932e-5030-4ba0-9caa-fb9a603d3f58",
   "metadata": {},
   "outputs": [],
   "source": [
    "## nested if \n",
    "## if within if "
   ]
  },
  {
   "cell_type": "code",
   "execution_count": 9,
   "id": "b00ed1fa-9bc3-4222-9822-0c616a281c49",
   "metadata": {},
   "outputs": [
    {
     "name": "stdin",
     "output_type": "stream",
     "text": [
      "enter the price 2999\n"
     ]
    },
    {
     "name": "stdout",
     "output_type": "stream",
     "text": [
      "congratulation for getting additional gift\n",
      "The price of product is 2099.2999999999997\n"
     ]
    }
   ],
   "source": [
    "product_price=int(input(\"enter the price\"))\n",
    "if product_price>3000:\n",
    "    print(f\"The price of product is {product_price*0.8}\")\n",
    "elif product_price>=2000 and product_price<=3000:\n",
    "    if product_price==2999:\n",
    "        print(\"congratulation for getting additional gift\")\n",
    "    print(f\"The price of product is {product_price*0.7}\")\n",
    "else:\n",
    "    print(f\"the price of product is {product_price*0.6}\")"
   ]
  },
  {
   "cell_type": "code",
   "execution_count": null,
   "id": "55b82a0b-25a1-46e0-9273-70860db673a5",
   "metadata": {},
   "outputs": [],
   "source": [
    "#mall - input the product price \n",
    "# product >3000 cad 20% off\n",
    "#product = 4000 - trip to Toronto \n",
    "# print the product price after removing discount\n",
    "#product >= 2000 and <=3000 cad 30% off \n",
    "## price ==2999 u will get additional gift \n",
    "#product <=1000 and <=2000 40% off\n",
    "# print the product price after removing discount\n"
   ]
  },
  {
   "cell_type": "code",
   "execution_count": 11,
   "id": "2d598fb1-8ff8-45fd-a02d-d6f556b30ba8",
   "metadata": {},
   "outputs": [
    {
     "name": "stdin",
     "output_type": "stream",
     "text": [
      "enter the price 4000\n"
     ]
    },
    {
     "name": "stdout",
     "output_type": "stream",
     "text": [
      "congratulation for getting Toronto Trip\n",
      "The price of product is 3200.0\n"
     ]
    }
   ],
   "source": [
    "product_price=int(input(\"enter the price\"))\n",
    "if product_price>3000:\n",
    "     if product_price==4000:\n",
    "        print(\"congratulation for getting Toronto Trip\")\n",
    "        print(f\"The price of product is {product_price*0.8}\")\n",
    "elif product_price>=2000 and product_price<=3000:\n",
    "    if product_price==2999:\n",
    "        print(\"congratulation for getting additional gift\")\n",
    "    print(f\"The price of product is {product_price*0.7}\")\n",
    "else:\n",
    "    print(f\"the price of product is {product_price*0.6}\")"
   ]
  },
  {
   "cell_type": "code",
   "execution_count": 14,
   "id": "bdf747ba-5cb0-4663-ace9-2f7fcaa70f1d",
   "metadata": {},
   "outputs": [
    {
     "name": "stdin",
     "output_type": "stream",
     "text": [
      "Enter the number 1000\n"
     ]
    },
    {
     "name": "stdout",
     "output_type": "stream",
     "text": [
      "Go home\n"
     ]
    }
   ],
   "source": [
    "## single statement  \n",
    "val=int(input('Enter the number'))\n",
    "if(val<=999):print(\"value is less than equal to 999\")\n",
    "else:\n",
    "    print(\"Go home\")"
   ]
  },
  {
   "cell_type": "code",
   "execution_count": null,
   "id": "83618dea-0a58-44d1-aa6d-da079b0a8cf8",
   "metadata": {},
   "outputs": [],
   "source": []
  }
 ],
 "metadata": {
  "kernelspec": {
   "display_name": "Python 3 (ipykernel)",
   "language": "python",
   "name": "python3"
  },
  "language_info": {
   "codemirror_mode": {
    "name": "ipython",
    "version": 3
   },
   "file_extension": ".py",
   "mimetype": "text/x-python",
   "name": "python",
   "nbconvert_exporter": "python",
   "pygments_lexer": "ipython3",
   "version": "3.10.8"
  }
 },
 "nbformat": 4,
 "nbformat_minor": 5
}
