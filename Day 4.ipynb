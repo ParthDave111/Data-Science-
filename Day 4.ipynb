{
 "cells": [
  {
   "cell_type": "markdown",
   "id": "e828582c-c405-49b7-b021-83568713b53b",
   "metadata": {},
   "source": [
    "Logicals Operators \n",
    "1. And \n",
    "2. Or \n",
    "3. Not "
   ]
  },
  {
   "cell_type": "code",
   "execution_count": 1,
   "id": "df8a27ce-1149-4bd8-8387-4eee336c54aa",
   "metadata": {},
   "outputs": [
    {
     "data": {
      "text/plain": [
       "True"
      ]
     },
     "execution_count": 1,
     "metadata": {},
     "output_type": "execute_result"
    }
   ],
   "source": [
    "True and True"
   ]
  },
  {
   "cell_type": "code",
   "execution_count": 2,
   "id": "25e11f41-d392-417d-853d-c60671a25808",
   "metadata": {},
   "outputs": [
    {
     "data": {
      "text/plain": [
       "True"
      ]
     },
     "execution_count": 2,
     "metadata": {},
     "output_type": "execute_result"
    }
   ],
   "source": [
    "True or False"
   ]
  },
  {
   "cell_type": "code",
   "execution_count": null,
   "id": "763270cc-0765-4438-a2ea-b5f14e144d35",
   "metadata": {},
   "outputs": [],
   "source": [
    "Start= True\n",
    "Stop= False "
   ]
  },
  {
   "cell_type": "code",
   "execution_count": 3,
   "id": "19881324-261e-42f7-b564-c9085dd4756d",
   "metadata": {},
   "outputs": [
    {
     "data": {
      "text/plain": [
       "False"
      ]
     },
     "execution_count": 3,
     "metadata": {},
     "output_type": "execute_result"
    }
   ],
   "source": [
    "not True"
   ]
  },
  {
   "cell_type": "code",
   "execution_count": 4,
   "id": "e82f0ba6-55ee-46c3-99e9-86da27d763cf",
   "metadata": {},
   "outputs": [
    {
     "data": {
      "text/plain": [
       "True"
      ]
     },
     "execution_count": 4,
     "metadata": {},
     "output_type": "execute_result"
    }
   ],
   "source": [
    "not bool(0)"
   ]
  },
  {
   "cell_type": "code",
   "execution_count": 6,
   "id": "33eb1270-f017-4a61-ae43-0fbf6a8dfb12",
   "metadata": {},
   "outputs": [
    {
     "data": {
      "text/plain": [
       "True"
      ]
     },
     "execution_count": 6,
     "metadata": {},
     "output_type": "execute_result"
    }
   ],
   "source": [
    "not int(bool(0))"
   ]
  },
  {
   "cell_type": "code",
   "execution_count": 7,
   "id": "e46a7c18-253e-4376-9545-3a9835fc9749",
   "metadata": {},
   "outputs": [
    {
     "data": {
      "text/plain": [
       "False"
      ]
     },
     "execution_count": 7,
     "metadata": {},
     "output_type": "execute_result"
    }
   ],
   "source": [
    "not 2"
   ]
  },
  {
   "cell_type": "code",
   "execution_count": 11,
   "id": "25f1fafa-d4df-4a0e-8af6-28b8c55a22f3",
   "metadata": {},
   "outputs": [],
   "source": [
    "# any number except zero is considered as true (positive/negative)"
   ]
  },
  {
   "cell_type": "code",
   "execution_count": 8,
   "id": "893ac1cd-5c9b-46e0-b94f-1030de5bd78c",
   "metadata": {},
   "outputs": [
    {
     "data": {
      "text/plain": [
       "True"
      ]
     },
     "execution_count": 8,
     "metadata": {},
     "output_type": "execute_result"
    }
   ],
   "source": [
    "not 0"
   ]
  },
  {
   "cell_type": "code",
   "execution_count": 10,
   "id": "4ec31e78-77ea-4b67-9748-5d711e14d41f",
   "metadata": {},
   "outputs": [
    {
     "data": {
      "text/plain": [
       "False"
      ]
     },
     "execution_count": 10,
     "metadata": {},
     "output_type": "execute_result"
    }
   ],
   "source": [
    "not -1"
   ]
  },
  {
   "cell_type": "code",
   "execution_count": 12,
   "id": "7051df18-2588-4313-b66f-32f724870b2e",
   "metadata": {},
   "outputs": [
    {
     "data": {
      "text/plain": [
       "True"
      ]
     },
     "execution_count": 12,
     "metadata": {},
     "output_type": "execute_result"
    }
   ],
   "source": [
    "not 0 "
   ]
  },
  {
   "cell_type": "code",
   "execution_count": 13,
   "id": "51ff929c-c6e9-4f88-b54b-ee9674093de9",
   "metadata": {},
   "outputs": [
    {
     "data": {
      "text/plain": [
       "False"
      ]
     },
     "execution_count": 13,
     "metadata": {},
     "output_type": "execute_result"
    }
   ],
   "source": [
    "not 1 "
   ]
  },
  {
   "cell_type": "code",
   "execution_count": 1,
   "id": "7e0c3652-ccaa-47b6-bc5b-e95c177c6ee9",
   "metadata": {},
   "outputs": [],
   "source": [
    " ## logical and "
   ]
  },
  {
   "cell_type": "code",
   "execution_count": 2,
   "id": "63160a8c-48e6-413b-9393-4e01db7f2715",
   "metadata": {},
   "outputs": [
    {
     "data": {
      "text/plain": [
       "0"
      ]
     },
     "execution_count": 2,
     "metadata": {},
     "output_type": "execute_result"
    }
   ],
   "source": [
    "True * False"
   ]
  },
  {
   "cell_type": "code",
   "execution_count": 3,
   "id": "276266a9-1ee8-4e8b-93b9-b162ad162619",
   "metadata": {},
   "outputs": [
    {
     "data": {
      "text/plain": [
       "1"
      ]
     },
     "execution_count": 3,
     "metadata": {},
     "output_type": "execute_result"
    }
   ],
   "source": [
    "True* True"
   ]
  },
  {
   "cell_type": "code",
   "execution_count": 5,
   "id": "2f91736d-7566-4e79-a834-4020b5303ce5",
   "metadata": {},
   "outputs": [
    {
     "data": {
      "text/plain": [
       "True"
      ]
     },
     "execution_count": 5,
     "metadata": {},
     "output_type": "execute_result"
    }
   ],
   "source": [
    "not(False)* True\n"
   ]
  },
  {
   "cell_type": "code",
   "execution_count": 6,
   "id": "eaac7e54-2254-4525-9350-6b13b90acdc3",
   "metadata": {},
   "outputs": [
    {
     "data": {
      "text/plain": [
       "0"
      ]
     },
     "execution_count": 6,
     "metadata": {},
     "output_type": "execute_result"
    }
   ],
   "source": [
    "False*False"
   ]
  },
  {
   "cell_type": "code",
   "execution_count": 8,
   "id": "ab0c2b55-600f-4ba8-bddd-aaf067dd0a7e",
   "metadata": {},
   "outputs": [
    {
     "data": {
      "text/plain": [
       "0"
      ]
     },
     "execution_count": 8,
     "metadata": {},
     "output_type": "execute_result"
    }
   ],
   "source": [
    "False * (not(False))"
   ]
  },
  {
   "cell_type": "code",
   "execution_count": 1,
   "id": "526f50d4-8596-4dbe-9259-a8e17137637a",
   "metadata": {},
   "outputs": [
    {
     "data": {
      "text/plain": [
       "True"
      ]
     },
     "execution_count": 1,
     "metadata": {},
     "output_type": "execute_result"
    }
   ],
   "source": [
    "not(True) * False"
   ]
  },
  {
   "cell_type": "code",
   "execution_count": 2,
   "id": "e5af146f-dfbc-4982-89e8-096cb21901df",
   "metadata": {},
   "outputs": [
    {
     "data": {
      "text/plain": [
       "True"
      ]
     },
     "execution_count": 2,
     "metadata": {},
     "output_type": "execute_result"
    }
   ],
   "source": [
    "not(False)"
   ]
  },
  {
   "cell_type": "code",
   "execution_count": 3,
   "id": "6b8d0ec1-b025-488b-94b2-dfbbc5482a2d",
   "metadata": {},
   "outputs": [
    {
     "data": {
      "text/plain": [
       "True"
      ]
     },
     "execution_count": 3,
     "metadata": {},
     "output_type": "execute_result"
    }
   ],
   "source": [
    "(not(False))"
   ]
  },
  {
   "cell_type": "code",
   "execution_count": 4,
   "id": "99f65171-6bca-4e20-8060-e992019cf3bd",
   "metadata": {},
   "outputs": [
    {
     "data": {
      "text/plain": [
       "0"
      ]
     },
     "execution_count": 4,
     "metadata": {},
     "output_type": "execute_result"
    }
   ],
   "source": [
    "False * False"
   ]
  },
  {
   "cell_type": "code",
   "execution_count": 7,
   "id": "d5ccb266-6d90-44e4-a8ca-f642c676cb5b",
   "metadata": {},
   "outputs": [],
   "source": [
    "## Precedence \n",
    "# BODMAS RULE \n",
    "# B--> Bracket "
   ]
  },
  {
   "cell_type": "code",
   "execution_count": 6,
   "id": "3caf53a3-4d64-4804-944a-db294f9ec9e2",
   "metadata": {},
   "outputs": [
    {
     "data": {
      "text/plain": [
       "0"
      ]
     },
     "execution_count": 6,
     "metadata": {},
     "output_type": "execute_result"
    }
   ],
   "source": [
    "(not(False)) * False"
   ]
  },
  {
   "cell_type": "code",
   "execution_count": 5,
   "id": "02041bd7-b74d-4a8b-9871-a9818f3ebd37",
   "metadata": {},
   "outputs": [
    {
     "data": {
      "text/plain": [
       "True"
      ]
     },
     "execution_count": 5,
     "metadata": {},
     "output_type": "execute_result"
    }
   ],
   "source": [
    "not(False) * False"
   ]
  },
  {
   "cell_type": "code",
   "execution_count": 8,
   "id": "f866c025-4631-4516-8002-8593f79c9594",
   "metadata": {},
   "outputs": [
    {
     "data": {
      "text/plain": [
       "7"
      ]
     },
     "execution_count": 8,
     "metadata": {},
     "output_type": "execute_result"
    }
   ],
   "source": [
    "1+2*3"
   ]
  },
  {
   "cell_type": "code",
   "execution_count": 9,
   "id": "1eb71f90-24b6-4514-9663-feaad5c7ee21",
   "metadata": {},
   "outputs": [
    {
     "data": {
      "text/plain": [
       "9"
      ]
     },
     "execution_count": 9,
     "metadata": {},
     "output_type": "execute_result"
    }
   ],
   "source": [
    "(1+2)*3"
   ]
  },
  {
   "cell_type": "code",
   "execution_count": 3,
   "id": "95c559b6-2b9b-4ef7-876f-aca571d39713",
   "metadata": {},
   "outputs": [
    {
     "data": {
      "text/plain": [
       "True"
      ]
     },
     "execution_count": 3,
     "metadata": {},
     "output_type": "execute_result"
    }
   ],
   "source": [
    "not(False*False)"
   ]
  },
  {
   "cell_type": "code",
   "execution_count": 4,
   "id": "6e436425-6a2d-4af2-9340-37ab8878ff3c",
   "metadata": {},
   "outputs": [
    {
     "name": "stdout",
     "output_type": "stream",
     "text": [
      "True\n"
     ]
    }
   ],
   "source": [
    "print(not(False)*False)"
   ]
  },
  {
   "cell_type": "code",
   "execution_count": 5,
   "id": "c3385a8d-e386-4257-8b6e-c2ebb7fa79c5",
   "metadata": {},
   "outputs": [
    {
     "name": "stdout",
     "output_type": "stream",
     "text": [
      "0\n"
     ]
    }
   ],
   "source": [
    "print((not(False))*False)"
   ]
  },
  {
   "cell_type": "code",
   "execution_count": 1,
   "id": "47126ba1-1f06-45e7-bb87-edb4e9985723",
   "metadata": {},
   "outputs": [
    {
     "data": {
      "text/plain": [
       "14.0"
      ]
     },
     "execution_count": 1,
     "metadata": {},
     "output_type": "execute_result"
    }
   ],
   "source": [
    "2*3+40/5"
   ]
  },
  {
   "cell_type": "code",
   "execution_count": 2,
   "id": "99ce4001-bc98-4344-92b9-fa44144348c8",
   "metadata": {},
   "outputs": [
    {
     "data": {
      "text/plain": [
       "9.2"
      ]
     },
     "execution_count": 2,
     "metadata": {},
     "output_type": "execute_result"
    }
   ],
   "source": [
    "(2*3+40)/5"
   ]
  },
  {
   "cell_type": "code",
   "execution_count": 3,
   "id": "66d056b8-c84e-45df-b2a6-516eea25992c",
   "metadata": {},
   "outputs": [
    {
     "data": {
      "text/plain": [
       "9"
      ]
     },
     "execution_count": 3,
     "metadata": {},
     "output_type": "execute_result"
    }
   ],
   "source": [
    "int ((2*3+40)/5)"
   ]
  },
  {
   "cell_type": "code",
   "execution_count": 4,
   "id": "4a1813af-ee74-4ded-bb20-0ab654d40e29",
   "metadata": {},
   "outputs": [
    {
     "data": {
      "text/plain": [
       "0"
      ]
     },
     "execution_count": 4,
     "metadata": {},
     "output_type": "execute_result"
    }
   ],
   "source": [
    "False*True"
   ]
  },
  {
   "cell_type": "code",
   "execution_count": 5,
   "id": "74f37ae5-89aa-45bb-b11b-996976b58e85",
   "metadata": {},
   "outputs": [
    {
     "data": {
      "text/plain": [
       "0"
      ]
     },
     "execution_count": 5,
     "metadata": {},
     "output_type": "execute_result"
    }
   ],
   "source": [
    "0*1"
   ]
  },
  {
   "cell_type": "code",
   "execution_count": 6,
   "id": "6cb5f0f4-ff13-4bc6-a59c-115382c67fe8",
   "metadata": {},
   "outputs": [
    {
     "data": {
      "text/plain": [
       "0"
      ]
     },
     "execution_count": 6,
     "metadata": {},
     "output_type": "execute_result"
    }
   ],
   "source": [
    "1*0"
   ]
  },
  {
   "cell_type": "code",
   "execution_count": 7,
   "id": "3bf371ea-5516-4830-8a65-1556f1262882",
   "metadata": {},
   "outputs": [
    {
     "ename": "ZeroDivisionError",
     "evalue": "division by zero",
     "output_type": "error",
     "traceback": [
      "\u001b[0;31m---------------------------------------------------------------------------\u001b[0m",
      "\u001b[0;31mZeroDivisionError\u001b[0m                         Traceback (most recent call last)",
      "Cell \u001b[0;32mIn[7], line 1\u001b[0m\n\u001b[0;32m----> 1\u001b[0m \u001b[38;5;241;43m1\u001b[39;49m\u001b[38;5;241;43m/\u001b[39;49m\u001b[38;5;241;43m0\u001b[39;49m\n",
      "\u001b[0;31mZeroDivisionError\u001b[0m: division by zero"
     ]
    }
   ],
   "source": [
    "1/0"
   ]
  },
  {
   "cell_type": "code",
   "execution_count": 8,
   "id": "7826757f-b590-4d87-a254-115178400383",
   "metadata": {},
   "outputs": [
    {
     "data": {
      "text/plain": [
       "True"
      ]
     },
     "execution_count": 8,
     "metadata": {},
     "output_type": "execute_result"
    }
   ],
   "source": [
    "not(False*True)"
   ]
  },
  {
   "cell_type": "code",
   "execution_count": 10,
   "id": "96a4a102-9d18-49f0-9164-97740ce9bf79",
   "metadata": {},
   "outputs": [
    {
     "data": {
      "text/plain": [
       "False"
      ]
     },
     "execution_count": 10,
     "metadata": {},
     "output_type": "execute_result"
    }
   ],
   "source": [
    "not(1)"
   ]
  },
  {
   "cell_type": "code",
   "execution_count": 11,
   "id": "fd7577db-2509-4b3e-8451-5ea4bda96c59",
   "metadata": {},
   "outputs": [
    {
     "data": {
      "text/plain": [
       "True"
      ]
     },
     "execution_count": 11,
     "metadata": {},
     "output_type": "execute_result"
    }
   ],
   "source": [
    "not False*True"
   ]
  },
  {
   "cell_type": "code",
   "execution_count": 12,
   "id": "c857438a-1d00-4eaa-adb5-712563d7f9f2",
   "metadata": {},
   "outputs": [
    {
     "data": {
      "text/plain": [
       "True"
      ]
     },
     "execution_count": 12,
     "metadata": {},
     "output_type": "execute_result"
    }
   ],
   "source": [
    "not False*True==True"
   ]
  },
  {
   "cell_type": "raw",
   "id": "6f931991-260d-47f7-8fc4-836026114558",
   "metadata": {},
   "source": [
    "4.1.2 Equality Operators\n",
    "Following operations are present in python for equlity check operation-\n",
    "\n",
    "Operators\t      Meaning\n",
    "is\t              a is b returns true if variable/identifiers a and b points to the same object\n",
    "is not\t          a is not b returns true if variable/identifiers a and b points to the different object\n",
    "==\t              a == b returns true if variable/identifiers a and b has same value\n",
    "!=\t              a != b returns true if variable/identifiers a and b has different value\n"
   ]
  },
  {
   "cell_type": "code",
   "execution_count": null,
   "id": "0a4593f4-24a9-4e71-bdc6-3144640b653f",
   "metadata": {},
   "outputs": [],
   "source": [
    "# memory -> memory address wherre it is stored // use  id()"
   ]
  },
  {
   "cell_type": "code",
   "execution_count": 15,
   "id": "01d14e01-c996-4021-85c5-76974de11ea9",
   "metadata": {},
   "outputs": [],
   "source": [
    "lst_a =[1,2,3,4]\n",
    "lst_b =[1,2,3,4]"
   ]
  },
  {
   "cell_type": "code",
   "execution_count": 16,
   "id": "877c4aef-f00b-4f86-988c-5a9c62ce8d2e",
   "metadata": {},
   "outputs": [
    {
     "data": {
      "text/plain": [
       "140269405234496"
      ]
     },
     "execution_count": 16,
     "metadata": {},
     "output_type": "execute_result"
    }
   ],
   "source": [
    "id(lst_a)"
   ]
  },
  {
   "cell_type": "code",
   "execution_count": 17,
   "id": "1cce31b8-5b16-4d0b-bb18-4ee258a59aa9",
   "metadata": {},
   "outputs": [
    {
     "name": "stdout",
     "output_type": "stream",
     "text": [
      "140269405387520\n"
     ]
    }
   ],
   "source": [
    "print(id(lst_b))"
   ]
  },
  {
   "cell_type": "markdown",
   "id": "ff074c68-7064-45e7-a0ca-53340bb7e981",
   "metadata": {
    "tags": []
   },
   "source": [
    "lst"
   ]
  },
  {
   "cell_type": "code",
   "execution_count": 18,
   "id": "3d8b47ca-7689-453f-9d4b-d4892f566e65",
   "metadata": {},
   "outputs": [
    {
     "data": {
      "text/plain": [
       "False"
      ]
     },
     "execution_count": 18,
     "metadata": {},
     "output_type": "execute_result"
    }
   ],
   "source": [
    "lst_a is lst_b"
   ]
  },
  {
   "cell_type": "code",
   "execution_count": null,
   "id": "28b12a07-2917-4872-b2cd-e1e8cc7e8745",
   "metadata": {},
   "outputs": [],
   "source": [
    "# this happens because of same memory address "
   ]
  },
  {
   "cell_type": "code",
   "execution_count": 19,
   "id": "a9cf09c0-8ed1-4f86-b2c3-7097ac835859",
   "metadata": {},
   "outputs": [],
   "source": [
    "lst_a =[1,2,3,4]\n",
    "lst_b = lst_a"
   ]
  },
  {
   "cell_type": "code",
   "execution_count": 20,
   "id": "aafb4ce4-423b-4115-8a99-6c720e1b79ea",
   "metadata": {},
   "outputs": [
    {
     "data": {
      "text/plain": [
       "140269405041600"
      ]
     },
     "execution_count": 20,
     "metadata": {},
     "output_type": "execute_result"
    }
   ],
   "source": [
    "id(lst_a)"
   ]
  },
  {
   "cell_type": "code",
   "execution_count": 21,
   "id": "c1d9ca40-e2c8-470c-b0cd-18d443cf18b3",
   "metadata": {},
   "outputs": [
    {
     "data": {
      "text/plain": [
       "140269405041600"
      ]
     },
     "execution_count": 21,
     "metadata": {},
     "output_type": "execute_result"
    }
   ],
   "source": [
    "id(lst_b)"
   ]
  },
  {
   "cell_type": "code",
   "execution_count": 24,
   "id": "4ae45c4f-f40e-4b46-a8c9-dfecc31cd701",
   "metadata": {},
   "outputs": [],
   "source": [
    "# is not"
   ]
  },
  {
   "cell_type": "code",
   "execution_count": 23,
   "id": "39807a4e-f7ad-4927-9f09-934c470f5c17",
   "metadata": {},
   "outputs": [
    {
     "data": {
      "text/plain": [
       "True"
      ]
     },
     "execution_count": 23,
     "metadata": {},
     "output_type": "execute_result"
    }
   ],
   "source": [
    "lst_a =[1,2,3,4]\n",
    "lst_b =[1,2,3,4]\n",
    "\n",
    "lst_a is not lst_b"
   ]
  },
  {
   "cell_type": "code",
   "execution_count": 25,
   "id": "7382c603-7f78-4aa2-af8b-f9447883e83f",
   "metadata": {},
   "outputs": [
    {
     "data": {
      "text/plain": [
       "True"
      ]
     },
     "execution_count": 25,
     "metadata": {},
     "output_type": "execute_result"
    }
   ],
   "source": [
    "lst_a == lst_b"
   ]
  },
  {
   "cell_type": "code",
   "execution_count": null,
   "id": "16fd5acc-5f4a-4ed1-a950-4ba4b51aeb9e",
   "metadata": {},
   "outputs": [],
   "source": [
    "# == check element within the list while = only chek memory address"
   ]
  },
  {
   "cell_type": "code",
   "execution_count": 26,
   "id": "ecfa05e0-70c6-4b75-9a6a-ee09dfe1b3ab",
   "metadata": {},
   "outputs": [],
   "source": [
    "a=2\n",
    "b=2"
   ]
  },
  {
   "cell_type": "code",
   "execution_count": 27,
   "id": "e9abe92c-59b1-462e-b883-f923a585112b",
   "metadata": {},
   "outputs": [
    {
     "name": "stdout",
     "output_type": "stream",
     "text": [
      "140269518389520\n"
     ]
    }
   ],
   "source": [
    "print(id(a))"
   ]
  },
  {
   "cell_type": "code",
   "execution_count": 28,
   "id": "1a82ad1e-25d1-4401-94d3-589a6c79e7fb",
   "metadata": {},
   "outputs": [
    {
     "name": "stdout",
     "output_type": "stream",
     "text": [
      "140269518389520\n"
     ]
    }
   ],
   "source": [
    "print(id(b))"
   ]
  },
  {
   "cell_type": "code",
   "execution_count": 30,
   "id": "224e02d2-1fb2-4e7a-a7f8-04e773894156",
   "metadata": {},
   "outputs": [
    {
     "name": "stdout",
     "output_type": "stream",
     "text": [
      "140269409418416\n",
      "140269409418416\n"
     ]
    }
   ],
   "source": [
    "str1=\"Parth\"\n",
    "str2=\"Parth\"\n",
    "print(id(str1))\n",
    "print(id(str2))"
   ]
  },
  {
   "cell_type": "code",
   "execution_count": 31,
   "id": "356787e6-e7ef-4b5e-9a48-d9edac7993aa",
   "metadata": {},
   "outputs": [],
   "source": [
    "str1=\"Parth\"\n",
    "str2=\"Parth111\""
   ]
  },
  {
   "cell_type": "code",
   "execution_count": 32,
   "id": "5f0eb87d-5212-4d78-8a4b-92ffe8aca31e",
   "metadata": {},
   "outputs": [
    {
     "name": "stdout",
     "output_type": "stream",
     "text": [
      "140269409418416\n",
      "140269408982000\n"
     ]
    }
   ],
   "source": [
    "print(id(str1))\n",
    "print(id(str2))"
   ]
  },
  {
   "cell_type": "code",
   "execution_count": null,
   "id": "181a7ed5-a5c1-40f5-b3db-89a6b06fbe13",
   "metadata": {},
   "outputs": [],
   "source": [
    "# Mutablity concept "
   ]
  },
  {
   "cell_type": "code",
   "execution_count": 33,
   "id": "42798f5a-613a-4735-a8c8-b3215ba23680",
   "metadata": {},
   "outputs": [
    {
     "data": {
      "text/plain": [
       "[1, 2, 3, 4]"
      ]
     },
     "execution_count": 33,
     "metadata": {},
     "output_type": "execute_result"
    }
   ],
   "source": [
    "lst_a"
   ]
  },
  {
   "cell_type": "code",
   "execution_count": 34,
   "id": "1171121b-b2fc-406e-9a70-7fdce42b760a",
   "metadata": {},
   "outputs": [
    {
     "data": {
      "text/plain": [
       "1"
      ]
     },
     "execution_count": 34,
     "metadata": {},
     "output_type": "execute_result"
    }
   ],
   "source": [
    "lst_a[0]"
   ]
  },
  {
   "cell_type": "code",
   "execution_count": 35,
   "id": "fd0817f5-c8db-435d-abe7-ed38738b9ee3",
   "metadata": {},
   "outputs": [],
   "source": [
    "lst_a[0]=10"
   ]
  },
  {
   "cell_type": "code",
   "execution_count": 36,
   "id": "256bd91b-bf52-4016-9fa1-04e19f9444ac",
   "metadata": {},
   "outputs": [
    {
     "data": {
      "text/plain": [
       "[10, 2, 3, 4]"
      ]
     },
     "execution_count": 36,
     "metadata": {},
     "output_type": "execute_result"
    }
   ],
   "source": [
    "lst_a"
   ]
  },
  {
   "cell_type": "code",
   "execution_count": 37,
   "id": "8e170b98-a6b1-48e3-9370-ce39b8ac40f0",
   "metadata": {},
   "outputs": [
    {
     "data": {
      "text/plain": [
       "'Parth'"
      ]
     },
     "execution_count": 37,
     "metadata": {},
     "output_type": "execute_result"
    }
   ],
   "source": [
    "str1"
   ]
  },
  {
   "cell_type": "code",
   "execution_count": 38,
   "id": "0b08ba4d-51d5-4174-a1c0-82d778de3d30",
   "metadata": {},
   "outputs": [
    {
     "data": {
      "text/plain": [
       "'P'"
      ]
     },
     "execution_count": 38,
     "metadata": {},
     "output_type": "execute_result"
    }
   ],
   "source": [
    "str1[0]"
   ]
  },
  {
   "cell_type": "code",
   "execution_count": 39,
   "id": "11f4b48d-fbc9-4fef-88e3-9c5f28473abc",
   "metadata": {},
   "outputs": [
    {
     "ename": "NameError",
     "evalue": "name 'D' is not defined",
     "output_type": "error",
     "traceback": [
      "\u001b[0;31m---------------------------------------------------------------------------\u001b[0m",
      "\u001b[0;31mNameError\u001b[0m                                 Traceback (most recent call last)",
      "Cell \u001b[0;32mIn[39], line 1\u001b[0m\n\u001b[0;32m----> 1\u001b[0m str1[\u001b[38;5;241m0\u001b[39m]\u001b[38;5;241m=\u001b[39m\u001b[43mD\u001b[49m\n",
      "\u001b[0;31mNameError\u001b[0m: name 'D' is not defined"
     ]
    }
   ],
   "source": [
    "str1[0]=D"
   ]
  },
  {
   "cell_type": "code",
   "execution_count": null,
   "id": "b362a590-d832-4f8f-86db-246adca07d61",
   "metadata": {},
   "outputs": [],
   "source": [
    "## STRING ELEMENT ARE NOT CHANGEABLE. YOU CHAN CHANGE IN LIST. \n",
    "# THIS PROPERTY IS CALLED AS MUTABLITY \n"
   ]
  },
  {
   "cell_type": "code",
   "execution_count": 40,
   "id": "b7591bdf-c8c1-4f5c-b8b4-6c14cf4b6002",
   "metadata": {},
   "outputs": [],
   "source": [
    "# Operation "
   ]
  },
  {
   "cell_type": "raw",
   "id": "f013934d-69ae-4b20-b2d3-f3168e4bf9e8",
   "metadata": {},
   "source": [
    "Operation\tMeaning\n",
    "<\tless than\n",
    "<=\tless than or equal to\n",
    ">\tgreater than\n",
    ">=\tgreater than or equal to\n"
   ]
  },
  {
   "cell_type": "code",
   "execution_count": 41,
   "id": "66cb37d9-5fd7-4755-b8f2-dc88ad43da17",
   "metadata": {},
   "outputs": [
    {
     "name": "stdout",
     "output_type": "stream",
     "text": [
      "bike is faster than car: False\n"
     ]
    }
   ],
   "source": [
    "maxium_speed_of_bike = 150\n",
    "max_speed_of_car = 200\n",
    "\n",
    "print(f\"bike is faster than car: {maxium_speed_of_bike > max_speed_of_car}\")"
   ]
  },
  {
   "cell_type": "code",
   "execution_count": 42,
   "id": "0af5f831-b900-444f-a63c-d4f51295b75b",
   "metadata": {},
   "outputs": [
    {
     "name": "stdout",
     "output_type": "stream",
     "text": [
      "bike is faster than car: True\n"
     ]
    }
   ],
   "source": [
    "maxium_speed_of_bike = 150\n",
    "max_speed_of_car = 200\n",
    "\n",
    "print(f\"bike is faster than car: {maxium_speed_of_bike < max_speed_of_car}\")"
   ]
  },
  {
   "cell_type": "code",
   "execution_count": 43,
   "id": "efddc379-62c0-4133-bf35-da2e7072e2c3",
   "metadata": {},
   "outputs": [
    {
     "name": "stdout",
     "output_type": "stream",
     "text": [
      "bike is faster than car: True\n"
     ]
    }
   ],
   "source": [
    "maxium_speed_of_bike = 150\n",
    "max_speed_of_car = 200\n",
    "\n",
    "print(f\"bike is faster than car: {maxium_speed_of_bike <= max_speed_of_car}\")"
   ]
  },
  {
   "cell_type": "code",
   "execution_count": 44,
   "id": "740e0673-95de-43f4-a34e-b994c302cd63",
   "metadata": {},
   "outputs": [
    {
     "name": "stdout",
     "output_type": "stream",
     "text": [
      "bike is faster than car: False\n"
     ]
    }
   ],
   "source": [
    "maxium_speed_of_bike = 150\n",
    "max_speed_of_car = 200\n",
    "\n",
    "print(f\"bike is faster than car: {maxium_speed_of_bike >= max_speed_of_car}\")"
   ]
  },
  {
   "cell_type": "code",
   "execution_count": 45,
   "id": "dabefd2e-02eb-4808-b827-5b5fa44d4576",
   "metadata": {},
   "outputs": [
    {
     "name": "stdout",
     "output_type": "stream",
     "text": [
      "bike is faster than car: True\n"
     ]
    }
   ],
   "source": [
    "maxium_speed_of_bike = 200\n",
    "max_speed_of_car = 200\n",
    "\n",
    "print(f\"bike is faster than car: {maxium_speed_of_bike >= max_speed_of_car}\")"
   ]
  },
  {
   "cell_type": "markdown",
   "id": "68eb4db3-0c60-4f10-9927-08856f82afa0",
   "metadata": {},
   "source": [
    "## Arithmetic Operation"
   ]
  },
  {
   "cell_type": "raw",
   "id": "2538fdde-2a62-4f53-82f5-429d6deee2a1",
   "metadata": {},
   "source": [
    "Operation\tMeaning\n",
    "|:=:|:-:|\n",
    "+\taddition\n",
    "-\tsubtraction\n",
    "*\tmultiplication\n",
    "/\ttrue division\n",
    "//\tinteger division\n",
    "%\tthe modulo operator\n"
   ]
  },
  {
   "cell_type": "code",
   "execution_count": 46,
   "id": "8e348953-5146-400e-bb57-8ac387936ff1",
   "metadata": {},
   "outputs": [],
   "source": [
    "a=25\n",
    "b=101"
   ]
  },
  {
   "cell_type": "code",
   "execution_count": 47,
   "id": "290cd866-22ed-49c3-9268-b9385f38875d",
   "metadata": {},
   "outputs": [
    {
     "data": {
      "text/plain": [
       "2525"
      ]
     },
     "execution_count": 47,
     "metadata": {},
     "output_type": "execute_result"
    }
   ],
   "source": [
    "b*a"
   ]
  },
  {
   "cell_type": "code",
   "execution_count": 48,
   "id": "218e4a75-0001-470a-9c11-2d410dc46a77",
   "metadata": {},
   "outputs": [
    {
     "data": {
      "text/plain": [
       "126"
      ]
     },
     "execution_count": 48,
     "metadata": {},
     "output_type": "execute_result"
    }
   ],
   "source": [
    "b+a"
   ]
  },
  {
   "cell_type": "code",
   "execution_count": 49,
   "id": "18801918-1df8-4bd2-9ffb-5430d8257f08",
   "metadata": {},
   "outputs": [
    {
     "data": {
      "text/plain": [
       "4.04"
      ]
     },
     "execution_count": 49,
     "metadata": {},
     "output_type": "execute_result"
    }
   ],
   "source": [
    "b/a"
   ]
  },
  {
   "cell_type": "code",
   "execution_count": 50,
   "id": "33b4fc1a-fb5e-47a0-b715-6676861ae488",
   "metadata": {},
   "outputs": [
    {
     "data": {
      "text/plain": [
       "0.24752475247524752"
      ]
     },
     "execution_count": 50,
     "metadata": {},
     "output_type": "execute_result"
    }
   ],
   "source": [
    "a/b"
   ]
  },
  {
   "cell_type": "code",
   "execution_count": 51,
   "id": "89958d92-f7a3-4ab8-8f64-22722839a563",
   "metadata": {},
   "outputs": [
    {
     "data": {
      "text/plain": [
       "0"
      ]
     },
     "execution_count": 51,
     "metadata": {},
     "output_type": "execute_result"
    }
   ],
   "source": [
    "a//b"
   ]
  },
  {
   "cell_type": "code",
   "execution_count": 52,
   "id": "1b89b5eb-d080-4317-9053-2527df3886a9",
   "metadata": {},
   "outputs": [
    {
     "data": {
      "text/plain": [
       "0"
      ]
     },
     "execution_count": 52,
     "metadata": {},
     "output_type": "execute_result"
    }
   ],
   "source": [
    "int(a/b)"
   ]
  },
  {
   "cell_type": "code",
   "execution_count": 53,
   "id": "6fe046fc-57e6-4205-a652-0dd70a926610",
   "metadata": {},
   "outputs": [
    {
     "data": {
      "text/plain": [
       "1"
      ]
     },
     "execution_count": 53,
     "metadata": {},
     "output_type": "execute_result"
    }
   ],
   "source": [
    "b%a"
   ]
  },
  {
   "cell_type": "code",
   "execution_count": null,
   "id": "76c99b96-8700-426b-846c-f665301d16c0",
   "metadata": {},
   "outputs": [],
   "source": [
    "# modulus is for remainder"
   ]
  },
  {
   "cell_type": "code",
   "execution_count": 54,
   "id": "7408e514-c1d2-4d99-b918-2582e43fbae8",
   "metadata": {},
   "outputs": [
    {
     "data": {
      "text/plain": [
       "25"
      ]
     },
     "execution_count": 54,
     "metadata": {},
     "output_type": "execute_result"
    }
   ],
   "source": [
    "# display the remainder\n",
    "a%b"
   ]
  },
  {
   "cell_type": "markdown",
   "id": "f2165e09-3211-42ce-8256-0a41eb051c37",
   "metadata": {},
   "source": [
    "### Bitwise Operators"
   ]
  },
  {
   "cell_type": "markdown",
   "id": "01cb708d-ece9-40c7-a5e3-8b82d759cbc6",
   "metadata": {},
   "source": [
    "|Operation|Meaning|\n",
    "|:-:|:-:|\n",
    "| **∼** |bitwise complement (prefix unary operator)|\n",
    "| **&** |bitwise and|\n",
    "| **\\|** |bitwise or|\n",
    "| **^** |bitwise exclusive-or|\n",
    "| **<<** |shift bits left, filling in with zeros|\n",
    "| **>>** |shift bits right, filling in with sign bit|\n"
   ]
  },
  {
   "cell_type": "code",
   "execution_count": 3,
   "id": "33118cdb-354b-4039-83ee-4296fde1b9a1",
   "metadata": {},
   "outputs": [],
   "source": [
    "var=10"
   ]
  },
  {
   "cell_type": "code",
   "execution_count": 57,
   "id": "3758d62c-f9e8-4b3f-bbbb-86960dd7d2bc",
   "metadata": {},
   "outputs": [
    {
     "data": {
      "text/plain": [
       "'0b1010'"
      ]
     },
     "execution_count": 57,
     "metadata": {},
     "output_type": "execute_result"
    }
   ],
   "source": [
    "bin(var)"
   ]
  },
  {
   "cell_type": "code",
   "execution_count": 58,
   "id": "01fa3b4d-aae0-4d1d-a74c-61650a13db05",
   "metadata": {},
   "outputs": [],
   "source": [
    "# 0b--> binary number notation / prefix "
   ]
  },
  {
   "cell_type": "code",
   "execution_count": 59,
   "id": "c002ee03-90f4-466f-a594-869bc6a94124",
   "metadata": {},
   "outputs": [
    {
     "data": {
      "text/plain": [
       "-11"
      ]
     },
     "execution_count": 59,
     "metadata": {},
     "output_type": "execute_result"
    }
   ],
   "source": [
    "~var"
   ]
  },
  {
   "cell_type": "code",
   "execution_count": 4,
   "id": "346fff76-47cb-41f7-ab30-81b4e9a7a48b",
   "metadata": {},
   "outputs": [
    {
     "data": {
      "text/plain": [
       "10"
      ]
     },
     "execution_count": 4,
     "metadata": {},
     "output_type": "execute_result"
    }
   ],
   "source": [
    "var"
   ]
  },
  {
   "cell_type": "code",
   "execution_count": 5,
   "id": "c9cf06b9-37e0-4d5c-9b79-125023f44f65",
   "metadata": {},
   "outputs": [
    {
     "data": {
      "text/plain": [
       "2"
      ]
     },
     "execution_count": 5,
     "metadata": {},
     "output_type": "execute_result"
    }
   ],
   "source": [
    "var>>2"
   ]
  },
  {
   "cell_type": "code",
   "execution_count": 6,
   "id": "9ed2b413-190c-4ce8-be5a-f5be529492aa",
   "metadata": {},
   "outputs": [
    {
     "data": {
      "text/plain": [
       "40"
      ]
     },
     "execution_count": 6,
     "metadata": {},
     "output_type": "execute_result"
    }
   ],
   "source": [
    "var<<2"
   ]
  },
  {
   "cell_type": "markdown",
   "id": "0e8dee40-5cc3-4097-bd2b-7674ed5f0736",
   "metadata": {},
   "source": [
    "Strings"
   ]
  },
  {
   "cell_type": "markdown",
   "id": "6d6ad522-42b2-4866-bb27-1c13424bf621",
   "metadata": {},
   "source": [
    "''\n",
    "\" \""
   ]
  },
  {
   "cell_type": "code",
   "execution_count": 7,
   "id": "17ed561f-b577-42f2-8746-44a7dee42cc1",
   "metadata": {},
   "outputs": [
    {
     "data": {
      "text/plain": [
       "'Parth is Data Scientist'"
      ]
     },
     "execution_count": 7,
     "metadata": {},
     "output_type": "execute_result"
    }
   ],
   "source": [
    "'Parth'\n",
    "\"Parth is Data Scientist\""
   ]
  },
  {
   "cell_type": "code",
   "execution_count": 8,
   "id": "92222712-659e-4dac-bde9-8c3cd496a6ce",
   "metadata": {},
   "outputs": [],
   "source": [
    "str1=\"Data science\" "
   ]
  },
  {
   "cell_type": "code",
   "execution_count": 9,
   "id": "1651d5a8-d502-42f0-bd5a-7379b330f662",
   "metadata": {},
   "outputs": [
    {
     "data": {
      "text/plain": [
       "str"
      ]
     },
     "execution_count": 9,
     "metadata": {},
     "output_type": "execute_result"
    }
   ],
   "source": [
    "type(str1)"
   ]
  },
  {
   "cell_type": "code",
   "execution_count": 10,
   "id": "0026017d-285e-4b01-80af-7d6cba7cbfa0",
   "metadata": {},
   "outputs": [
    {
     "data": {
      "text/plain": [
       "'D'"
      ]
     },
     "execution_count": 10,
     "metadata": {},
     "output_type": "execute_result"
    }
   ],
   "source": [
    "str1[0]"
   ]
  },
  {
   "cell_type": "code",
   "execution_count": 11,
   "id": "76f5ef0e-1dce-40eb-90aa-233a4c8bdd56",
   "metadata": {},
   "outputs": [
    {
     "ename": "NameError",
     "evalue": "name 'E' is not defined",
     "output_type": "error",
     "traceback": [
      "\u001b[0;31m---------------------------------------------------------------------------\u001b[0m",
      "\u001b[0;31mNameError\u001b[0m                                 Traceback (most recent call last)",
      "Cell \u001b[0;32mIn[11], line 1\u001b[0m\n\u001b[0;32m----> 1\u001b[0m str1[\u001b[38;5;241m0\u001b[39m]\u001b[38;5;241m=\u001b[39m\u001b[43mE\u001b[49m\n",
      "\u001b[0;31mNameError\u001b[0m: name 'E' is not defined"
     ]
    }
   ],
   "source": [
    "str1[0]=E"
   ]
  },
  {
   "cell_type": "code",
   "execution_count": null,
   "id": "4e45fc22-6d23-41b1-b541-d004177e8843",
   "metadata": {},
   "outputs": [],
   "source": [
    "# STRINGS are immutable , you cannot change it "
   ]
  },
  {
   "cell_type": "code",
   "execution_count": 12,
   "id": "e304ca07-c129-44f0-a505-84ac881bab3f",
   "metadata": {},
   "outputs": [],
   "source": [
    "str1=\"Bug data\""
   ]
  },
  {
   "cell_type": "code",
   "execution_count": null,
   "id": "eddeff48-394f-469b-b51b-78c7f79c8c44",
   "metadata": {},
   "outputs": [],
   "source": [
    "# YOU can replace the string but cannot change the string, you can iterate through the string"
   ]
  },
  {
   "cell_type": "code",
   "execution_count": 13,
   "id": "7bb1b713-77af-452d-a915-1ce6019ce566",
   "metadata": {},
   "outputs": [],
   "source": [
    "str1=\"Hello world\""
   ]
  },
  {
   "cell_type": "raw",
   "id": "642c3c07-f59c-44f4-a192-71adbede1f4d",
   "metadata": {},
   "source": []
  },
  {
   "cell_type": "code",
   "execution_count": 16,
   "id": "69675aa2-54c6-4092-85f4-4ee94feba078",
   "metadata": {},
   "outputs": [
    {
     "data": {
      "text/plain": [
       "['__add__',\n",
       " '__class__',\n",
       " '__contains__',\n",
       " '__delattr__',\n",
       " '__dir__',\n",
       " '__doc__',\n",
       " '__eq__',\n",
       " '__format__',\n",
       " '__ge__',\n",
       " '__getattribute__',\n",
       " '__getitem__',\n",
       " '__getnewargs__',\n",
       " '__gt__',\n",
       " '__hash__',\n",
       " '__init__',\n",
       " '__init_subclass__',\n",
       " '__iter__',\n",
       " '__le__',\n",
       " '__len__',\n",
       " '__lt__',\n",
       " '__mod__',\n",
       " '__mul__',\n",
       " '__ne__',\n",
       " '__new__',\n",
       " '__reduce__',\n",
       " '__reduce_ex__',\n",
       " '__repr__',\n",
       " '__rmod__',\n",
       " '__rmul__',\n",
       " '__setattr__',\n",
       " '__sizeof__',\n",
       " '__str__',\n",
       " '__subclasshook__',\n",
       " 'capitalize',\n",
       " 'casefold',\n",
       " 'center',\n",
       " 'count',\n",
       " 'encode',\n",
       " 'endswith',\n",
       " 'expandtabs',\n",
       " 'find',\n",
       " 'format',\n",
       " 'format_map',\n",
       " 'index',\n",
       " 'isalnum',\n",
       " 'isalpha',\n",
       " 'isascii',\n",
       " 'isdecimal',\n",
       " 'isdigit',\n",
       " 'isidentifier',\n",
       " 'islower',\n",
       " 'isnumeric',\n",
       " 'isprintable',\n",
       " 'isspace',\n",
       " 'istitle',\n",
       " 'isupper',\n",
       " 'join',\n",
       " 'ljust',\n",
       " 'lower',\n",
       " 'lstrip',\n",
       " 'maketrans',\n",
       " 'partition',\n",
       " 'removeprefix',\n",
       " 'removesuffix',\n",
       " 'replace',\n",
       " 'rfind',\n",
       " 'rindex',\n",
       " 'rjust',\n",
       " 'rpartition',\n",
       " 'rsplit',\n",
       " 'rstrip',\n",
       " 'split',\n",
       " 'splitlines',\n",
       " 'startswith',\n",
       " 'strip',\n",
       " 'swapcase',\n",
       " 'title',\n",
       " 'translate',\n",
       " 'upper',\n",
       " 'zfill']"
      ]
     },
     "execution_count": 16,
     "metadata": {},
     "output_type": "execute_result"
    }
   ],
   "source": [
    "dir(str1)"
   ]
  },
  {
   "cell_type": "code",
   "execution_count": 3,
   "id": "9e0dc762-2a4f-4652-9aa3-52c6de039e20",
   "metadata": {},
   "outputs": [],
   "source": [
    "string =\"Data science\""
   ]
  },
  {
   "cell_type": "code",
   "execution_count": 2,
   "id": "cf8043f3-f040-40a2-8b1b-33d1662948a8",
   "metadata": {},
   "outputs": [
    {
     "data": {
      "text/plain": [
       "'i'"
      ]
     },
     "execution_count": 2,
     "metadata": {},
     "output_type": "execute_result"
    }
   ],
   "source": [
    "string[7]"
   ]
  },
  {
   "cell_type": "code",
   "execution_count": 3,
   "id": "bbfe8dfb-77fc-4b34-8d22-22c67994beb0",
   "metadata": {},
   "outputs": [
    {
     "data": {
      "text/plain": [
       "'ience'"
      ]
     },
     "execution_count": 3,
     "metadata": {},
     "output_type": "execute_result"
    }
   ],
   "source": [
    "#slice operation \n",
    "string[7:]"
   ]
  },
  {
   "cell_type": "code",
   "execution_count": 4,
   "id": "ac46d53b-cf6d-44dc-b907-eee481591394",
   "metadata": {},
   "outputs": [
    {
     "data": {
      "text/plain": [
       "'scien'"
      ]
     },
     "execution_count": 4,
     "metadata": {},
     "output_type": "execute_result"
    }
   ],
   "source": [
    "string[5:10]"
   ]
  },
  {
   "cell_type": "code",
   "execution_count": null,
   "id": "e8b8f37b-60c5-458b-a1e5-e6508d6fa611",
   "metadata": {},
   "outputs": [],
   "source": [
    "#  last element "
   ]
  },
  {
   "cell_type": "code",
   "execution_count": 6,
   "id": "9abee286-c579-45f6-84d3-c50836edf6b2",
   "metadata": {},
   "outputs": [
    {
     "data": {
      "text/plain": [
       "'e'"
      ]
     },
     "execution_count": 6,
     "metadata": {},
     "output_type": "execute_result"
    }
   ],
   "source": [
    "string[-1]"
   ]
  },
  {
   "cell_type": "code",
   "execution_count": 7,
   "id": "2d6a7ae5-ce1e-4642-83ea-87686731fdd8",
   "metadata": {},
   "outputs": [
    {
     "data": {
      "text/plain": [
       "'e'"
      ]
     },
     "execution_count": 7,
     "metadata": {},
     "output_type": "execute_result"
    }
   ],
   "source": [
    "string[-1:]"
   ]
  },
  {
   "cell_type": "code",
   "execution_count": 8,
   "id": "f59a742e-12e0-476c-b8f0-e482c573f10d",
   "metadata": {},
   "outputs": [
    {
     "data": {
      "text/plain": [
       "'nce'"
      ]
     },
     "execution_count": 8,
     "metadata": {},
     "output_type": "execute_result"
    }
   ],
   "source": [
    "string[-3:]"
   ]
  },
  {
   "cell_type": "code",
   "execution_count": 9,
   "id": "360aced6-0ced-4c80-95c6-b97991633a47",
   "metadata": {},
   "outputs": [
    {
     "data": {
      "text/plain": [
       "''"
      ]
     },
     "execution_count": 9,
     "metadata": {},
     "output_type": "execute_result"
    }
   ],
   "source": [
    "string[-7:5]"
   ]
  },
  {
   "cell_type": "code",
   "execution_count": null,
   "id": "34b39f5d-4463-4c1f-9a1b-0547ba90fc73",
   "metadata": {},
   "outputs": [],
   "source": [
    "# it wont work as there is no index 5"
   ]
  },
  {
   "cell_type": "code",
   "execution_count": 10,
   "id": "937c38b0-4402-486b-b238-79986a60a195",
   "metadata": {},
   "outputs": [
    {
     "data": {
      "text/plain": [
       "'scienc'"
      ]
     },
     "execution_count": 10,
     "metadata": {},
     "output_type": "execute_result"
    }
   ],
   "source": [
    "string[-7:-1]"
   ]
  },
  {
   "cell_type": "code",
   "execution_count": 11,
   "id": "c12f4397-3aca-4f23-8f89-fc5a984bfc7f",
   "metadata": {},
   "outputs": [
    {
     "data": {
      "text/plain": [
       "''"
      ]
     },
     "execution_count": 11,
     "metadata": {},
     "output_type": "execute_result"
    }
   ],
   "source": [
    "string[-7:1]"
   ]
  },
  {
   "cell_type": "code",
   "execution_count": 12,
   "id": "08b8446c-0238-40b8-b2f3-e57907eab212",
   "metadata": {},
   "outputs": [],
   "source": [
    "# indexing has to be uniform  -- or ++"
   ]
  },
  {
   "cell_type": "code",
   "execution_count": 13,
   "id": "3933023d-aef7-45e1-8b88-10b702f34847",
   "metadata": {},
   "outputs": [
    {
     "data": {
      "text/plain": [
       "'D'"
      ]
     },
     "execution_count": 13,
     "metadata": {},
     "output_type": "execute_result"
    }
   ],
   "source": [
    "string[:1]"
   ]
  },
  {
   "cell_type": "code",
   "execution_count": 14,
   "id": "645052e1-a1be-4f4a-8c14-bb460a24e745",
   "metadata": {},
   "outputs": [
    {
     "data": {
      "text/plain": [
       "'Data scienc'"
      ]
     },
     "execution_count": 14,
     "metadata": {},
     "output_type": "execute_result"
    }
   ],
   "source": [
    "string[:-1]"
   ]
  },
  {
   "cell_type": "code",
   "execution_count": null,
   "id": "e1bfdf34-2a54-4701-b909-da1e31c7106f",
   "metadata": {},
   "outputs": [],
   "source": [
    "# GEt everything excpet last character "
   ]
  },
  {
   "cell_type": "code",
   "execution_count": 16,
   "id": "5cf61fa2-805d-4ba3-9892-c0b92f2a54ae",
   "metadata": {},
   "outputs": [
    {
     "data": {
      "text/plain": [
       "'Par'"
      ]
     },
     "execution_count": 16,
     "metadata": {},
     "output_type": "execute_result"
    }
   ],
   "source": [
    "name= \"Parth\"\n",
    "name[-5:3]"
   ]
  },
  {
   "cell_type": "code",
   "execution_count": 17,
   "id": "95691170-e625-4cb0-bbbf-4c03e10cd88c",
   "metadata": {},
   "outputs": [
    {
     "data": {
      "text/plain": [
       "'Parth'"
      ]
     },
     "execution_count": 17,
     "metadata": {},
     "output_type": "execute_result"
    }
   ],
   "source": [
    "name[-5:]"
   ]
  },
  {
   "cell_type": "code",
   "execution_count": 18,
   "id": "571750f0-4496-4911-8061-45de8e207f30",
   "metadata": {},
   "outputs": [
    {
     "data": {
      "text/plain": [
       "'Par'"
      ]
     },
     "execution_count": 18,
     "metadata": {},
     "output_type": "execute_result"
    }
   ],
   "source": [
    "name[:3]"
   ]
  },
  {
   "cell_type": "code",
   "execution_count": 19,
   "id": "3eb02f5f-cf55-409f-8780-c77e0d49366d",
   "metadata": {},
   "outputs": [],
   "source": [
    "## Set operation \n",
    "# - goes lest to right \n",
    "# goes right to left \n"
   ]
  },
  {
   "cell_type": "code",
   "execution_count": 2,
   "id": "9b777f82-abe2-4ef0-b23b-8f5c27a7fcaf",
   "metadata": {},
   "outputs": [
    {
     "ename": "NameError",
     "evalue": "name 'string' is not defined",
     "output_type": "error",
     "traceback": [
      "\u001b[0;31m---------------------------------------------------------------------------\u001b[0m",
      "\u001b[0;31mNameError\u001b[0m                                 Traceback (most recent call last)",
      "Cell \u001b[0;32mIn[2], line 1\u001b[0m\n\u001b[0;32m----> 1\u001b[0m \u001b[43mstring\u001b[49m[:]\n",
      "\u001b[0;31mNameError\u001b[0m: name 'string' is not defined"
     ]
    }
   ],
   "source": [
    "string[:]"
   ]
  },
  {
   "cell_type": "code",
   "execution_count": 21,
   "id": "b4dd09df-6bea-4f0c-8eaa-2a52e55e6e4c",
   "metadata": {},
   "outputs": [
    {
     "data": {
      "text/plain": [
       "'Data science'"
      ]
     },
     "execution_count": 21,
     "metadata": {},
     "output_type": "execute_result"
    }
   ],
   "source": [
    "string[::]"
   ]
  },
  {
   "cell_type": "code",
   "execution_count": 4,
   "id": "4b231b9e-53f8-418a-bd82-2284acb8b08c",
   "metadata": {},
   "outputs": [
    {
     "data": {
      "text/plain": [
       "'ecneics ataD'"
      ]
     },
     "execution_count": 4,
     "metadata": {},
     "output_type": "execute_result"
    }
   ],
   "source": [
    "string[::-1]"
   ]
  },
  {
   "cell_type": "code",
   "execution_count": null,
   "id": "a130dca4-632d-4a9d-b36a-b22f376a9ebb",
   "metadata": {},
   "outputs": [],
   "source": [
    "# eveything will be reversed "
   ]
  },
  {
   "cell_type": "code",
   "execution_count": 5,
   "id": "a819eacb-a4d9-45e3-8b81-40a086631c36",
   "metadata": {},
   "outputs": [
    {
     "data": {
      "text/plain": [
       "'enisaa'"
      ]
     },
     "execution_count": 5,
     "metadata": {},
     "output_type": "execute_result"
    }
   ],
   "source": [
    "string[::-2]"
   ]
  },
  {
   "cell_type": "code",
   "execution_count": null,
   "id": "ab54c609-8c12-4991-982d-a9a5c5c55e5a",
   "metadata": {},
   "outputs": [],
   "source": [
    "## -2 is step function "
   ]
  },
  {
   "cell_type": "code",
   "execution_count": 8,
   "id": "716f623a-5da6-47d3-a932-201460f3b657",
   "metadata": {},
   "outputs": [
    {
     "data": {
      "text/plain": [
       "' tD'"
      ]
     },
     "execution_count": 8,
     "metadata": {},
     "output_type": "execute_result"
    }
   ],
   "source": [
    "string[::-2]"
   ]
  },
  {
   "cell_type": "code",
   "execution_count": null,
   "id": "470b2094-ded2-4c76-aec0-c78ffafd148a",
   "metadata": {},
   "outputs": [],
   "source": [
    "## Reversal-->  string[::-1]\n",
    "## every second element string[::-2]\n",
    "## "
   ]
  },
  {
   "cell_type": "code",
   "execution_count": null,
   "id": "6358fa4a-7eff-4361-ab2d-fe0e47fffd62",
   "metadata": {},
   "outputs": [],
   "source": [
    "# step function "
   ]
  },
  {
   "cell_type": "code",
   "execution_count": 9,
   "id": "2ad9e34c-bef8-4428-80d3-cd9323770e23",
   "metadata": {},
   "outputs": [
    {
     "data": {
      "text/plain": [
       "'Dt cec'"
      ]
     },
     "execution_count": 9,
     "metadata": {},
     "output_type": "execute_result"
    }
   ],
   "source": [
    "string[::2]"
   ]
  },
  {
   "cell_type": "code",
   "execution_count": 10,
   "id": "02311ec0-a3b4-44be-94a4-4c417d55559b",
   "metadata": {},
   "outputs": [],
   "source": [
    "name =\" Parth\""
   ]
  },
  {
   "cell_type": "code",
   "execution_count": 11,
   "id": "6beede13-c8dc-4ada-bd10-6d264bba8997",
   "metadata": {},
   "outputs": [
    {
     "data": {
      "text/plain": [
       "'htraP '"
      ]
     },
     "execution_count": 11,
     "metadata": {},
     "output_type": "execute_result"
    }
   ],
   "source": [
    "name[::-1]"
   ]
  },
  {
   "cell_type": "code",
   "execution_count": null,
   "id": "655ed5f2-ae41-4e89-bbf3-047b0ee078b0",
   "metadata": {},
   "outputs": [],
   "source": [
    "# every second element "
   ]
  },
  {
   "cell_type": "code",
   "execution_count": 12,
   "id": "6410d68c-e021-43e1-94c7-70d608ff4d2c",
   "metadata": {},
   "outputs": [
    {
     "data": {
      "text/plain": [
       "'hrP'"
      ]
     },
     "execution_count": 12,
     "metadata": {},
     "output_type": "execute_result"
    }
   ],
   "source": [
    "name[::-2]"
   ]
  },
  {
   "cell_type": "code",
   "execution_count": 16,
   "id": "723dae25-c775-4218-9c2c-0cb9d6a2e916",
   "metadata": {},
   "outputs": [],
   "source": [
    "course_name = \"Data science\" "
   ]
  },
  {
   "cell_type": "code",
   "execution_count": 17,
   "id": "21cf289e-0b65-439d-8942-dd7e9cc760a5",
   "metadata": {},
   "outputs": [
    {
     "data": {
      "text/plain": [
       "'science'"
      ]
     },
     "execution_count": 17,
     "metadata": {},
     "output_type": "execute_result"
    }
   ],
   "source": [
    "course_name[5:12]"
   ]
  },
  {
   "cell_type": "code",
   "execution_count": 21,
   "id": "9c902645-7135-494b-81ca-3f47b09d1106",
   "metadata": {},
   "outputs": [
    {
     "data": {
      "text/plain": [
       "'ecneics'"
      ]
     },
     "execution_count": 21,
     "metadata": {},
     "output_type": "execute_result"
    }
   ],
   "source": [
    "course_name[12:4:-1]"
   ]
  },
  {
   "cell_type": "code",
   "execution_count": 22,
   "id": "49764e2f-72bf-4fa5-b261-62bc386a9ce3",
   "metadata": {},
   "outputs": [
    {
     "data": {
      "text/plain": [
       "'Data science Masters'"
      ]
     },
     "execution_count": 22,
     "metadata": {},
     "output_type": "execute_result"
    }
   ],
   "source": [
    "#concatenation\n",
    "course_name +\" Masters\""
   ]
  },
  {
   "cell_type": "code",
   "execution_count": 23,
   "id": "3e5e5310-31b4-4f9e-ae1c-e05b8b5a0191",
   "metadata": {},
   "outputs": [
    {
     "name": "stdout",
     "output_type": "stream",
     "text": [
      "Hello worlds\n"
     ]
    }
   ],
   "source": [
    "print(\"Hello\" +\" worlds\")"
   ]
  },
  {
   "cell_type": "code",
   "execution_count": 24,
   "id": "f2e31bec-1ee8-4fef-88fb-29d2b1b067db",
   "metadata": {},
   "outputs": [
    {
     "data": {
      "text/plain": [
       "'Data science'"
      ]
     },
     "execution_count": 24,
     "metadata": {},
     "output_type": "execute_result"
    }
   ],
   "source": [
    "course_name"
   ]
  },
  {
   "cell_type": "code",
   "execution_count": 28,
   "id": "54901232-b760-47ec-8efa-d5ab36a2d796",
   "metadata": {},
   "outputs": [
    {
     "data": {
      "text/plain": [
       "'Data scienceData scienceData scienceData scienceData science'"
      ]
     },
     "execution_count": 28,
     "metadata": {},
     "output_type": "execute_result"
    }
   ],
   "source": [
    "\n",
    "course_name *5"
   ]
  },
  {
   "cell_type": "code",
   "execution_count": 29,
   "id": "5c89fed7-d5fc-44ab-955a-c0227f5bd6da",
   "metadata": {},
   "outputs": [
    {
     "data": {
      "text/plain": [
       "12"
      ]
     },
     "execution_count": 29,
     "metadata": {},
     "output_type": "execute_result"
    }
   ],
   "source": [
    "len(course_name)"
   ]
  },
  {
   "cell_type": "code",
   "execution_count": 31,
   "id": "ce899477-eed0-4c7f-b5ed-9b9258dfe9dd",
   "metadata": {},
   "outputs": [
    {
     "data": {
      "text/plain": [
       "9"
      ]
     },
     "execution_count": 31,
     "metadata": {},
     "output_type": "execute_result"
    }
   ],
   "source": [
    "course_name.find(\"n\")"
   ]
  },
  {
   "cell_type": "code",
   "execution_count": 32,
   "id": "82b42e33-3911-4d1e-b6ec-9599d6e77d9b",
   "metadata": {},
   "outputs": [
    {
     "data": {
      "text/plain": [
       "1"
      ]
     },
     "execution_count": 32,
     "metadata": {},
     "output_type": "execute_result"
    }
   ],
   "source": [
    "course_name.find(\"a\")"
   ]
  },
  {
   "cell_type": "code",
   "execution_count": 33,
   "id": "d65f3167-bbe5-4f52-baca-82f4790e3fdf",
   "metadata": {},
   "outputs": [
    {
     "data": {
      "text/plain": [
       "0"
      ]
     },
     "execution_count": 33,
     "metadata": {},
     "output_type": "execute_result"
    }
   ],
   "source": [
    "course_name.find(\"D\")"
   ]
  },
  {
   "cell_type": "code",
   "execution_count": 34,
   "id": "ea67d0f2-9726-45ce-869e-65879079f780",
   "metadata": {},
   "outputs": [
    {
     "data": {
      "text/plain": [
       "3"
      ]
     },
     "execution_count": 34,
     "metadata": {},
     "output_type": "execute_result"
    }
   ],
   "source": [
    "course_name.find(\"a\",2,10)"
   ]
  },
  {
   "cell_type": "code",
   "execution_count": 37,
   "id": "60ec9a54-6e6d-44bc-b8fe-9c8b7dd273e2",
   "metadata": {},
   "outputs": [
    {
     "data": {
      "text/plain": [
       "-1"
      ]
     },
     "execution_count": 37,
     "metadata": {},
     "output_type": "execute_result"
    }
   ],
   "source": [
    "course_name.find(\"z\")"
   ]
  },
  {
   "cell_type": "code",
   "execution_count": 38,
   "id": "ea631cfa-8cad-4cf9-a2c2-62b6ba2809af",
   "metadata": {},
   "outputs": [],
   "source": [
    "# casue z is not present"
   ]
  },
  {
   "cell_type": "code",
   "execution_count": 39,
   "id": "3a3e41a0-2656-48da-bb9d-875d92b03a4a",
   "metadata": {},
   "outputs": [
    {
     "data": {
      "text/plain": [
       "2"
      ]
     },
     "execution_count": 39,
     "metadata": {},
     "output_type": "execute_result"
    }
   ],
   "source": [
    "## count\n",
    "course_name.count('a')"
   ]
  },
  {
   "cell_type": "code",
   "execution_count": 40,
   "id": "95e13ec9-097f-4884-8ea3-4607fac9ca14",
   "metadata": {},
   "outputs": [
    {
     "data": {
      "text/plain": [
       "13"
      ]
     },
     "execution_count": 40,
     "metadata": {},
     "output_type": "execute_result"
    }
   ],
   "source": [
    "#empty string -- count every character\n",
    "course_name.count('')"
   ]
  },
  {
   "cell_type": "code",
   "execution_count": 43,
   "id": "6565950d-51c4-4bcc-94b4-707131849f2b",
   "metadata": {},
   "outputs": [
    {
     "data": {
      "text/plain": [
       "1"
      ]
     },
     "execution_count": 43,
     "metadata": {},
     "output_type": "execute_result"
    }
   ],
   "source": [
    "#empty string -- count space \n",
    "course_name.count(' ')"
   ]
  },
  {
   "cell_type": "code",
   "execution_count": 44,
   "id": "964fdffd-4e13-4e6a-a357-338959a76712",
   "metadata": {},
   "outputs": [],
   "source": [
    "## string split function "
   ]
  },
  {
   "cell_type": "code",
   "execution_count": 46,
   "id": "82dd8426-4f79-442b-b790-611fad1eb3db",
   "metadata": {},
   "outputs": [
    {
     "data": {
      "text/plain": [
       "['Data', 'science']"
      ]
     },
     "execution_count": 46,
     "metadata": {},
     "output_type": "execute_result"
    }
   ],
   "source": [
    "course_name.split(' ')"
   ]
  },
  {
   "cell_type": "code",
   "execution_count": null,
   "id": "54b1b3b0-3e97-419a-88d0-7b45345c5f1e",
   "metadata": {},
   "outputs": [],
   "source": [
    "## split vs partiton "
   ]
  },
  {
   "cell_type": "code",
   "execution_count": 53,
   "id": "8b0a48b3-b384-4409-a670-bf6942d2a4cb",
   "metadata": {},
   "outputs": [
    {
     "data": {
      "text/plain": [
       "['D', 't', ' science']"
      ]
     },
     "execution_count": 53,
     "metadata": {},
     "output_type": "execute_result"
    }
   ],
   "source": [
    "course_name.split(\"a\")"
   ]
  },
  {
   "cell_type": "code",
   "execution_count": 54,
   "id": "699d4b00-ecbb-43f4-a775-9e2e224e01fb",
   "metadata": {},
   "outputs": [
    {
     "data": {
      "text/plain": [
       "('Data ', 's', 'cience')"
      ]
     },
     "execution_count": 54,
     "metadata": {},
     "output_type": "execute_result"
    }
   ],
   "source": [
    "course_name.partition(\"s\")"
   ]
  },
  {
   "cell_type": "code",
   "execution_count": 56,
   "id": "942b4454-4ab6-4e13-98f4-24a05d1aa6c7",
   "metadata": {},
   "outputs": [
    {
     "data": {
      "text/plain": [
       "'dATA SCIENCE'"
      ]
     },
     "execution_count": 56,
     "metadata": {},
     "output_type": "execute_result"
    }
   ],
   "source": [
    "course_name.swapcase()"
   ]
  },
  {
   "cell_type": "code",
   "execution_count": null,
   "id": "d478c2e9-c6e3-4bbf-ab3a-2904d4b38ca8",
   "metadata": {},
   "outputs": [],
   "source": [
    "course_name.titk"
   ]
  },
  {
   "cell_type": "code",
   "execution_count": null,
   "id": "f91b318f-ffcd-4990-8616-f631e9ba87be",
   "metadata": {},
   "outputs": [],
   "source": []
  }
 ],
 "metadata": {
  "kernelspec": {
   "display_name": "Python 3 (ipykernel)",
   "language": "python",
   "name": "python3"
  },
  "language_info": {
   "codemirror_mode": {
    "name": "ipython",
    "version": 3
   },
   "file_extension": ".py",
   "mimetype": "text/x-python",
   "name": "python",
   "nbconvert_exporter": "python",
   "pygments_lexer": "ipython3",
   "version": "3.10.8"
  }
 },
 "nbformat": 4,
 "nbformat_minor": 5
}
