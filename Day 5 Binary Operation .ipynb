{
 "cells": [
  {
   "cell_type": "markdown",
   "id": "06fcb080-14a5-4c8c-8d30-bc03c24984a2",
   "metadata": {},
   "source": [
    "### Bitwise Operation "
   ]
  },
  {
   "cell_type": "markdown",
   "id": "439638d7-7e72-43a9-a6dd-66102288ab69",
   "metadata": {},
   "source": [
    "|Operation|Meaning|\n",
    "|:-:|:-:|\n",
    "| **∼** |bitwise complement (prefix unary operator)|\n",
    "| **&** |bitwise and|\n",
    "| **\\|** |bitwise or|\n",
    "| **^** |bitwise exclusive-or|\n",
    "| **<<** |shift bits left, filling in with zeros|\n",
    "| **>>** |shift bits right, filling in with sign bit|"
   ]
  },
  {
   "cell_type": "code",
   "execution_count": 2,
   "id": "f61be272-e27a-4fe9-a64b-1398b42afbac",
   "metadata": {},
   "outputs": [
    {
     "name": "stdout",
     "output_type": "stream",
     "text": [
      "var_a: 10 binary of var_a: 0b1010\n",
      "complement of var_a: -11 binary of complement of var_a: -0b1011\n"
     ]
    }
   ],
   "source": [
    "var_a = 10\n",
    "binary_a = bin(var_a)\n",
    "\n",
    "complement_a = ~var_a\n",
    "binary_complement_a = bin(complement_a)\n",
    "\n",
    "print(f\"var_a: {var_a} binary of var_a: {binary_a}\")\n",
    "print(f\"complement of var_a: {complement_a} \\\n",
    "binary of complement of var_a: {binary_complement_a}\") # returns one's compliment"
   ]
  },
  {
   "cell_type": "code",
   "execution_count": 3,
   "id": "11d5b5d3-917b-4c3d-a1a4-c62f8cea6ac9",
   "metadata": {},
   "outputs": [
    {
     "data": {
      "text/plain": [
       "'0b1010'"
      ]
     },
     "execution_count": 3,
     "metadata": {},
     "output_type": "execute_result"
    }
   ],
   "source": [
    "bin(10)"
   ]
  },
  {
   "cell_type": "code",
   "execution_count": 4,
   "id": "535f74cd-7370-4164-98df-f371cebb1649",
   "metadata": {},
   "outputs": [
    {
     "data": {
      "text/plain": [
       "'-0b1010'"
      ]
     },
     "execution_count": 4,
     "metadata": {},
     "output_type": "execute_result"
    }
   ],
   "source": [
    "bin(-10)"
   ]
  },
  {
   "cell_type": "code",
   "execution_count": 5,
   "id": "a68abc6e-930e-4811-a995-3a9796f2467a",
   "metadata": {},
   "outputs": [
    {
     "data": {
      "text/plain": [
       "-11"
      ]
     },
     "execution_count": 5,
     "metadata": {},
     "output_type": "execute_result"
    }
   ],
   "source": [
    "~10"
   ]
  },
  {
   "cell_type": "code",
   "execution_count": 7,
   "id": "8a0d0af3-19b8-4d58-b384-29dea9ccce49",
   "metadata": {},
   "outputs": [
    {
     "data": {
      "text/plain": [
       "'-0b1011'"
      ]
     },
     "execution_count": 7,
     "metadata": {},
     "output_type": "execute_result"
    }
   ],
   "source": [
    "bin(~10)"
   ]
  },
  {
   "cell_type": "code",
   "execution_count": 8,
   "id": "dfdbe2c5-c6f9-436b-aa23-26ff9b543bd5",
   "metadata": {},
   "outputs": [
    {
     "name": "stdout",
     "output_type": "stream",
     "text": [
      "var_a: 10, var_b: 4\n",
      "binary of var_a: 0b1010, binary of var_b: 0b100\n",
      "bitwise_and: 0, binary_of_bitwise_and: 0b0\n"
     ]
    }
   ],
   "source": [
    "var_a = 10\n",
    "var_b = 4\n",
    "\n",
    "binary_a = bin(var_a)\n",
    "binary_b = bin(var_b)\n",
    "\n",
    "bitwise_and = var_a & var_b\n",
    "binary_bitwise_and = bin(bitwise_and)\n",
    "\n",
    "print(f\"var_a: {var_a}, var_b: {var_b}\")\n",
    "print(f\"binary of var_a: {binary_a}, binary of var_b: {binary_b}\")\n",
    "\n",
    "print(f\"bitwise_and: {bitwise_and}, binary_of_bitwise_and: {binary_bitwise_and}\")"
   ]
  },
  {
   "cell_type": "code",
   "execution_count": 9,
   "id": "04860923-1fd1-42ce-a507-368bb32fc83d",
   "metadata": {},
   "outputs": [
    {
     "data": {
      "text/plain": [
       "10"
      ]
     },
     "execution_count": 9,
     "metadata": {},
     "output_type": "execute_result"
    }
   ],
   "source": [
    "var_a"
   ]
  },
  {
   "cell_type": "code",
   "execution_count": 10,
   "id": "c4e4a1c1-2c27-412f-b268-94e78897d29a",
   "metadata": {},
   "outputs": [
    {
     "data": {
      "text/plain": [
       "4"
      ]
     },
     "execution_count": 10,
     "metadata": {},
     "output_type": "execute_result"
    }
   ],
   "source": [
    "var_b"
   ]
  },
  {
   "cell_type": "code",
   "execution_count": 11,
   "id": "609c2d21-5efb-42cd-a6e6-858a8643e5aa",
   "metadata": {},
   "outputs": [
    {
     "data": {
      "text/plain": [
       "0"
      ]
     },
     "execution_count": 11,
     "metadata": {},
     "output_type": "execute_result"
    }
   ],
   "source": [
    "var_a & var_b"
   ]
  },
  {
   "cell_type": "code",
   "execution_count": 12,
   "id": "ea7d60c3-5c83-4132-a12b-c68863fdca5a",
   "metadata": {},
   "outputs": [
    {
     "data": {
      "text/plain": [
       "'0b0'"
      ]
     },
     "execution_count": 12,
     "metadata": {},
     "output_type": "execute_result"
    }
   ],
   "source": [
    "bin(0)"
   ]
  },
  {
   "cell_type": "code",
   "execution_count": 13,
   "id": "780c9378-e9f0-456a-ac38-cb57697fc23d",
   "metadata": {},
   "outputs": [
    {
     "name": "stdout",
     "output_type": "stream",
     "text": [
      "var_a: 10, var_b: 4\n",
      "binary of var_a: 0b1010, binary of var_b: 0b100\n",
      "bitwise_or: 14, binary_bitwise_or: 0b0\n"
     ]
    }
   ],
   "source": [
    "var_a = 10\n",
    "var_b = 4\n",
    "\n",
    "binary_a = bin(var_a)\n",
    "binary_b = bin(var_b)\n",
    "\n",
    "bitwise_or = var_a | var_b\n",
    "binary_bitwise_or = bin(bitwise_and)\n",
    "\n",
    "print(f\"var_a: {var_a}, var_b: {var_b}\")\n",
    "print(f\"binary of var_a: {binary_a}, binary of var_b: {binary_b}\")\n",
    "\n",
    "print(f\"bitwise_or: {bitwise_or}, binary_bitwise_or: {binary_bitwise_or}\")"
   ]
  },
  {
   "cell_type": "code",
   "execution_count": 14,
   "id": "d6fd4505-8129-4f0a-a5f9-14b06f8a57f9",
   "metadata": {},
   "outputs": [
    {
     "data": {
      "text/plain": [
       "10"
      ]
     },
     "execution_count": 14,
     "metadata": {},
     "output_type": "execute_result"
    }
   ],
   "source": [
    "var_a"
   ]
  },
  {
   "cell_type": "code",
   "execution_count": 15,
   "id": "72cbe795-7a61-4037-b1a3-79901f29d048",
   "metadata": {},
   "outputs": [
    {
     "data": {
      "text/plain": [
       "4"
      ]
     },
     "execution_count": 15,
     "metadata": {},
     "output_type": "execute_result"
    }
   ],
   "source": [
    "var_b"
   ]
  },
  {
   "cell_type": "code",
   "execution_count": 16,
   "id": "4b541e62-54dc-41bf-ad0d-2f04557b6e5c",
   "metadata": {},
   "outputs": [
    {
     "data": {
      "text/plain": [
       "14"
      ]
     },
     "execution_count": 16,
     "metadata": {},
     "output_type": "execute_result"
    }
   ],
   "source": [
    "var_a | var_b"
   ]
  },
  {
   "cell_type": "code",
   "execution_count": 17,
   "id": "f8bf37d6-7cb3-4708-b453-c0f6f68ce8e5",
   "metadata": {},
   "outputs": [
    {
     "data": {
      "text/plain": [
       "'0b1110'"
      ]
     },
     "execution_count": 17,
     "metadata": {},
     "output_type": "execute_result"
    }
   ],
   "source": [
    "bin(14)"
   ]
  },
  {
   "cell_type": "code",
   "execution_count": 18,
   "id": "72e5fa7b-1ee6-461b-b262-bb3f4936e051",
   "metadata": {},
   "outputs": [
    {
     "data": {
      "text/plain": [
       "'0b1110'"
      ]
     },
     "execution_count": 18,
     "metadata": {},
     "output_type": "execute_result"
    }
   ],
   "source": [
    "bin(var_a | var_b)"
   ]
  },
  {
   "cell_type": "code",
   "execution_count": 19,
   "id": "45d78052-84b0-43c2-aac5-8070d9f516df",
   "metadata": {},
   "outputs": [
    {
     "data": {
      "text/plain": [
       "'0b0'"
      ]
     },
     "execution_count": 19,
     "metadata": {},
     "output_type": "execute_result"
    }
   ],
   "source": [
    "bin(var_a & var_b)"
   ]
  },
  {
   "cell_type": "code",
   "execution_count": 20,
   "id": "a68764be-cb3a-455d-a360-39313adcff39",
   "metadata": {},
   "outputs": [
    {
     "name": "stdout",
     "output_type": "stream",
     "text": [
      "var_a: 10, var_b: 4\n",
      "binary of var_a: 0b1010, binary of var_b: 0b100\n",
      "bitwise_xor: 14, binary_bitwise_xor: 0b0\n"
     ]
    }
   ],
   "source": [
    "var_a = 10\n",
    "var_b = 4\n",
    "\n",
    "binary_a = bin(var_a)\n",
    "binary_b = bin(var_b)\n",
    "\n",
    "bitwise_xor = var_a ^ var_b\n",
    "binary_bitwise_xor = bin(bitwise_and)\n",
    "\n",
    "print(f\"var_a: {var_a}, var_b: {var_b}\")\n",
    "print(f\"binary of var_a: {binary_a}, binary of var_b: {binary_b}\")\n",
    "\n",
    "print(f\"bitwise_xor: {bitwise_xor}, binary_bitwise_xor: {binary_bitwise_xor}\")"
   ]
  },
  {
   "cell_type": "code",
   "execution_count": 21,
   "id": "1483ee23-a757-40c0-9158-72ff0cad9827",
   "metadata": {},
   "outputs": [
    {
     "data": {
      "text/plain": [
       "14"
      ]
     },
     "execution_count": 21,
     "metadata": {},
     "output_type": "execute_result"
    }
   ],
   "source": [
    "var_a ^ var_b"
   ]
  },
  {
   "cell_type": "code",
   "execution_count": 22,
   "id": "35bb2d1f-704b-493c-a1e1-0b023a8d5098",
   "metadata": {},
   "outputs": [
    {
     "data": {
      "text/plain": [
       "'0b0'"
      ]
     },
     "execution_count": 22,
     "metadata": {},
     "output_type": "execute_result"
    }
   ],
   "source": [
    "bin(bitwise_and)"
   ]
  },
  {
   "cell_type": "code",
   "execution_count": 23,
   "id": "e95e1096-0450-4d53-88a5-c8908ddca7d6",
   "metadata": {},
   "outputs": [
    {
     "name": "stdout",
     "output_type": "stream",
     "text": [
      "var_a: 50\n",
      "binary of var_a: 0b110010\n",
      "right_shift: 25\n",
      "binary_right_shift: 0b11001\n"
     ]
    }
   ],
   "source": [
    "var_a = 50\n",
    "\n",
    "binary_a = bin(var_a)\n",
    "\n",
    "right_shift = var_a >> 1\n",
    "binary_right_shift = bin(right_shift)\n",
    "\n",
    "print(f\"var_a: {var_a}\")\n",
    "print(f\"binary of var_a: {binary_a}\")\n",
    "\n",
    "print(f\"right_shift: {right_shift}\")\n",
    "print(f\"binary_right_shift: {binary_right_shift}\")"
   ]
  },
  {
   "cell_type": "code",
   "execution_count": 24,
   "id": "f62d70df-4908-4575-bff9-ee0ec25a80bc",
   "metadata": {},
   "outputs": [
    {
     "data": {
      "text/plain": [
       "25"
      ]
     },
     "execution_count": 24,
     "metadata": {},
     "output_type": "execute_result"
    }
   ],
   "source": [
    " var_a >> 1"
   ]
  },
  {
   "cell_type": "code",
   "execution_count": 25,
   "id": "00020280-3abe-450b-9845-e93be1b8b13b",
   "metadata": {},
   "outputs": [
    {
     "data": {
      "text/plain": [
       "'0b11001'"
      ]
     },
     "execution_count": 25,
     "metadata": {},
     "output_type": "execute_result"
    }
   ],
   "source": [
    "bin(right_shift)"
   ]
  },
  {
   "cell_type": "code",
   "execution_count": 26,
   "id": "71052464-3465-4e22-bb44-75696aae1665",
   "metadata": {},
   "outputs": [
    {
     "data": {
      "text/plain": [
       "1"
      ]
     },
     "execution_count": 26,
     "metadata": {},
     "output_type": "execute_result"
    }
   ],
   "source": [
    "var_a>>5"
   ]
  },
  {
   "cell_type": "code",
   "execution_count": 30,
   "id": "43c0a609-04d9-4d77-888d-095e84d28dc1",
   "metadata": {},
   "outputs": [
    {
     "data": {
      "text/plain": [
       "12"
      ]
     },
     "execution_count": 30,
     "metadata": {},
     "output_type": "execute_result"
    }
   ],
   "source": [
    "var_a>>2"
   ]
  },
  {
   "cell_type": "code",
   "execution_count": 31,
   "id": "0d73ec69-3d48-4a80-b046-805058429114",
   "metadata": {},
   "outputs": [
    {
     "data": {
      "text/plain": [
       "True"
      ]
     },
     "execution_count": 31,
     "metadata": {},
     "output_type": "execute_result"
    }
   ],
   "source": [
    "# compare above results with interger division\n",
    "N = 1\n",
    "var_a // 2**N == var_a >> N "
   ]
  },
  {
   "cell_type": "code",
   "execution_count": null,
   "id": "8309e290-f706-4a6a-a3f3-498aaf16a8b0",
   "metadata": {},
   "outputs": [],
   "source": []
  }
 ],
 "metadata": {
  "kernelspec": {
   "display_name": "Python 3 (ipykernel)",
   "language": "python",
   "name": "python3"
  },
  "language_info": {
   "codemirror_mode": {
    "name": "ipython",
    "version": 3
   },
   "file_extension": ".py",
   "mimetype": "text/x-python",
   "name": "python",
   "nbconvert_exporter": "python",
   "pygments_lexer": "ipython3",
   "version": "3.10.8"
  }
 },
 "nbformat": 4,
 "nbformat_minor": 5
}
