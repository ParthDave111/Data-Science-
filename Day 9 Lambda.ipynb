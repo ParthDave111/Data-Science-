{
 "cells": [
  {
   "cell_type": "markdown",
   "id": "c5cfaaa2-be66-4ae3-a5df-d870ddf37c0e",
   "metadata": {},
   "source": [
    "# Lambda Function "
   ]
  },
  {
   "cell_type": "code",
   "execution_count": 1,
   "id": "e260a9ec-803d-45f8-ada1-5444312861a8",
   "metadata": {},
   "outputs": [],
   "source": [
    "n=3 \n",
    "p=2"
   ]
  },
  {
   "cell_type": "code",
   "execution_count": 2,
   "id": "b2cad130-96f4-439c-a87b-97404b683b49",
   "metadata": {},
   "outputs": [],
   "source": [
    "def test(n,p) :\n",
    "    return n**p"
   ]
  },
  {
   "cell_type": "code",
   "execution_count": 3,
   "id": "1e977154-4fa3-417a-8757-8a1ae43c16ec",
   "metadata": {},
   "outputs": [
    {
     "data": {
      "text/plain": [
       "8"
      ]
     },
     "execution_count": 3,
     "metadata": {},
     "output_type": "execute_result"
    }
   ],
   "source": [
    "test(2,3)"
   ]
  },
  {
   "cell_type": "code",
   "execution_count": 4,
   "id": "b615e5a4-71bb-4c1a-85c5-f3b1dd9445a9",
   "metadata": {},
   "outputs": [
    {
     "data": {
      "text/plain": [
       "6561"
      ]
     },
     "execution_count": 4,
     "metadata": {},
     "output_type": "execute_result"
    }
   ],
   "source": [
    "test(9,4)"
   ]
  },
  {
   "cell_type": "code",
   "execution_count": 5,
   "id": "91072c5c-6974-4a9e-abc7-fa8f25b6a773",
   "metadata": {},
   "outputs": [],
   "source": [
    "# function without name - Lmbda "
   ]
  },
  {
   "cell_type": "code",
   "execution_count": 7,
   "id": "c6083e55-670a-429b-bb1f-60c2ec2b6407",
   "metadata": {},
   "outputs": [],
   "source": [
    "a= lambda n,p : n**p"
   ]
  },
  {
   "cell_type": "code",
   "execution_count": 10,
   "id": "572e19e4-5f53-43ef-a750-5668ef880a7b",
   "metadata": {},
   "outputs": [
    {
     "data": {
      "text/plain": [
       "9"
      ]
     },
     "execution_count": 10,
     "metadata": {},
     "output_type": "execute_result"
    }
   ],
   "source": [
    "a(3,2)"
   ]
  },
  {
   "cell_type": "code",
   "execution_count": 11,
   "id": "593be114-2153-4cfb-9ee6-4482a5e94e70",
   "metadata": {},
   "outputs": [
    {
     "data": {
      "text/plain": [
       "6561"
      ]
     },
     "execution_count": 11,
     "metadata": {},
     "output_type": "execute_result"
    }
   ],
   "source": [
    "a(9,4)"
   ]
  },
  {
   "cell_type": "code",
   "execution_count": 12,
   "id": "ca8d4d17-a949-4460-a69b-295f8cea7096",
   "metadata": {},
   "outputs": [],
   "source": [
    "add = lambda x,y : x+y"
   ]
  },
  {
   "cell_type": "code",
   "execution_count": 14,
   "id": "8638fe97-b913-4c73-b359-459adf56697f",
   "metadata": {},
   "outputs": [
    {
     "data": {
      "text/plain": [
       "5"
      ]
     },
     "execution_count": 14,
     "metadata": {},
     "output_type": "execute_result"
    }
   ],
   "source": [
    "add(2,3)"
   ]
  },
  {
   "cell_type": "code",
   "execution_count": 15,
   "id": "33c64311-3890-4673-8497-113cc5b9870f",
   "metadata": {},
   "outputs": [],
   "source": [
    "# Lambda is also called as short hand operation "
   ]
  },
  {
   "cell_type": "code",
   "execution_count": 16,
   "id": "56f9ade4-663e-43c9-ac8c-d041d0ffd353",
   "metadata": {},
   "outputs": [],
   "source": [
    "c_to_f = lambda c : (9/5)*c + 32"
   ]
  },
  {
   "cell_type": "code",
   "execution_count": 17,
   "id": "bd841b31-c8fc-47c2-8cb5-cac56537df05",
   "metadata": {},
   "outputs": [
    {
     "data": {
      "text/plain": [
       "95.0"
      ]
     },
     "execution_count": 17,
     "metadata": {},
     "output_type": "execute_result"
    }
   ],
   "source": [
    "c_to_f(35)"
   ]
  },
  {
   "cell_type": "code",
   "execution_count": 18,
   "id": "d057b5dd-52af-48cf-b6a4-a61971635d2c",
   "metadata": {},
   "outputs": [],
   "source": [
    "max_two= lambda x,y :x if x>y else y "
   ]
  },
  {
   "cell_type": "code",
   "execution_count": 19,
   "id": "11bdb7c5-722d-4ddb-980f-478c005f449f",
   "metadata": {},
   "outputs": [
    {
     "data": {
      "text/plain": [
       "11"
      ]
     },
     "execution_count": 19,
     "metadata": {},
     "output_type": "execute_result"
    }
   ],
   "source": [
    "max_two(10,11)"
   ]
  },
  {
   "cell_type": "code",
   "execution_count": 20,
   "id": "61b5e961-763c-4e7e-b054-cc2c6eded745",
   "metadata": {},
   "outputs": [],
   "source": [
    "s =\"parth\""
   ]
  },
  {
   "cell_type": "code",
   "execution_count": 21,
   "id": "a50690a8-68b6-4aa3-8e7d-eb6c1e343565",
   "metadata": {},
   "outputs": [
    {
     "data": {
      "text/plain": [
       "5"
      ]
     },
     "execution_count": 21,
     "metadata": {},
     "output_type": "execute_result"
    }
   ],
   "source": [
    "len(s)"
   ]
  },
  {
   "cell_type": "code",
   "execution_count": 22,
   "id": "43918bc5-92a0-4595-a527-955e1acb6ffc",
   "metadata": {},
   "outputs": [],
   "source": [
    "len_str = lambda s : len(s)"
   ]
  },
  {
   "cell_type": "code",
   "execution_count": 23,
   "id": "4efefac7-881f-4222-bf33-d1cd07405d50",
   "metadata": {},
   "outputs": [
    {
     "data": {
      "text/plain": [
       "'parth'"
      ]
     },
     "execution_count": 23,
     "metadata": {},
     "output_type": "execute_result"
    }
   ],
   "source": [
    "s"
   ]
  },
  {
   "cell_type": "code",
   "execution_count": 25,
   "id": "b9756c01-2456-4390-ac90-8ba92be87e24",
   "metadata": {},
   "outputs": [
    {
     "data": {
      "text/plain": [
       "5"
      ]
     },
     "execution_count": 25,
     "metadata": {},
     "output_type": "execute_result"
    }
   ],
   "source": [
    "len_str(s)"
   ]
  },
  {
   "cell_type": "markdown",
   "id": "20f8937b-3f69-41f0-901f-fc463dbaf247",
   "metadata": {},
   "source": [
    "# MAP REDUCE AND FILTERS FUNCTIONS"
   ]
  },
  {
   "cell_type": "code",
   "execution_count": 1,
   "id": "58e0afd9-97cc-4751-baf6-bb615831d35d",
   "metadata": {},
   "outputs": [],
   "source": [
    "# SHORT HAND OPERATION"
   ]
  },
  {
   "cell_type": "code",
   "execution_count": 2,
   "id": "38724396-25f1-4735-a1a6-e994639aa40d",
   "metadata": {},
   "outputs": [],
   "source": [
    "L = [1,2,3,4,5,6]"
   ]
  },
  {
   "cell_type": "code",
   "execution_count": 3,
   "id": "be33adde-c0ba-4769-ade4-1c8c0758b4c5",
   "metadata": {},
   "outputs": [],
   "source": [
    "def test(L):\n",
    "    l1=[]\n",
    "    for i in L :\n",
    "        l1.append(i**2)\n",
    "    return l1"
   ]
  },
  {
   "cell_type": "code",
   "execution_count": 4,
   "id": "fb267193-52a8-4935-8a77-43415d595b7a",
   "metadata": {},
   "outputs": [
    {
     "data": {
      "text/plain": [
       "[1, 4, 9, 16, 25, 36]"
      ]
     },
     "execution_count": 4,
     "metadata": {},
     "output_type": "execute_result"
    }
   ],
   "source": [
    "test(L)"
   ]
  },
  {
   "cell_type": "code",
   "execution_count": 5,
   "id": "c8262a9d-0ed9-498b-8d32-9967d03f3fa0",
   "metadata": {},
   "outputs": [],
   "source": [
    "# map(fucn , * iterables)"
   ]
  },
  {
   "cell_type": "code",
   "execution_count": 8,
   "id": "1d5eee87-0b0b-49cf-928c-282549526cd6",
   "metadata": {},
   "outputs": [],
   "source": [
    "def sq(x):\n",
    "    return x**2"
   ]
  },
  {
   "cell_type": "code",
   "execution_count": 11,
   "id": "30fa5296-1adf-4bf7-8d75-0c781ee9affd",
   "metadata": {},
   "outputs": [
    {
     "data": {
      "text/plain": [
       "<map at 0x7f64945a3760>"
      ]
     },
     "execution_count": 11,
     "metadata": {},
     "output_type": "execute_result"
    }
   ],
   "source": [
    "map(sq,L)"
   ]
  },
  {
   "cell_type": "code",
   "execution_count": 13,
   "id": "19332c69-9642-44ea-849b-278f45d41867",
   "metadata": {},
   "outputs": [
    {
     "data": {
      "text/plain": [
       "[1, 4, 9, 16, 25, 36]"
      ]
     },
     "execution_count": 13,
     "metadata": {},
     "output_type": "execute_result"
    }
   ],
   "source": [
    "list(map(sq,L))"
   ]
  },
  {
   "cell_type": "code",
   "execution_count": 14,
   "id": "c9634864-5110-4318-b997-fd8c26b8d1a5",
   "metadata": {},
   "outputs": [
    {
     "data": {
      "text/plain": [
       "[1, 4, 9, 16, 25, 36]"
      ]
     },
     "execution_count": 14,
     "metadata": {},
     "output_type": "execute_result"
    }
   ],
   "source": [
    "list(map(lambda x : x**2 ,L))"
   ]
  },
  {
   "cell_type": "code",
   "execution_count": 16,
   "id": "54078e89-48f2-4557-aa55-b7ec8e77a86b",
   "metadata": {},
   "outputs": [],
   "source": [
    "l1 =[1,2,3,4,5,6]\n",
    "l2 =[6,7,8,9,10,11]"
   ]
  },
  {
   "cell_type": "code",
   "execution_count": 17,
   "id": "39f53d1c-eb28-4454-b538-7c7b2bda1ea4",
   "metadata": {},
   "outputs": [
    {
     "data": {
      "text/plain": [
       "[1, 2, 3, 4, 5, 6, 6, 7, 8, 9, 10, 11]"
      ]
     },
     "execution_count": 17,
     "metadata": {},
     "output_type": "execute_result"
    }
   ],
   "source": [
    "l1+l2"
   ]
  },
  {
   "cell_type": "code",
   "execution_count": 19,
   "id": "395fb59d-eb48-45ba-93fa-b28a218bf389",
   "metadata": {},
   "outputs": [
    {
     "data": {
      "text/plain": [
       "[7, 9, 11, 13, 15, 17]"
      ]
     },
     "execution_count": 19,
     "metadata": {},
     "output_type": "execute_result"
    }
   ],
   "source": [
    "list(map(lambda x,y : x+y, l1,l2))"
   ]
  },
  {
   "cell_type": "code",
   "execution_count": 21,
   "id": "d87ea3df-9f25-45c9-a697-f74548ac4b6a",
   "metadata": {},
   "outputs": [],
   "source": [
    "f = lambda x,y : x+y"
   ]
  },
  {
   "cell_type": "code",
   "execution_count": 22,
   "id": "3dc784a6-6795-4084-a064-9885081a7f57",
   "metadata": {},
   "outputs": [
    {
     "data": {
      "text/plain": [
       "[1, 2, 3, 4, 5, 6, 6, 7, 8, 9, 10, 11]"
      ]
     },
     "execution_count": 22,
     "metadata": {},
     "output_type": "execute_result"
    }
   ],
   "source": [
    "f(l1,l2)"
   ]
  },
  {
   "cell_type": "code",
   "execution_count": 23,
   "id": "5e4b99b9-de5c-4185-8f95-f22a43f6fdf5",
   "metadata": {},
   "outputs": [
    {
     "data": {
      "text/plain": [
       "[7, 9, 11, 13, 15, 17]"
      ]
     },
     "execution_count": 23,
     "metadata": {},
     "output_type": "execute_result"
    }
   ],
   "source": [
    "list(map(f, l1,l2))"
   ]
  },
  {
   "cell_type": "code",
   "execution_count": 3,
   "id": "6e1e2593-179e-4332-ac32-56762eaed86f",
   "metadata": {},
   "outputs": [
    {
     "data": {
      "text/plain": [
       "['P', 'A', 'R', 'T', 'H']"
      ]
     },
     "execution_count": 3,
     "metadata": {},
     "output_type": "execute_result"
    }
   ],
   "source": [
    "list(map(lambda x: x.upper() , s))"
   ]
  },
  {
   "cell_type": "code",
   "execution_count": 2,
   "id": "05b78156-feaa-4178-b424-8b3e250fe361",
   "metadata": {},
   "outputs": [],
   "source": [
    "s='parth'"
   ]
  },
  {
   "cell_type": "code",
   "execution_count": 4,
   "id": "7a435817-e417-40d7-bdc8-1731bbdfd049",
   "metadata": {},
   "outputs": [],
   "source": [
    "from functools import reduce "
   ]
  },
  {
   "cell_type": "code",
   "execution_count": 5,
   "id": "e1845480-724c-42f9-aac1-15ad3f706a6c",
   "metadata": {},
   "outputs": [],
   "source": [
    "l =[1,2,3,4,5,6]"
   ]
  },
  {
   "cell_type": "code",
   "execution_count": 6,
   "id": "dc1842e3-f4d4-421a-a086-306df50a56e1",
   "metadata": {},
   "outputs": [
    {
     "data": {
      "text/plain": [
       "21"
      ]
     },
     "execution_count": 6,
     "metadata": {},
     "output_type": "execute_result"
    }
   ],
   "source": [
    "sum(l)"
   ]
  },
  {
   "cell_type": "code",
   "execution_count": 7,
   "id": "bea9eb94-e59c-4eb3-a8c2-9d2178a36482",
   "metadata": {},
   "outputs": [
    {
     "data": {
      "text/plain": [
       "21"
      ]
     },
     "execution_count": 7,
     "metadata": {},
     "output_type": "execute_result"
    }
   ],
   "source": [
    "reduce(lambda x,y: x+y,l)"
   ]
  },
  {
   "cell_type": "code",
   "execution_count": 8,
   "id": "4f9f1a0c-bd3d-4f54-80d4-dd55621f5952",
   "metadata": {},
   "outputs": [],
   "source": [
    "def add(x,y):\n",
    "    return x+y"
   ]
  },
  {
   "cell_type": "code",
   "execution_count": 9,
   "id": "89a0a7db-fe9c-456d-966c-d9a7b5f8b6ad",
   "metadata": {},
   "outputs": [
    {
     "data": {
      "text/plain": [
       "21"
      ]
     },
     "execution_count": 9,
     "metadata": {},
     "output_type": "execute_result"
    }
   ],
   "source": [
    "reduce(add,l)"
   ]
  },
  {
   "cell_type": "code",
   "execution_count": 10,
   "id": "574b9d4c-af45-45e6-9b10-7b2e041a06d8",
   "metadata": {},
   "outputs": [
    {
     "ename": "TypeError",
     "evalue": "<lambda>() missing 1 required positional argument: 'z'",
     "output_type": "error",
     "traceback": [
      "\u001b[0;31m---------------------------------------------------------------------------\u001b[0m",
      "\u001b[0;31mTypeError\u001b[0m                                 Traceback (most recent call last)",
      "Cell \u001b[0;32mIn[10], line 1\u001b[0m\n\u001b[0;32m----> 1\u001b[0m \u001b[43mreduce\u001b[49m\u001b[43m(\u001b[49m\u001b[38;5;28;43;01mlambda\u001b[39;49;00m\u001b[43m \u001b[49m\u001b[43mx\u001b[49m\u001b[43m,\u001b[49m\u001b[43my\u001b[49m\u001b[43m,\u001b[49m\u001b[43mz\u001b[49m\u001b[43m:\u001b[49m\u001b[43m \u001b[49m\u001b[43mx\u001b[49m\u001b[38;5;241;43m+\u001b[39;49m\u001b[43my\u001b[49m\u001b[38;5;241;43m+\u001b[39;49m\u001b[43mz\u001b[49m\u001b[43m,\u001b[49m\u001b[43ml\u001b[49m\u001b[43m)\u001b[49m\n",
      "\u001b[0;31mTypeError\u001b[0m: <lambda>() missing 1 required positional argument: 'z'"
     ]
    }
   ],
   "source": [
    "reduce(lambda x,y,z: x+y+z,l)"
   ]
  },
  {
   "cell_type": "code",
   "execution_count": 11,
   "id": "094ff933-ee0c-4224-83ff-27fef27eb6b5",
   "metadata": {},
   "outputs": [
    {
     "data": {
      "text/plain": [
       "1"
      ]
     },
     "execution_count": 11,
     "metadata": {},
     "output_type": "execute_result"
    }
   ],
   "source": [
    "# exception case of reduce function \n",
    "reduce(lambda x,y :x+y, [1])"
   ]
  },
  {
   "cell_type": "code",
   "execution_count": 12,
   "id": "44af3819-2472-4798-929b-35bfa124ba27",
   "metadata": {},
   "outputs": [
    {
     "data": {
      "text/plain": [
       "1"
      ]
     },
     "execution_count": 12,
     "metadata": {},
     "output_type": "execute_result"
    }
   ],
   "source": [
    "\n",
    "reduce(lambda x,y :x*y, [1])"
   ]
  },
  {
   "cell_type": "code",
   "execution_count": 13,
   "id": "8b87cb0c-4f18-45e4-aef0-eb3bc754094a",
   "metadata": {},
   "outputs": [
    {
     "data": {
      "text/plain": [
       "[1, 2, 3, 4, 5, 6]"
      ]
     },
     "execution_count": 13,
     "metadata": {},
     "output_type": "execute_result"
    }
   ],
   "source": [
    "l"
   ]
  },
  {
   "cell_type": "code",
   "execution_count": 14,
   "id": "0535053a-a7e6-4a9d-816d-748b6eaac998",
   "metadata": {},
   "outputs": [
    {
     "data": {
      "text/plain": [
       "6"
      ]
     },
     "execution_count": 14,
     "metadata": {},
     "output_type": "execute_result"
    }
   ],
   "source": [
    "reduce(lambda x,y : x if x>y else y, l)"
   ]
  },
  {
   "cell_type": "code",
   "execution_count": null,
   "id": "3c4440f1-10ce-43ad-953e-9ab3ab81cf0b",
   "metadata": {},
   "outputs": [],
   "source": []
  }
 ],
 "metadata": {
  "kernelspec": {
   "display_name": "Python 3 (ipykernel)",
   "language": "python",
   "name": "python3"
  },
  "language_info": {
   "codemirror_mode": {
    "name": "ipython",
    "version": 3
   },
   "file_extension": ".py",
   "mimetype": "text/x-python",
   "name": "python",
   "nbconvert_exporter": "python",
   "pygments_lexer": "ipython3",
   "version": "3.10.8"
  }
 },
 "nbformat": 4,
 "nbformat_minor": 5
}
