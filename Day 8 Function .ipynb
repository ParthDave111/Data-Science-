{
 "cells": [
  {
   "cell_type": "markdown",
   "id": "2433224c-7538-4d5e-a5c3-ca76ae700724",
   "metadata": {},
   "source": [
    "Function "
   ]
  },
  {
   "cell_type": "code",
   "execution_count": 1,
   "id": "6fc771a0-5b3b-40b8-9a35-d3ec08a4f26e",
   "metadata": {},
   "outputs": [
    {
     "name": "stdout",
     "output_type": "stream",
     "text": [
      "this is my prog\n"
     ]
    }
   ],
   "source": [
    "print(\"this is my prog\")"
   ]
  },
  {
   "cell_type": "code",
   "execution_count": 2,
   "id": "5b796966-6378-4f83-a1a3-7d755919ae32",
   "metadata": {},
   "outputs": [],
   "source": [
    "l = [1,2,3,4,5]"
   ]
  },
  {
   "cell_type": "code",
   "execution_count": 3,
   "id": "50a5cfe8-b1d8-41e3-afbc-792b701ce14c",
   "metadata": {},
   "outputs": [
    {
     "data": {
      "text/plain": [
       "5"
      ]
     },
     "execution_count": 3,
     "metadata": {},
     "output_type": "execute_result"
    }
   ],
   "source": [
    "len(l)"
   ]
  },
  {
   "cell_type": "code",
   "execution_count": 8,
   "id": "533c825c-af52-4e45-8652-6b3de7143f2f",
   "metadata": {},
   "outputs": [],
   "source": [
    "# def = defination\n",
    "def test():\n",
    "    pass"
   ]
  },
  {
   "cell_type": "code",
   "execution_count": 9,
   "id": "2b098fdd-6ed9-4642-9d65-da0067a87334",
   "metadata": {},
   "outputs": [],
   "source": [
    "def test1():\n",
    "    print(\" this is my first function\")"
   ]
  },
  {
   "cell_type": "code",
   "execution_count": 10,
   "id": "d3ed05ea-ba8f-4313-83b6-53a4e5973772",
   "metadata": {},
   "outputs": [
    {
     "name": "stdout",
     "output_type": "stream",
     "text": [
      " this is my first function\n"
     ]
    }
   ],
   "source": [
    "test1()"
   ]
  },
  {
   "cell_type": "code",
   "execution_count": 11,
   "id": "48bb3526-8905-44b7-9706-c50cf232adeb",
   "metadata": {},
   "outputs": [],
   "source": [
    "# adavantage of fucntion\n",
    "# 1. Modularity  \n",
    "# 2. usablity "
   ]
  },
  {
   "cell_type": "code",
   "execution_count": 12,
   "id": "6b8c814a-c2fa-4e69-af7a-3711c0e77996",
   "metadata": {},
   "outputs": [
    {
     "name": "stdout",
     "output_type": "stream",
     "text": [
      " this is my first function\n"
     ]
    },
    {
     "ename": "TypeError",
     "evalue": "unsupported operand type(s) for +: 'NoneType' and 'str'",
     "output_type": "error",
     "traceback": [
      "\u001b[0;31m---------------------------------------------------------------------------\u001b[0m",
      "\u001b[0;31mTypeError\u001b[0m                                 Traceback (most recent call last)",
      "Cell \u001b[0;32mIn[12], line 1\u001b[0m\n\u001b[0;32m----> 1\u001b[0m \u001b[43mtest1\u001b[49m\u001b[43m(\u001b[49m\u001b[43m)\u001b[49m\u001b[38;5;241;43m+\u001b[39;49m\u001b[38;5;124;43m\"\u001b[39;49m\u001b[38;5;124;43mParth\u001b[39;49m\u001b[38;5;124;43m\"\u001b[39;49m\n",
      "\u001b[0;31mTypeError\u001b[0m: unsupported operand type(s) for +: 'NoneType' and 'str'"
     ]
    }
   ],
   "source": [
    "# concatenate str with op of function .\n",
    "# why?\n",
    "# 'non type'+ str \n",
    "# non type is writen by print fucn \n",
    "test1()+\"Parth\""
   ]
  },
  {
   "cell_type": "code",
   "execution_count": 14,
   "id": "edf059da-4d2c-4ea6-ab36-da06f193e699",
   "metadata": {},
   "outputs": [],
   "source": [
    "def test2():\n",
    "    return \" this is my fucn with return\""
   ]
  },
  {
   "cell_type": "code",
   "execution_count": 16,
   "id": "ebbe5ce6-675b-4c45-8386-3b1e3dc08d84",
   "metadata": {},
   "outputs": [
    {
     "data": {
      "text/plain": [
       "' this is my fucn with return'"
      ]
     },
     "execution_count": 16,
     "metadata": {},
     "output_type": "execute_result"
    }
   ],
   "source": [
    "test2()"
   ]
  },
  {
   "cell_type": "code",
   "execution_count": 17,
   "id": "edc64cf3-2f16-4ef6-812e-07480984ae07",
   "metadata": {},
   "outputs": [
    {
     "data": {
      "text/plain": [
       "' this is my fucn with returnParth'"
      ]
     },
     "execution_count": 17,
     "metadata": {},
     "output_type": "execute_result"
    }
   ],
   "source": [
    "# return will return str as it is \n",
    "# print vs return \n",
    "# in function always use return \n",
    "test2()+\"Parth\""
   ]
  },
  {
   "cell_type": "code",
   "execution_count": 18,
   "id": "12b5a12c-eaf5-4680-b47c-83d82838ceb6",
   "metadata": {},
   "outputs": [],
   "source": [
    "# possible to get multiple return from 1 simple function\n",
    "def test3():\n",
    "    return 1,4,\"data science\", 102.22"
   ]
  },
  {
   "cell_type": "code",
   "execution_count": 19,
   "id": "55d83301-e214-4942-adb7-c8d225cf7f03",
   "metadata": {},
   "outputs": [
    {
     "data": {
      "text/plain": [
       "(1, 4, 'data science', 102.22)"
      ]
     },
     "execution_count": 19,
     "metadata": {},
     "output_type": "execute_result"
    }
   ],
   "source": [
    "test3()"
   ]
  },
  {
   "cell_type": "code",
   "execution_count": 22,
   "id": "4b3383d0-f4d7-4a26-84fc-90a1c04843ad",
   "metadata": {},
   "outputs": [],
   "source": [
    "a=1,2,3,4,5"
   ]
  },
  {
   "cell_type": "code",
   "execution_count": 23,
   "id": "479b6249-2e40-4bc0-a20c-b0f852cf24d4",
   "metadata": {},
   "outputs": [
    {
     "data": {
      "text/plain": [
       "(1, 2, 3, 4, 5)"
      ]
     },
     "execution_count": 23,
     "metadata": {},
     "output_type": "execute_result"
    }
   ],
   "source": [
    "a"
   ]
  },
  {
   "cell_type": "code",
   "execution_count": 24,
   "id": "67f7a2ea-0e2c-43e1-8b8a-26f3f53625c6",
   "metadata": {},
   "outputs": [],
   "source": [
    "# multiple variable declaration\n",
    "a,b,c,d =1,2,34.56,True"
   ]
  },
  {
   "cell_type": "code",
   "execution_count": 25,
   "id": "ea24232f-61fb-4707-b70c-2bf7d7313e28",
   "metadata": {},
   "outputs": [
    {
     "data": {
      "text/plain": [
       "1"
      ]
     },
     "execution_count": 25,
     "metadata": {},
     "output_type": "execute_result"
    }
   ],
   "source": [
    "a"
   ]
  },
  {
   "cell_type": "code",
   "execution_count": 26,
   "id": "952259d2-bd1d-4b76-88ff-0117c555b5b1",
   "metadata": {},
   "outputs": [
    {
     "data": {
      "text/plain": [
       "34.56"
      ]
     },
     "execution_count": 26,
     "metadata": {},
     "output_type": "execute_result"
    }
   ],
   "source": [
    "c"
   ]
  },
  {
   "cell_type": "code",
   "execution_count": 27,
   "id": "c4e266dc-db00-4fde-a9cd-3ca90c1322a7",
   "metadata": {},
   "outputs": [
    {
     "data": {
      "text/plain": [
       "True"
      ]
     },
     "execution_count": 27,
     "metadata": {},
     "output_type": "execute_result"
    }
   ],
   "source": [
    "d"
   ]
  },
  {
   "cell_type": "code",
   "execution_count": 28,
   "id": "1d08efe9-7f49-467b-88c8-3d09174d63f0",
   "metadata": {},
   "outputs": [
    {
     "data": {
      "text/plain": [
       "(1, 4, 'data science', 102.22)"
      ]
     },
     "execution_count": 28,
     "metadata": {},
     "output_type": "execute_result"
    }
   ],
   "source": [
    "test3()"
   ]
  },
  {
   "cell_type": "code",
   "execution_count": 30,
   "id": "df859890-82bf-44e4-bcb7-4bc43bdc1100",
   "metadata": {},
   "outputs": [
    {
     "data": {
      "text/plain": [
       "1"
      ]
     },
     "execution_count": 30,
     "metadata": {},
     "output_type": "execute_result"
    }
   ],
   "source": [
    "test3()[0]"
   ]
  },
  {
   "cell_type": "code",
   "execution_count": 32,
   "id": "e739982a-9e33-4fa8-a64b-0760d60efd2e",
   "metadata": {},
   "outputs": [
    {
     "data": {
      "text/plain": [
       "'data science'"
      ]
     },
     "execution_count": 32,
     "metadata": {},
     "output_type": "execute_result"
    }
   ],
   "source": [
    "test3()[2]"
   ]
  },
  {
   "cell_type": "code",
   "execution_count": 33,
   "id": "c3a67d76-ecfc-4c9c-981a-31caf23d87f1",
   "metadata": {},
   "outputs": [],
   "source": [
    "# fucn are suppose to return an outcome "
   ]
  },
  {
   "cell_type": "code",
   "execution_count": 34,
   "id": "4f771a59-cc38-4d31-b5ac-91876d7f7466",
   "metadata": {},
   "outputs": [
    {
     "data": {
      "text/plain": [
       "(1, 4, 'data science', 102.22)"
      ]
     },
     "execution_count": 34,
     "metadata": {},
     "output_type": "execute_result"
    }
   ],
   "source": [
    "test3()"
   ]
  },
  {
   "cell_type": "code",
   "execution_count": 35,
   "id": "86852761-c35d-4ebd-9e88-f8bbe8b57e12",
   "metadata": {},
   "outputs": [],
   "source": [
    "a,b,c,d=test3()"
   ]
  },
  {
   "cell_type": "code",
   "execution_count": 36,
   "id": "20f2d2de-47ac-4735-b8ea-daf7c06e4cd8",
   "metadata": {},
   "outputs": [
    {
     "data": {
      "text/plain": [
       "1"
      ]
     },
     "execution_count": 36,
     "metadata": {},
     "output_type": "execute_result"
    }
   ],
   "source": [
    "a"
   ]
  },
  {
   "cell_type": "code",
   "execution_count": 37,
   "id": "3b5a687d-19ac-42cc-b17c-014d10f9ce89",
   "metadata": {},
   "outputs": [
    {
     "data": {
      "text/plain": [
       "4"
      ]
     },
     "execution_count": 37,
     "metadata": {},
     "output_type": "execute_result"
    }
   ],
   "source": [
    "b"
   ]
  },
  {
   "cell_type": "code",
   "execution_count": 38,
   "id": "fe690e3f-4a02-4c79-98f2-69769968c30d",
   "metadata": {},
   "outputs": [
    {
     "data": {
      "text/plain": [
       "'data science'"
      ]
     },
     "execution_count": 38,
     "metadata": {},
     "output_type": "execute_result"
    }
   ],
   "source": [
    "c"
   ]
  },
  {
   "cell_type": "code",
   "execution_count": 39,
   "id": "98dd785a-ae5c-4dc5-96a0-1aec2f88fd44",
   "metadata": {},
   "outputs": [
    {
     "data": {
      "text/plain": [
       "102.22"
      ]
     },
     "execution_count": 39,
     "metadata": {},
     "output_type": "execute_result"
    }
   ],
   "source": [
    "d"
   ]
  },
  {
   "cell_type": "code",
   "execution_count": 40,
   "id": "9ccc45e8-2070-4e1b-9f85-4bea2541a916",
   "metadata": {},
   "outputs": [],
   "source": [
    "# logic based fucn\n",
    "def test4():\n",
    "    a=3*4 + 5\n",
    "    return a "
   ]
  },
  {
   "cell_type": "code",
   "execution_count": 42,
   "id": "e8b34ac6-a029-4fdd-95bc-f472166cd032",
   "metadata": {},
   "outputs": [
    {
     "data": {
      "text/plain": [
       "17"
      ]
     },
     "execution_count": 42,
     "metadata": {},
     "output_type": "execute_result"
    }
   ],
   "source": [
    "test4()"
   ]
  },
  {
   "cell_type": "code",
   "execution_count": 43,
   "id": "9ecf27dc-6125-4b2a-9dcc-45b5dd02c9b0",
   "metadata": {},
   "outputs": [
    {
     "data": {
      "text/plain": [
       "int"
      ]
     },
     "execution_count": 43,
     "metadata": {},
     "output_type": "execute_result"
    }
   ],
   "source": [
    "type(test4())"
   ]
  },
  {
   "cell_type": "code",
   "execution_count": 45,
   "id": "43e5377f-fef3-4580-a49c-aa8d4ccb967b",
   "metadata": {},
   "outputs": [],
   "source": [
    "def test5(a,b):\n",
    "    c = a+b\n",
    "    return c"
   ]
  },
  {
   "cell_type": "code",
   "execution_count": 48,
   "id": "30a5dd61-c4ae-42d9-84a2-51c2eb302849",
   "metadata": {},
   "outputs": [
    {
     "data": {
      "text/plain": [
       "5"
      ]
     },
     "execution_count": 48,
     "metadata": {},
     "output_type": "execute_result"
    }
   ],
   "source": [
    "test5(2,3)"
   ]
  },
  {
   "cell_type": "code",
   "execution_count": 49,
   "id": "65690c67-6ca8-4b95-bee2-1d43a15a2fed",
   "metadata": {},
   "outputs": [
    {
     "data": {
      "text/plain": [
       "'ParthDave'"
      ]
     },
     "execution_count": 49,
     "metadata": {},
     "output_type": "execute_result"
    }
   ],
   "source": [
    "# str\n",
    "test5(\"Parth\",\"Dave\")"
   ]
  },
  {
   "cell_type": "code",
   "execution_count": 50,
   "id": "2b630ca8-b075-41ed-8f7c-24483a6b20ae",
   "metadata": {},
   "outputs": [
    {
     "data": {
      "text/plain": [
       "[1, 2, 3, 4, 4, 5, 6, 7, 8]"
      ]
     },
     "execution_count": 50,
     "metadata": {},
     "output_type": "execute_result"
    }
   ],
   "source": [
    "# lst\n",
    "test5([1,2,3,4] , [4,5,6,7,8])"
   ]
  },
  {
   "cell_type": "code",
   "execution_count": 51,
   "id": "239dff72-4077-42c9-8af9-0e689c15c3f2",
   "metadata": {},
   "outputs": [
    {
     "data": {
      "text/plain": [
       "'DaveParth'"
      ]
     },
     "execution_count": 51,
     "metadata": {},
     "output_type": "execute_result"
    }
   ],
   "source": [
    "test5(b=\"Parth\", a = \"Dave\")"
   ]
  },
  {
   "cell_type": "code",
   "execution_count": 52,
   "id": "046cf013-9609-49b6-b052-1563d66360ed",
   "metadata": {},
   "outputs": [],
   "source": [
    "l = [1,2,3,4,5,\"Parth\",\"Data science\",[1,2,3,4,5]]"
   ]
  },
  {
   "cell_type": "code",
   "execution_count": 55,
   "id": "335da09e-76bb-4367-a975-8160107382c2",
   "metadata": {},
   "outputs": [],
   "source": [
    "# function to filter only numeric value by taking list as input \n",
    "def test6(a):\n",
    "    n = []\n",
    "    for i in a: \n",
    "        if type(i) == int or type(i) == float :\n",
    "                n.append(i)\n",
    "    return n"
   ]
  },
  {
   "cell_type": "code",
   "execution_count": 56,
   "id": "b006ac3b-0cca-4804-8360-5e908ccb8191",
   "metadata": {},
   "outputs": [
    {
     "data": {
      "text/plain": [
       "[1, 2, 3, 4, 5]"
      ]
     },
     "execution_count": 56,
     "metadata": {},
     "output_type": "execute_result"
    }
   ],
   "source": [
    "test6(l)"
   ]
  },
  {
   "cell_type": "code",
   "execution_count": 57,
   "id": "ca8f0e1e-6574-4b96-b7d9-4723e17b264d",
   "metadata": {},
   "outputs": [],
   "source": [
    "def test7(a):\n",
    "    n = []\n",
    "    for i in a: \n",
    "        if type(i) == int or type(i) == list:\n",
    "                n.append(i)\n",
    "    return n"
   ]
  },
  {
   "cell_type": "code",
   "execution_count": 58,
   "id": "fd1a5aa9-e465-4cc1-b034-994ff3df9088",
   "metadata": {},
   "outputs": [
    {
     "data": {
      "text/plain": [
       "[1, 2, 3, 4, 5, [1, 2, 3, 4, 5]]"
      ]
     },
     "execution_count": 58,
     "metadata": {},
     "output_type": "execute_result"
    }
   ],
   "source": [
    "test7(l)"
   ]
  },
  {
   "cell_type": "code",
   "execution_count": 59,
   "id": "f7c1101e-12e5-409b-a280-86c595388abb",
   "metadata": {},
   "outputs": [
    {
     "data": {
      "text/plain": [
       "[1, 2, 3, 4, 5, 'Parth', 'Data science', [1, 2, 3, 4, 5]]"
      ]
     },
     "execution_count": 59,
     "metadata": {},
     "output_type": "execute_result"
    }
   ],
   "source": [
    "l"
   ]
  },
  {
   "cell_type": "code",
   "execution_count": 60,
   "id": "0abd608e-1972-48cc-b5f4-bf46b1bb00cd",
   "metadata": {},
   "outputs": [],
   "source": [
    "def test7(a):\n",
    "    n=[]\n",
    "    for i in a:\n",
    "        if type(i)==list:\n",
    "            for j in i :\n",
    "                if type(j) == int or type(j)== float:\n",
    "                    n.append(j)\n",
    "                    \n",
    "    else:\n",
    "        if type(i) == int or type(i)== float:\n",
    "            n.append(i)\n",
    "    return n"
   ]
  },
  {
   "cell_type": "code",
   "execution_count": 61,
   "id": "f7a75cbc-b972-43ed-a3e2-632c1d1deaed",
   "metadata": {},
   "outputs": [
    {
     "data": {
      "text/plain": [
       "[1, 2, 3, 4, 5]"
      ]
     },
     "execution_count": 61,
     "metadata": {},
     "output_type": "execute_result"
    }
   ],
   "source": [
    "test7(l)"
   ]
  },
  {
   "cell_type": "code",
   "execution_count": 62,
   "id": "16f73762-3070-44a2-a7bb-1f78a0ee3699",
   "metadata": {},
   "outputs": [],
   "source": [
    "def test7(a):\n",
    "    n=[]\n",
    "    for i in a:\n",
    "        if type(i)==list:\n",
    "            for j in i :\n",
    "                if type(j) == int or type(j)== float:\n",
    "                    n.append(j)\n",
    "                    return n "
   ]
  },
  {
   "cell_type": "code",
   "execution_count": 63,
   "id": "f7e8fc6d-e3f7-432a-bdf2-0dee7ef7cf5a",
   "metadata": {},
   "outputs": [
    {
     "data": {
      "text/plain": [
       "[1]"
      ]
     },
     "execution_count": 63,
     "metadata": {},
     "output_type": "execute_result"
    }
   ],
   "source": [
    "test7(l)"
   ]
  },
  {
   "cell_type": "code",
   "execution_count": 64,
   "id": "bbce4227-81ee-46af-8259-1a918f22fcaa",
   "metadata": {},
   "outputs": [],
   "source": [
    "l2= [1,2,3,4,5,\"Parth\",\"Data science\",[111.2,200,399,43,225]]"
   ]
  },
  {
   "cell_type": "code",
   "execution_count": 65,
   "id": "d13181e7-48bd-4a79-93a7-fa36906bc7ee",
   "metadata": {},
   "outputs": [
    {
     "data": {
      "text/plain": [
       "[111.2]"
      ]
     },
     "execution_count": 65,
     "metadata": {},
     "output_type": "execute_result"
    }
   ],
   "source": [
    "test7(l2)"
   ]
  },
  {
   "cell_type": "code",
   "execution_count": 66,
   "id": "b6ddcee0-8f87-4c64-b6b6-ab36c2b8e946",
   "metadata": {},
   "outputs": [],
   "source": [
    "def test7(a) : \n",
    "    n = []\n",
    "    for i in a :\n",
    "        if type(i) == list :\n",
    "            for j in i :\n",
    "                if type(j) == int or type(j) == float :\n",
    "                    n.append(j)\n",
    "        else :\n",
    "            if type(i) == int or type(i) == float :\n",
    "                n.append(i)\n",
    "    return n\n",
    "            "
   ]
  },
  {
   "cell_type": "code",
   "execution_count": 67,
   "id": "1b1dd13a-7893-4877-8283-4e5e702b10af",
   "metadata": {},
   "outputs": [
    {
     "data": {
      "text/plain": [
       "[1, 2, 3, 4, 5, 111.2, 200, 399, 43, 225]"
      ]
     },
     "execution_count": 67,
     "metadata": {},
     "output_type": "execute_result"
    }
   ],
   "source": [
    "3test7(l2)"
   ]
  },
  {
   "cell_type": "code",
   "execution_count": 77,
   "id": "7bbccbe3-5eb3-47d7-a937-1771308826bb",
   "metadata": {},
   "outputs": [],
   "source": [
    "# return has to be in same line as for command to return valid output \n",
    "def test7(a) : \n",
    "    n = []\n",
    "    for i in a :\n",
    "        if type(i) == list :\n",
    "            for j in i :\n",
    "                if type(j) == int or type(j) == float :\n",
    "                    n.append(j)\n",
    "            return n"
   ]
  },
  {
   "cell_type": "code",
   "execution_count": 78,
   "id": "1dd217d6-6a87-403a-82df-de5fb45aa6c9",
   "metadata": {},
   "outputs": [
    {
     "data": {
      "text/plain": [
       "[111.2, 200, 399, 43, 225]"
      ]
     },
     "execution_count": 78,
     "metadata": {},
     "output_type": "execute_result"
    }
   ],
   "source": [
    "test7(l2)"
   ]
  },
  {
   "cell_type": "code",
   "execution_count": 79,
   "id": "2094388a-cf83-417f-baa4-231651527a93",
   "metadata": {},
   "outputs": [],
   "source": [
    "def test7(a) : \n",
    "    n = []\n",
    "    for i in a :\n",
    "        if type(i) == list :\n",
    "            for j in i :\n",
    "                if type(j) == int or type(j) == float :\n",
    "                    n.append(j)\n",
    "    return n"
   ]
  },
  {
   "cell_type": "code",
   "execution_count": 80,
   "id": "3771d4f1-043e-4833-ae59-08eddda08f9e",
   "metadata": {},
   "outputs": [
    {
     "data": {
      "text/plain": [
       "[111.2, 200, 399, 43, 225]"
      ]
     },
     "execution_count": 80,
     "metadata": {},
     "output_type": "execute_result"
    }
   ],
   "source": [
    "test7(l2)"
   ]
  },
  {
   "cell_type": "code",
   "execution_count": 81,
   "id": "07c0c45d-bac7-49f2-94c1-c4910cc7770e",
   "metadata": {},
   "outputs": [],
   "source": [
    "# what if return command is not in align with for c command "
   ]
  },
  {
   "cell_type": "code",
   "execution_count": 85,
   "id": "04b7225f-25d5-43a9-a621-8072f791643b",
   "metadata": {},
   "outputs": [],
   "source": [
    "def test7(a) : \n",
    "    n = []\n",
    "    for i in a :\n",
    "        if type(i) == list :\n",
    "            for j in i :\n",
    "                if type(j) == int or type(j) == float :\n",
    "                    n.append(j)\n",
    "        return n"
   ]
  },
  {
   "cell_type": "code",
   "execution_count": 86,
   "id": "b255cb8c-8aa6-4f36-992d-803d4ba3141e",
   "metadata": {},
   "outputs": [
    {
     "data": {
      "text/plain": [
       "[]"
      ]
     },
     "execution_count": 86,
     "metadata": {},
     "output_type": "execute_result"
    }
   ],
   "source": [
    "test7(l2)"
   ]
  },
  {
   "cell_type": "code",
   "execution_count": 87,
   "id": "18d74437-d1c7-4817-b6cb-174a5f2f3fd2",
   "metadata": {},
   "outputs": [],
   "source": [
    "def test7(a) : \n",
    "    n = []\n",
    "    for i in a :\n",
    "        if type(i) == list :\n",
    "            for j in i :\n",
    "                if type(j) == int or type(j) == float :\n",
    "                    n.append(j)\n",
    "            return n"
   ]
  },
  {
   "cell_type": "code",
   "execution_count": 88,
   "id": "8e107984-6691-4de6-9715-a26cfe56a321",
   "metadata": {},
   "outputs": [
    {
     "data": {
      "text/plain": [
       "[111.2, 200, 399, 43, 225]"
      ]
     },
     "execution_count": 88,
     "metadata": {},
     "output_type": "execute_result"
    }
   ],
   "source": [
    "test7(l2)"
   ]
  },
  {
   "cell_type": "code",
   "execution_count": 89,
   "id": "1e50b599-969b-4ad8-b2e7-a0720d901f6c",
   "metadata": {},
   "outputs": [],
   "source": [
    "def test7(a) : \n",
    "    n = []\n",
    "    for i in a :\n",
    "        if type(i) == list :\n",
    "            for j in i :\n",
    "                if type(j) == int or type(j) == float :\n",
    "                    n.append(j)\n",
    "                return n"
   ]
  },
  {
   "cell_type": "code",
   "execution_count": 90,
   "id": "ec29c2c1-8f62-4c3c-b7a0-798dab2eccf7",
   "metadata": {},
   "outputs": [
    {
     "data": {
      "text/plain": [
       "[111.2]"
      ]
     },
     "execution_count": 90,
     "metadata": {},
     "output_type": "execute_result"
    }
   ],
   "source": [
    "test7(l2)"
   ]
  },
  {
   "cell_type": "code",
   "execution_count": 91,
   "id": "1545d8b1-d316-438c-9934-ad0cce94f1a8",
   "metadata": {},
   "outputs": [],
   "source": [
    " ## error in intendenation and return function are inevitable , to reduce those error try to match with for function "
   ]
  },
  {
   "cell_type": "code",
   "execution_count": 92,
   "id": "3e5e189d-7aae-4759-b87f-7b661477be67",
   "metadata": {},
   "outputs": [],
   "source": [
    "# Part 2 "
   ]
  },
  {
   "cell_type": "code",
   "execution_count": 93,
   "id": "4cabdf39-e60c-448f-8c1b-fa1016e51d45",
   "metadata": {},
   "outputs": [],
   "source": [
    "def test(a,b,c,d,e):\n",
    "    pass"
   ]
  },
  {
   "cell_type": "code",
   "execution_count": 94,
   "id": "7a3c5a48-5bf6-4a4b-8046-d75472a43a8e",
   "metadata": {},
   "outputs": [
    {
     "data": {
      "text/plain": [
       "<function __main__.test(a, b, c, d, e)>"
      ]
     },
     "execution_count": 94,
     "metadata": {},
     "output_type": "execute_result"
    }
   ],
   "source": [
    "test"
   ]
  },
  {
   "cell_type": "code",
   "execution_count": 95,
   "id": "efa37749-b44a-4824-81c9-49420b49bc88",
   "metadata": {},
   "outputs": [],
   "source": [
    "test(1,2,3,4,5)"
   ]
  },
  {
   "cell_type": "code",
   "execution_count": 96,
   "id": "10478faf-e427-4139-af9e-cbffa8cf4550",
   "metadata": {},
   "outputs": [],
   "source": [
    "# how to pass any number of data with fuction"
   ]
  },
  {
   "cell_type": "code",
   "execution_count": 97,
   "id": "1b3caa05-f62c-4f42-8590-ee06f620e6d5",
   "metadata": {},
   "outputs": [
    {
     "ename": "TypeError",
     "evalue": "test() takes 5 positional arguments but 7 were given",
     "output_type": "error",
     "traceback": [
      "\u001b[0;31m---------------------------------------------------------------------------\u001b[0m",
      "\u001b[0;31mTypeError\u001b[0m                                 Traceback (most recent call last)",
      "Cell \u001b[0;32mIn[97], line 1\u001b[0m\n\u001b[0;32m----> 1\u001b[0m \u001b[43mtest\u001b[49m\u001b[43m(\u001b[49m\u001b[38;5;241;43m1\u001b[39;49m\u001b[43m,\u001b[49m\u001b[38;5;241;43m2\u001b[39;49m\u001b[43m,\u001b[49m\u001b[38;5;241;43m3\u001b[39;49m\u001b[43m,\u001b[49m\u001b[38;5;241;43m4\u001b[39;49m\u001b[43m,\u001b[49m\u001b[38;5;241;43m5\u001b[39;49m\u001b[43m,\u001b[49m\u001b[38;5;241;43m6\u001b[39;49m\u001b[43m,\u001b[49m\u001b[38;5;241;43m7\u001b[39;49m\u001b[43m)\u001b[49m\n",
      "\u001b[0;31mTypeError\u001b[0m: test() takes 5 positional arguments but 7 were given"
     ]
    }
   ],
   "source": [
    "test(1,2,3,4,5,6,7)"
   ]
  },
  {
   "cell_type": "code",
   "execution_count": 98,
   "id": "ad0c1753-6082-47b7-93d3-39c357b92c2a",
   "metadata": {},
   "outputs": [],
   "source": [
    "# can take any number of argument \n",
    "# ARGS IS NOT A KEYWORD \n",
    "def test1(*args):\n",
    "    return args"
   ]
  },
  {
   "cell_type": "code",
   "execution_count": 99,
   "id": "0ae34931-8efe-4bb3-a574-4244b08974e9",
   "metadata": {},
   "outputs": [
    {
     "data": {
      "text/plain": [
       "(2,)"
      ]
     },
     "execution_count": 99,
     "metadata": {},
     "output_type": "execute_result"
    }
   ],
   "source": [
    "test1(2)"
   ]
  },
  {
   "cell_type": "code",
   "execution_count": 101,
   "id": "cc525f40-0581-43ed-94e6-692b778e4675",
   "metadata": {},
   "outputs": [
    {
     "data": {
      "text/plain": [
       "(1, 2, 3, 4, 5, 6, 7)"
      ]
     },
     "execution_count": 101,
     "metadata": {},
     "output_type": "execute_result"
    }
   ],
   "source": [
    "test1(1,2,3,4,5,6,7)"
   ]
  },
  {
   "cell_type": "code",
   "execution_count": 102,
   "id": "94132f3b-8f97-4c69-9b55-0ab2274c3a5e",
   "metadata": {},
   "outputs": [],
   "source": [
    "def test1(*parth):\n",
    "    return parth"
   ]
  },
  {
   "cell_type": "code",
   "execution_count": 110,
   "id": "70092a69-cd35-459a-9435-5345e5905db6",
   "metadata": {},
   "outputs": [],
   "source": [
    "def test3(*args, a):\n",
    "    return args,a "
   ]
  },
  {
   "cell_type": "code",
   "execution_count": 111,
   "id": "acf53bd6-b3f0-4059-bc6b-3b0751a0335b",
   "metadata": {},
   "outputs": [
    {
     "ename": "TypeError",
     "evalue": "test3() missing 1 required keyword-only argument: 'a'",
     "output_type": "error",
     "traceback": [
      "\u001b[0;31m---------------------------------------------------------------------------\u001b[0m",
      "\u001b[0;31mTypeError\u001b[0m                                 Traceback (most recent call last)",
      "Cell \u001b[0;32mIn[111], line 1\u001b[0m\n\u001b[0;32m----> 1\u001b[0m \u001b[43mtest3\u001b[49m\u001b[43m(\u001b[49m\u001b[38;5;241;43m3\u001b[39;49m\u001b[43m)\u001b[49m\n",
      "\u001b[0;31mTypeError\u001b[0m: test3() missing 1 required keyword-only argument: 'a'"
     ]
    }
   ],
   "source": [
    "test3(3)"
   ]
  },
  {
   "cell_type": "code",
   "execution_count": 112,
   "id": "351bf5be-0161-46e9-a977-15f67778c1df",
   "metadata": {},
   "outputs": [
    {
     "data": {
      "text/plain": [
       "((3,), 'a')"
      ]
     },
     "execution_count": 112,
     "metadata": {},
     "output_type": "execute_result"
    }
   ],
   "source": [
    "test3(3, a= \"a\")"
   ]
  },
  {
   "cell_type": "code",
   "execution_count": 114,
   "id": "83e2ae65-bca4-4a67-bc48-31da4f471bd2",
   "metadata": {},
   "outputs": [],
   "source": [
    "def test4(*args):\n",
    "    l=[]\n",
    "    for i in args:\n",
    "        if type(i)==list:\n",
    "            l.append(i)\n",
    "            \n",
    "    return l \n",
    "    "
   ]
  },
  {
   "cell_type": "code",
   "execution_count": 115,
   "id": "6975d97b-f5f8-48bc-a608-a5d12c892bad",
   "metadata": {},
   "outputs": [
    {
     "data": {
      "text/plain": [
       "[[1, 2, 3, 4, 4], [4, 5, 6], [6, 7, 8]]"
      ]
     },
     "execution_count": 115,
     "metadata": {},
     "output_type": "execute_result"
    }
   ],
   "source": [
    "test4(1,2,3,[1,2,3,4,4] , (1,2,3,4,4) , \"Parth\" , [4,5,6] , [6,7,8])"
   ]
  },
  {
   "cell_type": "code",
   "execution_count": 117,
   "id": "247aeb77-c8d5-4ef2-9f8b-9ea2bdffbae5",
   "metadata": {},
   "outputs": [],
   "source": [
    "# any number of input in key and value pair formats\n",
    "def test5(**kwargs):\n",
    "    return kwargs"
   ]
  },
  {
   "cell_type": "code",
   "execution_count": 118,
   "id": "7307d3f8-cd21-4cd5-af46-a0682b988dce",
   "metadata": {},
   "outputs": [
    {
     "data": {
      "text/plain": [
       "{}"
      ]
     },
     "execution_count": 118,
     "metadata": {},
     "output_type": "execute_result"
    }
   ],
   "source": [
    "test5()"
   ]
  },
  {
   "cell_type": "code",
   "execution_count": 119,
   "id": "7157d580-77a6-499e-a325-abe32c7c0d3a",
   "metadata": {},
   "outputs": [
    {
     "data": {
      "text/plain": [
       "dict"
      ]
     },
     "execution_count": 119,
     "metadata": {},
     "output_type": "execute_result"
    }
   ],
   "source": [
    "type(test5())"
   ]
  },
  {
   "cell_type": "code",
   "execution_count": 121,
   "id": "db6a3870-0feb-43e4-9146-46c443bf11b9",
   "metadata": {},
   "outputs": [
    {
     "data": {
      "text/plain": [
       "{'a': 34, 'b': 23, 'c': [1, 2, 3, 4], 'd': ('Parth', 'Data science ')}"
      ]
     },
     "execution_count": 121,
     "metadata": {},
     "output_type": "execute_result"
    }
   ],
   "source": [
    "# output in format of keys: value \n",
    "test5(a = 34 , b = 23 , c = [1,2,3,4] , d = (\"Parth\" , \"Data science \"))"
   ]
  },
  {
   "cell_type": "code",
   "execution_count": 124,
   "id": "6e1f9674-6a3f-4c80-bed5-4e0bd442a3da",
   "metadata": {},
   "outputs": [],
   "source": [
    "def test6(**kwarg):\n",
    "    for i in kwarg.keys():\n",
    "        if type(kwarg[i]) == list:\n",
    "            return i, kwarg[i]"
   ]
  },
  {
   "cell_type": "code",
   "execution_count": 125,
   "id": "733e4d35-6902-471a-9ab1-50584732f858",
   "metadata": {},
   "outputs": [
    {
     "data": {
      "text/plain": [
       "('c', [1, 2, 3, 4])"
      ]
     },
     "execution_count": 125,
     "metadata": {},
     "output_type": "execute_result"
    }
   ],
   "source": [
    "test6(a = 34 , b = 23 , c = [1,2,3,4] , d = (\"Parth\" , \"Data science \"))"
   ]
  },
  {
   "cell_type": "code",
   "execution_count": 128,
   "id": "7a4c1082-7a20-4dfc-a2d5-55a18899bec1",
   "metadata": {},
   "outputs": [],
   "source": [
    "def test6(**kwarg):\n",
    "    for i in kwarg.keys():\n",
    "        if type(kwarg[i]) == tuple:\n",
    "            return i, kwarg[i]"
   ]
  },
  {
   "cell_type": "code",
   "execution_count": 129,
   "id": "068d9db0-f6f7-46ae-8b8d-b954f59b7c79",
   "metadata": {},
   "outputs": [
    {
     "data": {
      "text/plain": [
       "('d', ('Parth', 'Data science '))"
      ]
     },
     "execution_count": 129,
     "metadata": {},
     "output_type": "execute_result"
    }
   ],
   "source": [
    "test6(a = 34 , b = 23 , c = [1,2,3,4] , d = (\"Parth\" , \"Data science \"))"
   ]
  },
  {
   "cell_type": "code",
   "execution_count": 131,
   "id": "3d9ad7d7-1490-4eaa-a5b5-d5747a949c92",
   "metadata": {},
   "outputs": [],
   "source": [
    "def test7(*args,**kwargs):\n",
    "    return args, kwargs "
   ]
  },
  {
   "cell_type": "code",
   "execution_count": 135,
   "id": "208ee658-2a73-402d-affd-14b1b9662ef4",
   "metadata": {},
   "outputs": [
    {
     "data": {
      "text/plain": [
       "((2, 3, 4, 5, 6),\n",
       " {'a': 34, 'b': 23, 'c': [1, 2, 3, 4], 'd': ('Parth', 'Data science ')})"
      ]
     },
     "execution_count": 135,
     "metadata": {},
     "output_type": "execute_result"
    }
   ],
   "source": [
    "# args return -> num data here\n",
    "# kwargs return key: value based data \n",
    "test7(2,3,4,5,6,a = 34 , b = 23 , c = [1,2,3,4] , d = (\"Parth\" , \"Data science \"))"
   ]
  },
  {
   "cell_type": "code",
   "execution_count": 136,
   "id": "00abe62b-dd04-4646-aa08-01307adb02f8",
   "metadata": {},
   "outputs": [
    {
     "data": {
      "text/plain": [
       "range(1, 10)"
      ]
     },
     "execution_count": 136,
     "metadata": {},
     "output_type": "execute_result"
    }
   ],
   "source": [
    "# Generator function \n",
    "range(1,10)"
   ]
  },
  {
   "cell_type": "code",
   "execution_count": 138,
   "id": "56461615-fdd2-4a6c-9580-1f271eb4f82f",
   "metadata": {},
   "outputs": [
    {
     "name": "stdout",
     "output_type": "stream",
     "text": [
      "1\n",
      "2\n",
      "3\n",
      "4\n",
      "5\n",
      "6\n",
      "7\n",
      "8\n",
      "9\n"
     ]
    }
   ],
   "source": [
    "for i in range(1,10):\n",
    "    print(i)"
   ]
  },
  {
   "cell_type": "code",
   "execution_count": 140,
   "id": "1f9db21b-3d1e-4835-85b9-386cbbd6f973",
   "metadata": {},
   "outputs": [],
   "source": [
    "l = [1,2,3,4,5,6,7,8,\"Parth\",\"Data\"]"
   ]
  },
  {
   "cell_type": "code",
   "execution_count": 141,
   "id": "5aa0b692-89c1-4ad0-a1df-e9036723bca5",
   "metadata": {},
   "outputs": [],
   "source": [
    "def test(a):\n",
    "    n=[]\n",
    "    for i in a:\n",
    "        if type(i) == int:\n",
    "            n.append(i)\n",
    "    return n\n",
    "        "
   ]
  },
  {
   "cell_type": "code",
   "execution_count": 142,
   "id": "9fd8b0ac-76fc-42e7-91aa-c5192c2c6735",
   "metadata": {},
   "outputs": [
    {
     "data": {
      "text/plain": [
       "[1, 2, 3, 4, 5, 6, 7, 8]"
      ]
     },
     "execution_count": 142,
     "metadata": {},
     "output_type": "execute_result"
    }
   ],
   "source": [
    "test(l)"
   ]
  },
  {
   "cell_type": "code",
   "execution_count": 1,
   "id": "bd2fc48c-6ebf-4cd6-b4dd-c19b62f9be54",
   "metadata": {},
   "outputs": [
    {
     "data": {
      "text/plain": [
       "range(1, 10)"
      ]
     },
     "execution_count": 1,
     "metadata": {},
     "output_type": "execute_result"
    }
   ],
   "source": [
    "range(1,10)"
   ]
  },
  {
   "cell_type": "code",
   "execution_count": 2,
   "id": "6e57f1ec-b907-49aa-ae77-96c1b09bc84d",
   "metadata": {},
   "outputs": [
    {
     "name": "stdout",
     "output_type": "stream",
     "text": [
      "1\n",
      "2\n",
      "3\n",
      "4\n",
      "5\n",
      "6\n",
      "7\n",
      "8\n",
      "9\n"
     ]
    }
   ],
   "source": [
    "for i in range(1,10):\n",
    "    print(i)"
   ]
  },
  {
   "cell_type": "code",
   "execution_count": 3,
   "id": "7788827d-74d5-495a-be0f-92109bc383bc",
   "metadata": {},
   "outputs": [],
   "source": [
    "l = [1,2,3,4,4,5,6,7,8,7,\"Parth\"  , \"Data science \"]"
   ]
  },
  {
   "cell_type": "code",
   "execution_count": 4,
   "id": "877a553a-5145-45fc-8c5a-d52d8dc88329",
   "metadata": {},
   "outputs": [],
   "source": [
    "def test1(a) :\n",
    "    n =[]\n",
    "    for i in a :\n",
    "        if type(i) == int :\n",
    "            n.append(i)\n",
    "    return n"
   ]
  },
  {
   "cell_type": "code",
   "execution_count": 5,
   "id": "7df2ad2a-2b91-445a-a3e4-3799cf0f8a73",
   "metadata": {},
   "outputs": [
    {
     "data": {
      "text/plain": [
       "[1, 2, 3, 4, 4, 5, 6, 7, 8, 7]"
      ]
     },
     "execution_count": 5,
     "metadata": {},
     "output_type": "execute_result"
    }
   ],
   "source": [
    "test1(l)"
   ]
  },
  {
   "cell_type": "code",
   "execution_count": 6,
   "id": "bcdca0eb-926c-41b2-95ad-7bc6f304ceb1",
   "metadata": {},
   "outputs": [],
   "source": [
    "# fibonanci series  \n",
    "# 0,1,1,2,3,5,8,13,21,34"
   ]
  },
  {
   "cell_type": "code",
   "execution_count": 12,
   "id": "d0e8ed3c-4c89-490c-9580-64ef3d7ea221",
   "metadata": {},
   "outputs": [],
   "source": [
    "def test_fib(n):\n",
    "    a,b =0,1 \n",
    "    for i in range(n):\n",
    "        yield a\n",
    "        a, b=b, a+b "
   ]
  },
  {
   "cell_type": "code",
   "execution_count": 13,
   "id": "f1fa5493-b8b7-4357-93c8-17b20450b0ca",
   "metadata": {},
   "outputs": [
    {
     "name": "stdout",
     "output_type": "stream",
     "text": [
      "0\n",
      "1\n",
      "1\n",
      "2\n",
      "3\n",
      "5\n",
      "8\n",
      "13\n",
      "21\n",
      "34\n"
     ]
    }
   ],
   "source": [
    "for i in test_fib(10):\n",
    "    print(i)"
   ]
  },
  {
   "cell_type": "code",
   "execution_count": 14,
   "id": "55ecdcbd-0f38-406a-9efb-6e24ecc1506b",
   "metadata": {},
   "outputs": [
    {
     "name": "stdout",
     "output_type": "stream",
     "text": [
      "0\n",
      "1\n",
      "1\n",
      "2\n",
      "3\n",
      "5\n",
      "8\n",
      "13\n",
      "21\n",
      "34\n",
      "55\n",
      "89\n",
      "144\n",
      "233\n",
      "377\n",
      "610\n",
      "987\n",
      "1597\n",
      "2584\n",
      "4181\n"
     ]
    }
   ],
   "source": [
    "for i in test_fib(20):\n",
    "    print(i)"
   ]
  },
  {
   "cell_type": "code",
   "execution_count": null,
   "id": "7acb0bbc-228b-4594-9fbc-470e88ea4baf",
   "metadata": {},
   "outputs": [],
   "source": []
  }
 ],
 "metadata": {
  "kernelspec": {
   "display_name": "Python 3 (ipykernel)",
   "language": "python",
   "name": "python3"
  },
  "language_info": {
   "codemirror_mode": {
    "name": "ipython",
    "version": 3
   },
   "file_extension": ".py",
   "mimetype": "text/x-python",
   "name": "python",
   "nbconvert_exporter": "python",
   "pygments_lexer": "ipython3",
   "version": "3.10.8"
  }
 },
 "nbformat": 4,
 "nbformat_minor": 5
}
